{
 "cells": [
  {
   "cell_type": "code",
   "execution_count": 9,
   "id": "eae3673b",
   "metadata": {},
   "outputs": [],
   "source": [
    "import pandas as pd\n",
    "import numpy as np\n",
    "import geopandas as gpd\n",
    "from pysal.model import mgwr\n",
    "# from sklearn.preprocessing import StandardScaler\n",
    "from sklearn.model_selection import KFold\n",
    "from sklearn.metrics import r2_score\n",
    "from sklearn.metrics import mean_squared_error\n",
    "import matplotlib.pyplot as plt\n",
    "import seaborn as sns\n",
    "\n",
    "import statsmodels.api as sm\n",
    "import matplotlib\n",
    "\n",
    "import libpysal\n",
    "import spreg\n",
    "import esda\n",
    "\n",
    "import os"
   ]
  },
  {
   "cell_type": "code",
   "execution_count": 3,
   "id": "b1149eba",
   "metadata": {},
   "outputs": [],
   "source": [
    "df = pd.read_csv(\"../Data/modeling.csv\")\n",
    "gdf = gpd.read_file(\"../Data/shp/merge_all.shp\")"
   ]
  },
  {
   "cell_type": "code",
   "execution_count": 4,
   "id": "85485169",
   "metadata": {},
   "outputs": [
    {
     "data": {
      "text/plain": [
       "286"
      ]
     },
     "execution_count": 4,
     "metadata": {},
     "output_type": "execute_result"
    }
   ],
   "source": [
    "df['Geography'] = df['Geography'].astype(str)\n",
    "merge = pd.merge(gdf, df, left_on=\"geoid20\", right_on=\"Geography\", how=\"right\")\n",
    "\n",
    "len(merge)"
   ]
  },
  {
   "cell_type": "code",
   "execution_count": 5,
   "id": "6b157896",
   "metadata": {},
   "outputs": [
    {
     "name": "stdout",
     "output_type": "stream",
     "text": [
      "moran I: 0.2107144748390494\n"
     ]
    },
    {
     "name": "stderr",
     "output_type": "stream",
     "text": [
      "C:\\Users\\ryanz\\AppData\\Local\\Temp\\ipykernel_16048\\102347822.py:38: FutureWarning: `use_index` defaults to False but will default to True in future. Set True/False directly to control this behavior and silence this warning\n",
      "  w = libpysal.weights.Queen.from_dataframe(merge)\n",
      "C:\\Users\\ryanz\\anaconda3\\envs\\blizzard\\Lib\\site-packages\\spreg\\ml_error.py:184: RuntimeWarning: Method 'bounded' does not support relative tolerance in x; defaulting to absolute tolerance.\n",
      "  res = minimize_scalar(\n"
     ]
    }
   ],
   "source": [
    "x_1 = merge[[\n",
    "        'Geography',\n",
    "         'his_num_311_per_property',\n",
    "         'neighbor_his_num_per_property',\n",
    "         'snow_depth',\n",
    "         'percent_below_poverty',\n",
    "         'percent_civilian_unemployed',\n",
    "         'per_capita_income',\n",
    "         'percent_no_highschool',\n",
    "         'percent_65older',\n",
    "         'percent_17younger',\n",
    "         'percent_household_disability',\n",
    "         'percent_single_parent_household',\n",
    "         'percent_minority',\n",
    "         'percent_notwell_english',\n",
    "         'percent_singleunits',\n",
    "         'percent_multiunit',\n",
    "         'percent_mobile_homes',\n",
    "         'percent_owneroccupiedunit',\n",
    "         'percent_crowding',\n",
    "         'percent_group_quarters',\n",
    "         'median_year_properties_built',\n",
    "         'median_value_properties_built',\n",
    "         'percent_no_vehicle',\n",
    "         '311_index_per_property'\n",
    "        ]]\n",
    "\n",
    "x_1 = x_1.set_index(\"Geography\")\n",
    "y = x_1.pop(\"311_index_per_property\")\n",
    "\n",
    "# Standardization function\n",
    "def standarize_data(data, stats):\n",
    "    return (data - stats['mean'])/ stats['std']\n",
    "\n",
    "x_1_stats = x_1.describe().transpose()\n",
    "x_2 = standarize_data(x_1,x_1_stats)\n",
    "\n",
    "w = libpysal.weights.Queen.from_dataframe(merge)\n",
    "moran = esda.Moran(merge[\"311_index_per_property\"], w)\n",
    "print(\"moran I: \" + str(moran.I))\n",
    "\n",
    "y_name = \"311_index_per_property\"\n",
    "y = np.array(merge[\"311_index_per_property\"]).T\n",
    "\n",
    "x_names = [\n",
    "         'his_num_311_per_property',\n",
    "         'neighbor_his_num_per_property',\n",
    "         'snow_depth',\n",
    "         'percent_below_poverty',\n",
    "         'percent_civilian_unemployed',\n",
    "         'per_capita_income',\n",
    "         'percent_no_highschool',\n",
    "         'percent_65older',\n",
    "         'percent_17younger',\n",
    "         'percent_household_disability',\n",
    "         'percent_single_parent_household',\n",
    "         'percent_minority',\n",
    "         'percent_notwell_english',\n",
    "         'percent_singleunits',\n",
    "         'percent_multiunit',\n",
    "         'percent_mobile_homes',\n",
    "         'percent_owneroccupiedunit',\n",
    "         'percent_crowding',\n",
    "         'percent_group_quarters',\n",
    "         'median_year_properties_built',\n",
    "         'median_value_properties_built',\n",
    "         'percent_no_vehicle'\n",
    "]\n",
    "\n",
    "x = np.array([x_2[var] for var in x_names]).T\n",
    "\n",
    "# lag model\n",
    "error_model = spreg.ML_Error(\n",
    "    y,\n",
    "    x,\n",
    "    w=w,\n",
    "    name_y=y_name,\n",
    "    name_x=x_names\n",
    ")"
   ]
  },
  {
   "cell_type": "code",
   "execution_count": 6,
   "id": "1d4255af",
   "metadata": {},
   "outputs": [
    {
     "data": {
      "text/plain": [
       "0.5274745879760776"
      ]
     },
     "execution_count": 6,
     "metadata": {},
     "output_type": "execute_result"
    }
   ],
   "source": [
    "error_model.pr2"
   ]
  },
  {
   "cell_type": "code",
   "execution_count": 7,
   "id": "d1f9968b",
   "metadata": {},
   "outputs": [
    {
     "name": "stdout",
     "output_type": "stream",
     "text": [
      "RMSE of GWR:  3.6579785420553588\n"
     ]
    },
    {
     "name": "stderr",
     "output_type": "stream",
     "text": [
      "C:\\Users\\ryanz\\anaconda3\\envs\\blizzard\\Lib\\site-packages\\sklearn\\metrics\\_regression.py:483: FutureWarning: 'squared' is deprecated in version 1.4 and will be removed in 1.6. To calculate the root mean squared error, use the function'root_mean_squared_error'.\n",
      "  warnings.warn(\n"
     ]
    }
   ],
   "source": [
    "y_pred = error_model.predy\n",
    "rmse = mean_squared_error(y , y_pred, squared=False)\n",
    "print(\"RMSE of GWR: \", rmse)"
   ]
  },
  {
   "cell_type": "code",
   "execution_count": 8,
   "id": "d6d1bb70",
   "metadata": {},
   "outputs": [
    {
     "name": "stdout",
     "output_type": "stream",
     "text": [
      "REGRESSION RESULTS\n",
      "------------------\n",
      "\n",
      "SUMMARY OF OUTPUT: ML SPATIAL ERROR (METHOD = full)\n",
      "---------------------------------------------------\n",
      "Data set            :     unknown\n",
      "Weights matrix      :     unknown\n",
      "Dependent Variable  :311_index_per_property                Number of Observations:         286\n",
      "Mean dependent var  :     10.9277                Number of Variables   :          23\n",
      "S.D. dependent var  :      5.3303                Degrees of Freedom    :         263\n",
      "Pseudo R-squared    :      0.5275\n",
      "Log likelihood      :   -772.4152\n",
      "Sigma-square ML     :     12.8142                Akaike info criterion :    1590.830\n",
      "S.E of regression   :      3.5797                Schwarz criterion     :    1674.918\n",
      "\n",
      "------------------------------------------------------------------------------------\n",
      "            Variable     Coefficient       Std.Error     z-Statistic     Probability\n",
      "------------------------------------------------------------------------------------\n",
      "            CONSTANT        10.92235         0.28867        37.83637         0.00000\n",
      "his_num_311_per_property         3.40296         0.25356        13.42084         0.00000\n",
      "neighbor_his_num_per_property         0.16097         0.26796         0.60074         0.54802\n",
      "          snow_depth         0.83185         0.34165         2.43482         0.01490\n",
      "percent_below_poverty        -0.20465         0.34784        -0.58833         0.55631\n",
      "percent_civilian_unemployed        -0.03798         0.23680        -0.16040         0.87256\n",
      "   per_capita_income        -0.07647         0.39001        -0.19606         0.84456\n",
      "percent_no_highschool        -0.13812         0.28641        -0.48225         0.62963\n",
      "     percent_65older        -0.05361         0.29599        -0.18111         0.85628\n",
      "   percent_17younger        -0.51115         0.31708        -1.61203         0.10696\n",
      "percent_household_disability         0.50813         0.26633         1.90789         0.05640\n",
      "percent_single_parent_household         0.10885         0.23668         0.45988         0.64560\n",
      "    percent_minority         1.69831         0.38230         4.44239         0.00001\n",
      "percent_notwell_english        -0.15958         0.27927        -0.57141         0.56772\n",
      " percent_singleunits         0.76316         0.35261         2.16434         0.03044\n",
      "   percent_multiunit        -0.28795         0.33681        -0.85493         0.39259\n",
      "percent_mobile_homes         0.01237         0.22145         0.05586         0.95545\n",
      "percent_owneroccupiedunit        -0.81235         0.37705        -2.15447         0.03120\n",
      "    percent_crowding         0.15384         0.23531         0.65377         0.51326\n",
      "percent_group_quarters         0.27341         0.25052         1.09138         0.27511\n",
      "median_year_properties_built         0.85010         0.27602         3.07982         0.00207\n",
      "median_value_properties_built         0.23430         0.41579         0.56351         0.57309\n",
      "  percent_no_vehicle        -0.00056         0.33303        -0.00168         0.99866\n",
      "              lambda         0.26657         0.08676         3.07270         0.00212\n",
      "------------------------------------------------------------------------------------\n",
      "================================ END OF REPORT =====================================\n"
     ]
    }
   ],
   "source": [
    "print(error_model.summary)"
   ]
  }
 ],
 "metadata": {
  "kernelspec": {
   "display_name": "Python 3 (ipykernel)",
   "language": "python",
   "name": "python3"
  },
  "language_info": {
   "codemirror_mode": {
    "name": "ipython",
    "version": 3
   },
   "file_extension": ".py",
   "mimetype": "text/x-python",
   "name": "python",
   "nbconvert_exporter": "python",
   "pygments_lexer": "ipython3",
   "version": "3.12.3"
  }
 },
 "nbformat": 4,
 "nbformat_minor": 5
}
