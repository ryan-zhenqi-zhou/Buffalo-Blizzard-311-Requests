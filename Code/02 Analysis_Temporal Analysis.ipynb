{
 "cells": [
  {
   "cell_type": "code",
   "execution_count": 2,
   "id": "7c0c3c74-17dd-4845-be96-263d3f9fe40b",
   "metadata": {},
   "outputs": [
    {
     "data": {
      "text/html": [
       "    <style>\n",
       "        .bk-notebook-logo {\n",
       "            display: block;\n",
       "            width: 20px;\n",
       "            height: 20px;\n",
       "            background-image: url(data:image/png;base64,iVBORw0KGgoAAAANSUhEUgAAABQAAAAUCAYAAACNiR0NAAAABHNCSVQICAgIfAhkiAAAAAlwSFlzAAALEgAACxIB0t1+/AAAABx0RVh0U29mdHdhcmUAQWRvYmUgRmlyZXdvcmtzIENTNui8sowAAAOkSURBVDiNjZRtaJVlGMd/1/08zzln5zjP1LWcU9N0NkN8m2CYjpgQYQXqSs0I84OLIC0hkEKoPtiH3gmKoiJDU7QpLgoLjLIQCpEsNJ1vqUOdO7ppbuec5+V+rj4ctwzd8IIbbi6u+8f1539dt3A78eXC7QizUF7gyV1fD1Yqg4JWz84yffhm0qkFqBogB9rM8tZdtwVsPUhWhGcFJngGeWrPzHm5oaMmkfEg1usvLFyc8jLRqDOMru7AyC8saQr7GG7f5fvDeH7Ej8CM66nIF+8yngt6HWaKh7k49Soy9nXurCi1o3qUbS3zWfrYeQDTB/Qj6kX6Ybhw4B+bOYoLKCC9H3Nu/leUTZ1JdRWkkn2ldcCamzrcf47KKXdAJllSlxAOkRgyHsGC/zRday5Qld9DyoM4/q/rUoy/CXh3jzOu3bHUVZeU+DEn8FInkPBFlu3+nW3Nw0mk6vCDiWg8CeJaxEwuHS3+z5RgY+YBR6V1Z1nxSOfoaPa4LASWxxdNp+VWTk7+4vzaou8v8PN+xo+KY2xsw6une2frhw05CTYOmQvsEhjhWjn0bmXPjpE1+kplmmkP3suftwTubK9Vq22qKmrBhpY4jvd5afdRA3wGjFAgcnTK2s4hY0/GPNIb0nErGMCRxWOOX64Z8RAC4oCXdklmEvcL8o0BfkNK4lUg9HTl+oPlQxdNo3Mg4Nv175e/1LDGzZen30MEjRUtmXSfiTVu1kK8W4txyV6BMKlbgk3lMwYCiusNy9fVfvvwMxv8Ynl6vxoByANLTWplvuj/nF9m2+PDtt1eiHPBr1oIfhCChQMBw6Aw0UulqTKZdfVvfG7VcfIqLG9bcldL/+pdWTLxLUy8Qq38heUIjh4XlzZxzQm19lLFlr8vdQ97rjZVOLf8nclzckbcD4wxXMidpX30sFd37Fv/GtwwhzhxGVAprjbg0gCAEeIgwCZyTV2Z1REEW8O4py0wsjeloKoMr6iCY6dP92H6Vw/oTyICIthibxjm/DfN9lVz8IqtqKYLUXfoKVMVQVVJOElGjrnnUt9T9wbgp8AyYKaGlqingHZU/uG2NTZSVqwHQTWkx9hxjkpWDaCg6Ckj5qebgBVbT3V3NNXMSiWSDdGV3hrtzla7J+duwPOToIg42ChPQOQjspnSlp1V+Gjdged7+8UN5CRAV7a5EdFNwCjEaBR27b3W890TE7g24NAP/mMDXRWrGoFPQI9ls/MWO2dWFAar/xcOIImbbpA3zgAAAABJRU5ErkJggg==);\n",
       "        }\n",
       "    </style>\n",
       "    <div>\n",
       "        <a href=\"https://bokeh.org\" target=\"_blank\" class=\"bk-notebook-logo\"></a>\n",
       "        <span id=\"b09c4564-bc3a-4c51-9a8f-ee596a48eca4\">Loading BokehJS ...</span>\n",
       "    </div>\n"
      ]
     },
     "metadata": {},
     "output_type": "display_data"
    },
    {
     "data": {
      "application/javascript": [
       "'use strict';\n",
       "(function(root) {\n",
       "  function now() {\n",
       "    return new Date();\n",
       "  }\n",
       "\n",
       "  const force = true;\n",
       "\n",
       "  if (typeof root._bokeh_onload_callbacks === \"undefined\" || force === true) {\n",
       "    root._bokeh_onload_callbacks = [];\n",
       "    root._bokeh_is_loading = undefined;\n",
       "  }\n",
       "\n",
       "const JS_MIME_TYPE = 'application/javascript';\n",
       "  const HTML_MIME_TYPE = 'text/html';\n",
       "  const EXEC_MIME_TYPE = 'application/vnd.bokehjs_exec.v0+json';\n",
       "  const CLASS_NAME = 'output_bokeh rendered_html';\n",
       "\n",
       "  /**\n",
       "   * Render data to the DOM node\n",
       "   */\n",
       "  function render(props, node) {\n",
       "    const script = document.createElement(\"script\");\n",
       "    node.appendChild(script);\n",
       "  }\n",
       "\n",
       "  /**\n",
       "   * Handle when an output is cleared or removed\n",
       "   */\n",
       "  function handleClearOutput(event, handle) {\n",
       "    function drop(id) {\n",
       "      const view = Bokeh.index.get_by_id(id)\n",
       "      if (view != null) {\n",
       "        view.model.document.clear()\n",
       "        Bokeh.index.delete(view)\n",
       "      }\n",
       "    }\n",
       "\n",
       "    const cell = handle.cell;\n",
       "\n",
       "    const id = cell.output_area._bokeh_element_id;\n",
       "    const server_id = cell.output_area._bokeh_server_id;\n",
       "\n",
       "    // Clean up Bokeh references\n",
       "    if (id != null) {\n",
       "      drop(id)\n",
       "    }\n",
       "\n",
       "    if (server_id !== undefined) {\n",
       "      // Clean up Bokeh references\n",
       "      const cmd_clean = \"from bokeh.io.state import curstate; print(curstate().uuid_to_server['\" + server_id + \"'].get_sessions()[0].document.roots[0]._id)\";\n",
       "      cell.notebook.kernel.execute(cmd_clean, {\n",
       "        iopub: {\n",
       "          output: function(msg) {\n",
       "            const id = msg.content.text.trim()\n",
       "            drop(id)\n",
       "          }\n",
       "        }\n",
       "      });\n",
       "      // Destroy server and session\n",
       "      const cmd_destroy = \"import bokeh.io.notebook as ion; ion.destroy_server('\" + server_id + \"')\";\n",
       "      cell.notebook.kernel.execute(cmd_destroy);\n",
       "    }\n",
       "  }\n",
       "\n",
       "  /**\n",
       "   * Handle when a new output is added\n",
       "   */\n",
       "  function handleAddOutput(event, handle) {\n",
       "    const output_area = handle.output_area;\n",
       "    const output = handle.output;\n",
       "\n",
       "    // limit handleAddOutput to display_data with EXEC_MIME_TYPE content only\n",
       "    if ((output.output_type != \"display_data\") || (!Object.prototype.hasOwnProperty.call(output.data, EXEC_MIME_TYPE))) {\n",
       "      return\n",
       "    }\n",
       "\n",
       "    const toinsert = output_area.element.find(\".\" + CLASS_NAME.split(' ')[0]);\n",
       "\n",
       "    if (output.metadata[EXEC_MIME_TYPE][\"id\"] !== undefined) {\n",
       "      toinsert[toinsert.length - 1].firstChild.textContent = output.data[JS_MIME_TYPE];\n",
       "      // store reference to embed id on output_area\n",
       "      output_area._bokeh_element_id = output.metadata[EXEC_MIME_TYPE][\"id\"];\n",
       "    }\n",
       "    if (output.metadata[EXEC_MIME_TYPE][\"server_id\"] !== undefined) {\n",
       "      const bk_div = document.createElement(\"div\");\n",
       "      bk_div.innerHTML = output.data[HTML_MIME_TYPE];\n",
       "      const script_attrs = bk_div.children[0].attributes;\n",
       "      for (let i = 0; i < script_attrs.length; i++) {\n",
       "        toinsert[toinsert.length - 1].firstChild.setAttribute(script_attrs[i].name, script_attrs[i].value);\n",
       "        toinsert[toinsert.length - 1].firstChild.textContent = bk_div.children[0].textContent\n",
       "      }\n",
       "      // store reference to server id on output_area\n",
       "      output_area._bokeh_server_id = output.metadata[EXEC_MIME_TYPE][\"server_id\"];\n",
       "    }\n",
       "  }\n",
       "\n",
       "  function register_renderer(events, OutputArea) {\n",
       "\n",
       "    function append_mime(data, metadata, element) {\n",
       "      // create a DOM node to render to\n",
       "      const toinsert = this.create_output_subarea(\n",
       "        metadata,\n",
       "        CLASS_NAME,\n",
       "        EXEC_MIME_TYPE\n",
       "      );\n",
       "      this.keyboard_manager.register_events(toinsert);\n",
       "      // Render to node\n",
       "      const props = {data: data, metadata: metadata[EXEC_MIME_TYPE]};\n",
       "      render(props, toinsert[toinsert.length - 1]);\n",
       "      element.append(toinsert);\n",
       "      return toinsert\n",
       "    }\n",
       "\n",
       "    /* Handle when an output is cleared or removed */\n",
       "    events.on('clear_output.CodeCell', handleClearOutput);\n",
       "    events.on('delete.Cell', handleClearOutput);\n",
       "\n",
       "    /* Handle when a new output is added */\n",
       "    events.on('output_added.OutputArea', handleAddOutput);\n",
       "\n",
       "    /**\n",
       "     * Register the mime type and append_mime function with output_area\n",
       "     */\n",
       "    OutputArea.prototype.register_mime_type(EXEC_MIME_TYPE, append_mime, {\n",
       "      /* Is output safe? */\n",
       "      safe: true,\n",
       "      /* Index of renderer in `output_area.display_order` */\n",
       "      index: 0\n",
       "    });\n",
       "  }\n",
       "\n",
       "  // register the mime type if in Jupyter Notebook environment and previously unregistered\n",
       "  if (root.Jupyter !== undefined) {\n",
       "    const events = require('base/js/events');\n",
       "    const OutputArea = require('notebook/js/outputarea').OutputArea;\n",
       "\n",
       "    if (OutputArea.prototype.mime_types().indexOf(EXEC_MIME_TYPE) == -1) {\n",
       "      register_renderer(events, OutputArea);\n",
       "    }\n",
       "  }\n",
       "  if (typeof (root._bokeh_timeout) === \"undefined\" || force === true) {\n",
       "    root._bokeh_timeout = Date.now() + 5000;\n",
       "    root._bokeh_failed_load = false;\n",
       "  }\n",
       "\n",
       "  const NB_LOAD_WARNING = {'data': {'text/html':\n",
       "     \"<div style='background-color: #fdd'>\\n\"+\n",
       "     \"<p>\\n\"+\n",
       "     \"BokehJS does not appear to have successfully loaded. If loading BokehJS from CDN, this \\n\"+\n",
       "     \"may be due to a slow or bad network connection. Possible fixes:\\n\"+\n",
       "     \"</p>\\n\"+\n",
       "     \"<ul>\\n\"+\n",
       "     \"<li>re-rerun `output_notebook()` to attempt to load from CDN again, or</li>\\n\"+\n",
       "     \"<li>use INLINE resources instead, as so:</li>\\n\"+\n",
       "     \"</ul>\\n\"+\n",
       "     \"<code>\\n\"+\n",
       "     \"from bokeh.resources import INLINE\\n\"+\n",
       "     \"output_notebook(resources=INLINE)\\n\"+\n",
       "     \"</code>\\n\"+\n",
       "     \"</div>\"}};\n",
       "\n",
       "  function display_loaded(error = null) {\n",
       "    const el = document.getElementById(\"b09c4564-bc3a-4c51-9a8f-ee596a48eca4\");\n",
       "    if (el != null) {\n",
       "      const html = (() => {\n",
       "        if (typeof root.Bokeh === \"undefined\") {\n",
       "          if (error == null) {\n",
       "            return \"BokehJS is loading ...\";\n",
       "          } else {\n",
       "            return \"BokehJS failed to load.\";\n",
       "          }\n",
       "        } else {\n",
       "          const prefix = `BokehJS ${root.Bokeh.version}`;\n",
       "          if (error == null) {\n",
       "            return `${prefix} successfully loaded.`;\n",
       "          } else {\n",
       "            return `${prefix} <b>encountered errors</b> while loading and may not function as expected.`;\n",
       "          }\n",
       "        }\n",
       "      })();\n",
       "      el.innerHTML = html;\n",
       "\n",
       "      if (error != null) {\n",
       "        const wrapper = document.createElement(\"div\");\n",
       "        wrapper.style.overflow = \"auto\";\n",
       "        wrapper.style.height = \"5em\";\n",
       "        wrapper.style.resize = \"vertical\";\n",
       "        const content = document.createElement(\"div\");\n",
       "        content.style.fontFamily = \"monospace\";\n",
       "        content.style.whiteSpace = \"pre-wrap\";\n",
       "        content.style.backgroundColor = \"rgb(255, 221, 221)\";\n",
       "        content.textContent = error.stack ?? error.toString();\n",
       "        wrapper.append(content);\n",
       "        el.append(wrapper);\n",
       "      }\n",
       "    } else if (Date.now() < root._bokeh_timeout) {\n",
       "      setTimeout(() => display_loaded(error), 100);\n",
       "    }\n",
       "  }\n",
       "\n",
       "  function run_callbacks() {\n",
       "    try {\n",
       "      root._bokeh_onload_callbacks.forEach(function(callback) {\n",
       "        if (callback != null)\n",
       "          callback();\n",
       "      });\n",
       "    } finally {\n",
       "      delete root._bokeh_onload_callbacks\n",
       "    }\n",
       "    console.debug(\"Bokeh: all callbacks have finished\");\n",
       "  }\n",
       "\n",
       "  function load_libs(css_urls, js_urls, callback) {\n",
       "    if (css_urls == null) css_urls = [];\n",
       "    if (js_urls == null) js_urls = [];\n",
       "\n",
       "    root._bokeh_onload_callbacks.push(callback);\n",
       "    if (root._bokeh_is_loading > 0) {\n",
       "      console.debug(\"Bokeh: BokehJS is being loaded, scheduling callback at\", now());\n",
       "      return null;\n",
       "    }\n",
       "    if (js_urls == null || js_urls.length === 0) {\n",
       "      run_callbacks();\n",
       "      return null;\n",
       "    }\n",
       "    console.debug(\"Bokeh: BokehJS not loaded, scheduling load and callback at\", now());\n",
       "    root._bokeh_is_loading = css_urls.length + js_urls.length;\n",
       "\n",
       "    function on_load() {\n",
       "      root._bokeh_is_loading--;\n",
       "      if (root._bokeh_is_loading === 0) {\n",
       "        console.debug(\"Bokeh: all BokehJS libraries/stylesheets loaded\");\n",
       "        run_callbacks()\n",
       "      }\n",
       "    }\n",
       "\n",
       "    function on_error(url) {\n",
       "      console.error(\"failed to load \" + url);\n",
       "    }\n",
       "\n",
       "    for (let i = 0; i < css_urls.length; i++) {\n",
       "      const url = css_urls[i];\n",
       "      const element = document.createElement(\"link\");\n",
       "      element.onload = on_load;\n",
       "      element.onerror = on_error.bind(null, url);\n",
       "      element.rel = \"stylesheet\";\n",
       "      element.type = \"text/css\";\n",
       "      element.href = url;\n",
       "      console.debug(\"Bokeh: injecting link tag for BokehJS stylesheet: \", url);\n",
       "      document.body.appendChild(element);\n",
       "    }\n",
       "\n",
       "    for (let i = 0; i < js_urls.length; i++) {\n",
       "      const url = js_urls[i];\n",
       "      const element = document.createElement('script');\n",
       "      element.onload = on_load;\n",
       "      element.onerror = on_error.bind(null, url);\n",
       "      element.async = false;\n",
       "      element.src = url;\n",
       "      console.debug(\"Bokeh: injecting script tag for BokehJS library: \", url);\n",
       "      document.head.appendChild(element);\n",
       "    }\n",
       "  };\n",
       "\n",
       "  function inject_raw_css(css) {\n",
       "    const element = document.createElement(\"style\");\n",
       "    element.appendChild(document.createTextNode(css));\n",
       "    document.body.appendChild(element);\n",
       "  }\n",
       "\n",
       "  const js_urls = [\"https://cdn.bokeh.org/bokeh/release/bokeh-3.5.2.min.js\", \"https://cdn.bokeh.org/bokeh/release/bokeh-gl-3.5.2.min.js\", \"https://cdn.bokeh.org/bokeh/release/bokeh-widgets-3.5.2.min.js\", \"https://cdn.bokeh.org/bokeh/release/bokeh-tables-3.5.2.min.js\", \"https://cdn.bokeh.org/bokeh/release/bokeh-mathjax-3.5.2.min.js\"];\n",
       "  const css_urls = [];\n",
       "\n",
       "  const inline_js = [    function(Bokeh) {\n",
       "      Bokeh.set_log_level(\"info\");\n",
       "    },\n",
       "function(Bokeh) {\n",
       "    }\n",
       "  ];\n",
       "\n",
       "  function run_inline_js() {\n",
       "    if (root.Bokeh !== undefined || force === true) {\n",
       "      try {\n",
       "            for (let i = 0; i < inline_js.length; i++) {\n",
       "      inline_js[i].call(root, root.Bokeh);\n",
       "    }\n",
       "\n",
       "      } catch (error) {display_loaded(error);throw error;\n",
       "      }if (force === true) {\n",
       "        display_loaded();\n",
       "      }} else if (Date.now() < root._bokeh_timeout) {\n",
       "      setTimeout(run_inline_js, 100);\n",
       "    } else if (!root._bokeh_failed_load) {\n",
       "      console.log(\"Bokeh: BokehJS failed to load within specified timeout.\");\n",
       "      root._bokeh_failed_load = true;\n",
       "    } else if (force !== true) {\n",
       "      const cell = $(document.getElementById(\"b09c4564-bc3a-4c51-9a8f-ee596a48eca4\")).parents('.cell').data().cell;\n",
       "      cell.output_area.append_execute_result(NB_LOAD_WARNING)\n",
       "    }\n",
       "  }\n",
       "\n",
       "  if (root._bokeh_is_loading === 0) {\n",
       "    console.debug(\"Bokeh: BokehJS loaded, going straight to plotting\");\n",
       "    run_inline_js();\n",
       "  } else {\n",
       "    load_libs(css_urls, js_urls, function() {\n",
       "      console.debug(\"Bokeh: BokehJS plotting callback run at\", now());\n",
       "      run_inline_js();\n",
       "    });\n",
       "  }\n",
       "}(window));"
      ],
      "application/vnd.bokehjs_load.v0+json": "'use strict';\n(function(root) {\n  function now() {\n    return new Date();\n  }\n\n  const force = true;\n\n  if (typeof root._bokeh_onload_callbacks === \"undefined\" || force === true) {\n    root._bokeh_onload_callbacks = [];\n    root._bokeh_is_loading = undefined;\n  }\n\n\n  if (typeof (root._bokeh_timeout) === \"undefined\" || force === true) {\n    root._bokeh_timeout = Date.now() + 5000;\n    root._bokeh_failed_load = false;\n  }\n\n  const NB_LOAD_WARNING = {'data': {'text/html':\n     \"<div style='background-color: #fdd'>\\n\"+\n     \"<p>\\n\"+\n     \"BokehJS does not appear to have successfully loaded. If loading BokehJS from CDN, this \\n\"+\n     \"may be due to a slow or bad network connection. Possible fixes:\\n\"+\n     \"</p>\\n\"+\n     \"<ul>\\n\"+\n     \"<li>re-rerun `output_notebook()` to attempt to load from CDN again, or</li>\\n\"+\n     \"<li>use INLINE resources instead, as so:</li>\\n\"+\n     \"</ul>\\n\"+\n     \"<code>\\n\"+\n     \"from bokeh.resources import INLINE\\n\"+\n     \"output_notebook(resources=INLINE)\\n\"+\n     \"</code>\\n\"+\n     \"</div>\"}};\n\n  function display_loaded(error = null) {\n    const el = document.getElementById(\"b09c4564-bc3a-4c51-9a8f-ee596a48eca4\");\n    if (el != null) {\n      const html = (() => {\n        if (typeof root.Bokeh === \"undefined\") {\n          if (error == null) {\n            return \"BokehJS is loading ...\";\n          } else {\n            return \"BokehJS failed to load.\";\n          }\n        } else {\n          const prefix = `BokehJS ${root.Bokeh.version}`;\n          if (error == null) {\n            return `${prefix} successfully loaded.`;\n          } else {\n            return `${prefix} <b>encountered errors</b> while loading and may not function as expected.`;\n          }\n        }\n      })();\n      el.innerHTML = html;\n\n      if (error != null) {\n        const wrapper = document.createElement(\"div\");\n        wrapper.style.overflow = \"auto\";\n        wrapper.style.height = \"5em\";\n        wrapper.style.resize = \"vertical\";\n        const content = document.createElement(\"div\");\n        content.style.fontFamily = \"monospace\";\n        content.style.whiteSpace = \"pre-wrap\";\n        content.style.backgroundColor = \"rgb(255, 221, 221)\";\n        content.textContent = error.stack ?? error.toString();\n        wrapper.append(content);\n        el.append(wrapper);\n      }\n    } else if (Date.now() < root._bokeh_timeout) {\n      setTimeout(() => display_loaded(error), 100);\n    }\n  }\n\n  function run_callbacks() {\n    try {\n      root._bokeh_onload_callbacks.forEach(function(callback) {\n        if (callback != null)\n          callback();\n      });\n    } finally {\n      delete root._bokeh_onload_callbacks\n    }\n    console.debug(\"Bokeh: all callbacks have finished\");\n  }\n\n  function load_libs(css_urls, js_urls, callback) {\n    if (css_urls == null) css_urls = [];\n    if (js_urls == null) js_urls = [];\n\n    root._bokeh_onload_callbacks.push(callback);\n    if (root._bokeh_is_loading > 0) {\n      console.debug(\"Bokeh: BokehJS is being loaded, scheduling callback at\", now());\n      return null;\n    }\n    if (js_urls == null || js_urls.length === 0) {\n      run_callbacks();\n      return null;\n    }\n    console.debug(\"Bokeh: BokehJS not loaded, scheduling load and callback at\", now());\n    root._bokeh_is_loading = css_urls.length + js_urls.length;\n\n    function on_load() {\n      root._bokeh_is_loading--;\n      if (root._bokeh_is_loading === 0) {\n        console.debug(\"Bokeh: all BokehJS libraries/stylesheets loaded\");\n        run_callbacks()\n      }\n    }\n\n    function on_error(url) {\n      console.error(\"failed to load \" + url);\n    }\n\n    for (let i = 0; i < css_urls.length; i++) {\n      const url = css_urls[i];\n      const element = document.createElement(\"link\");\n      element.onload = on_load;\n      element.onerror = on_error.bind(null, url);\n      element.rel = \"stylesheet\";\n      element.type = \"text/css\";\n      element.href = url;\n      console.debug(\"Bokeh: injecting link tag for BokehJS stylesheet: \", url);\n      document.body.appendChild(element);\n    }\n\n    for (let i = 0; i < js_urls.length; i++) {\n      const url = js_urls[i];\n      const element = document.createElement('script');\n      element.onload = on_load;\n      element.onerror = on_error.bind(null, url);\n      element.async = false;\n      element.src = url;\n      console.debug(\"Bokeh: injecting script tag for BokehJS library: \", url);\n      document.head.appendChild(element);\n    }\n  };\n\n  function inject_raw_css(css) {\n    const element = document.createElement(\"style\");\n    element.appendChild(document.createTextNode(css));\n    document.body.appendChild(element);\n  }\n\n  const js_urls = [\"https://cdn.bokeh.org/bokeh/release/bokeh-3.5.2.min.js\", \"https://cdn.bokeh.org/bokeh/release/bokeh-gl-3.5.2.min.js\", \"https://cdn.bokeh.org/bokeh/release/bokeh-widgets-3.5.2.min.js\", \"https://cdn.bokeh.org/bokeh/release/bokeh-tables-3.5.2.min.js\", \"https://cdn.bokeh.org/bokeh/release/bokeh-mathjax-3.5.2.min.js\"];\n  const css_urls = [];\n\n  const inline_js = [    function(Bokeh) {\n      Bokeh.set_log_level(\"info\");\n    },\nfunction(Bokeh) {\n    }\n  ];\n\n  function run_inline_js() {\n    if (root.Bokeh !== undefined || force === true) {\n      try {\n            for (let i = 0; i < inline_js.length; i++) {\n      inline_js[i].call(root, root.Bokeh);\n    }\n\n      } catch (error) {display_loaded(error);throw error;\n      }if (force === true) {\n        display_loaded();\n      }} else if (Date.now() < root._bokeh_timeout) {\n      setTimeout(run_inline_js, 100);\n    } else if (!root._bokeh_failed_load) {\n      console.log(\"Bokeh: BokehJS failed to load within specified timeout.\");\n      root._bokeh_failed_load = true;\n    } else if (force !== true) {\n      const cell = $(document.getElementById(\"b09c4564-bc3a-4c51-9a8f-ee596a48eca4\")).parents('.cell').data().cell;\n      cell.output_area.append_execute_result(NB_LOAD_WARNING)\n    }\n  }\n\n  if (root._bokeh_is_loading === 0) {\n    console.debug(\"Bokeh: BokehJS loaded, going straight to plotting\");\n    run_inline_js();\n  } else {\n    load_libs(css_urls, js_urls, function() {\n      console.debug(\"Bokeh: BokehJS plotting callback run at\", now());\n      run_inline_js();\n    });\n  }\n}(window));"
     },
     "metadata": {},
     "output_type": "display_data"
    }
   ],
   "source": [
    "import pandas as pd\n",
    "import numpy as np\n",
    "\n",
    "from bokeh.plotting import figure,show\n",
    "from bokeh.io import output_notebook\n",
    "output_notebook()\n",
    "from bokeh.models.annotations import Span\n",
    "from bokeh.models.annotations import BoxAnnotation\n",
    "from bokeh.models import HoverTool\n",
    "from bokeh.models import ColumnDataSource\n",
    "from bokeh.models import Range1d\n",
    "\n",
    "from datetime import datetime as dt\n",
    "from bokeh.io import export_png"
   ]
  },
  {
   "cell_type": "code",
   "execution_count": 3,
   "id": "af92ce3d-4729-47ea-aff9-0986da1e4648",
   "metadata": {},
   "outputs": [],
   "source": [
    "df_19_15 = pd.read_csv(\"../data/311_data_19_15_filtered.csv\")\n",
    "df_12_19 = pd.read_csv(\"../data/311_data_12_19_filtered.csv\")"
   ]
  },
  {
   "cell_type": "code",
   "execution_count": 5,
   "id": "6fa3c6f3-04e1-43dc-9607-f5cf96a4b151",
   "metadata": {},
   "outputs": [
    {
     "data": {
      "text/html": [
       "<div>\n",
       "<style scoped>\n",
       "    .dataframe tbody tr th:only-of-type {\n",
       "        vertical-align: middle;\n",
       "    }\n",
       "\n",
       "    .dataframe tbody tr th {\n",
       "        vertical-align: top;\n",
       "    }\n",
       "\n",
       "    .dataframe thead th {\n",
       "        text-align: right;\n",
       "    }\n",
       "</style>\n",
       "<table border=\"1\" class=\"dataframe\">\n",
       "  <thead>\n",
       "    <tr style=\"text-align: right;\">\n",
       "      <th></th>\n",
       "      <th>index</th>\n",
       "      <th>Case Reference</th>\n",
       "      <th>Open Date</th>\n",
       "      <th>Closed Date</th>\n",
       "      <th>Status</th>\n",
       "      <th>Subject</th>\n",
       "      <th>Reason</th>\n",
       "      <th>Type</th>\n",
       "      <th>Object Type</th>\n",
       "      <th>Address Number</th>\n",
       "      <th>...</th>\n",
       "      <th>GEOID20_block</th>\n",
       "      <th>Property_Address</th>\n",
       "      <th>Print Key</th>\n",
       "      <th>Address</th>\n",
       "      <th>Zipcode_y</th>\n",
       "      <th>filter_id</th>\n",
       "      <th>GEOID20_blockgroup_y</th>\n",
       "      <th>type</th>\n",
       "      <th>category</th>\n",
       "      <th>Geography</th>\n",
       "    </tr>\n",
       "  </thead>\n",
       "  <tbody>\n",
       "    <tr>\n",
       "      <th>0</th>\n",
       "      <td>0</td>\n",
       "      <td>1001753435</td>\n",
       "      <td>2022-12-13</td>\n",
       "      <td>12/15/2022 08:52:00 AM</td>\n",
       "      <td>Closed</td>\n",
       "      <td>Dept of Public Works</td>\n",
       "      <td>Animal Shelter</td>\n",
       "      <td>Animals (Req_Serv)</td>\n",
       "      <td>Property</td>\n",
       "      <td>539</td>\n",
       "      <td>...</td>\n",
       "      <td>360290065011000</td>\n",
       "      <td>100.21-3-34 539 ASHLAND</td>\n",
       "      <td>100.21-3-34</td>\n",
       "      <td>539 ASHLAND</td>\n",
       "      <td>14222.0</td>\n",
       "      <td>210 ONE FAMILY DWELLING</td>\n",
       "      <td>360290065011</td>\n",
       "      <td>Animals (Req_Serv)</td>\n",
       "      <td>Issues related to animals and pests</td>\n",
       "      <td>360290065011</td>\n",
       "    </tr>\n",
       "    <tr>\n",
       "      <th>1</th>\n",
       "      <td>1</td>\n",
       "      <td>1001753891</td>\n",
       "      <td>2022-12-15</td>\n",
       "      <td>12/20/2022 11:50:00 AM</td>\n",
       "      <td>Closed</td>\n",
       "      <td>Dept of Public Works</td>\n",
       "      <td>Animal Shelter</td>\n",
       "      <td>Animals (Req_Serv)</td>\n",
       "      <td>Property</td>\n",
       "      <td>539</td>\n",
       "      <td>...</td>\n",
       "      <td>360290065011000</td>\n",
       "      <td>100.21-3-34 539 ASHLAND</td>\n",
       "      <td>100.21-3-34</td>\n",
       "      <td>539 ASHLAND</td>\n",
       "      <td>14222.0</td>\n",
       "      <td>210 ONE FAMILY DWELLING</td>\n",
       "      <td>360290065011</td>\n",
       "      <td>Animals (Req_Serv)</td>\n",
       "      <td>Issues related to animals and pests</td>\n",
       "      <td>360290065011</td>\n",
       "    </tr>\n",
       "    <tr>\n",
       "      <th>2</th>\n",
       "      <td>2</td>\n",
       "      <td>1001754233</td>\n",
       "      <td>2022-12-18</td>\n",
       "      <td>12/20/2022 12:20:00 PM</td>\n",
       "      <td>Closed</td>\n",
       "      <td>Dept of Public Works</td>\n",
       "      <td>Streets</td>\n",
       "      <td>Street Snow Plowing (Req_Serv)</td>\n",
       "      <td>Property</td>\n",
       "      <td>32</td>\n",
       "      <td>...</td>\n",
       "      <td>360290065011002</td>\n",
       "      <td>100.21-5-31.21 32 GILL</td>\n",
       "      <td>100.21-5-31.21</td>\n",
       "      <td>32 GILL</td>\n",
       "      <td>14222.0</td>\n",
       "      <td>210 ONE FAMILY DWELLING</td>\n",
       "      <td>360290065011</td>\n",
       "      <td>Street Snow Plowing (Req_Serv)</td>\n",
       "      <td>Issues related to snow</td>\n",
       "      <td>360290065011</td>\n",
       "    </tr>\n",
       "    <tr>\n",
       "      <th>3</th>\n",
       "      <td>3</td>\n",
       "      <td>1001753823</td>\n",
       "      <td>2022-12-15</td>\n",
       "      <td>12/17/2022 07:56:00 AM</td>\n",
       "      <td>Closed</td>\n",
       "      <td>Dept of Public Works</td>\n",
       "      <td>Sanitation</td>\n",
       "      <td>Garbage Missed Pick Up (Req_Serv)</td>\n",
       "      <td>Property</td>\n",
       "      <td>485</td>\n",
       "      <td>...</td>\n",
       "      <td>360290065011002</td>\n",
       "      <td>100.21-5-36 485 NORWOOD</td>\n",
       "      <td>100.21-5-36</td>\n",
       "      <td>485 NORWOOD</td>\n",
       "      <td>14222.0</td>\n",
       "      <td>210 ONE FAMILY DWELLING</td>\n",
       "      <td>360290065011</td>\n",
       "      <td>Garbage Missed Pick Up (Req_Serv)</td>\n",
       "      <td>Issues related to garbage/recycling collection</td>\n",
       "      <td>360290065011</td>\n",
       "    </tr>\n",
       "    <tr>\n",
       "      <th>4</th>\n",
       "      <td>4</td>\n",
       "      <td>1001754086</td>\n",
       "      <td>2022-12-16</td>\n",
       "      <td>12/16/2022 12:50:00 PM</td>\n",
       "      <td>Closed</td>\n",
       "      <td>Dept of Parking</td>\n",
       "      <td>Parking Violations Bureau</td>\n",
       "      <td>Parking Issues (Req_Serv)</td>\n",
       "      <td>Property</td>\n",
       "      <td>799</td>\n",
       "      <td>...</td>\n",
       "      <td>360290169001004</td>\n",
       "      <td>100.22-2-87 799 ELMWOOD</td>\n",
       "      <td>100.22-2-87</td>\n",
       "      <td>799 ELMWOOD</td>\n",
       "      <td>14222.0</td>\n",
       "      <td>482 DOWNTOWN ROW TYPE (DETACHED)</td>\n",
       "      <td>360290169001</td>\n",
       "      <td>Parking Issues (Req_Serv)</td>\n",
       "      <td>Issues related to roads and parking</td>\n",
       "      <td>360290169001</td>\n",
       "    </tr>\n",
       "  </tbody>\n",
       "</table>\n",
       "<p>5 rows × 43 columns</p>\n",
       "</div>"
      ],
      "text/plain": [
       "   index Case Reference   Open Date             Closed Date  Status  \\\n",
       "0      0     1001753435  2022-12-13  12/15/2022 08:52:00 AM  Closed   \n",
       "1      1     1001753891  2022-12-15  12/20/2022 11:50:00 AM  Closed   \n",
       "2      2     1001754233  2022-12-18  12/20/2022 12:20:00 PM  Closed   \n",
       "3      3     1001753823  2022-12-15  12/17/2022 07:56:00 AM  Closed   \n",
       "4      4     1001754086  2022-12-16  12/16/2022 12:50:00 PM  Closed   \n",
       "\n",
       "                Subject                     Reason  \\\n",
       "0  Dept of Public Works             Animal Shelter   \n",
       "1  Dept of Public Works             Animal Shelter   \n",
       "2  Dept of Public Works                    Streets   \n",
       "3  Dept of Public Works                 Sanitation   \n",
       "4       Dept of Parking  Parking Violations Bureau   \n",
       "\n",
       "                                Type Object Type  Address Number  ...  \\\n",
       "0                 Animals (Req_Serv)    Property             539  ...   \n",
       "1                 Animals (Req_Serv)    Property             539  ...   \n",
       "2     Street Snow Plowing (Req_Serv)    Property              32  ...   \n",
       "3  Garbage Missed Pick Up (Req_Serv)    Property             485  ...   \n",
       "4          Parking Issues (Req_Serv)    Property             799  ...   \n",
       "\n",
       "     GEOID20_block         Property_Address       Print Key      Address  \\\n",
       "0  360290065011000  100.21-3-34 539 ASHLAND     100.21-3-34  539 ASHLAND   \n",
       "1  360290065011000  100.21-3-34 539 ASHLAND     100.21-3-34  539 ASHLAND   \n",
       "2  360290065011002   100.21-5-31.21 32 GILL  100.21-5-31.21      32 GILL   \n",
       "3  360290065011002  100.21-5-36 485 NORWOOD     100.21-5-36  485 NORWOOD   \n",
       "4  360290169001004  100.22-2-87 799 ELMWOOD     100.22-2-87  799 ELMWOOD   \n",
       "\n",
       "  Zipcode_y                         filter_id GEOID20_blockgroup_y  \\\n",
       "0   14222.0           210 ONE FAMILY DWELLING         360290065011   \n",
       "1   14222.0           210 ONE FAMILY DWELLING         360290065011   \n",
       "2   14222.0           210 ONE FAMILY DWELLING         360290065011   \n",
       "3   14222.0           210 ONE FAMILY DWELLING         360290065011   \n",
       "4   14222.0  482 DOWNTOWN ROW TYPE (DETACHED)         360290169001   \n",
       "\n",
       "                                type  \\\n",
       "0                 Animals (Req_Serv)   \n",
       "1                 Animals (Req_Serv)   \n",
       "2     Street Snow Plowing (Req_Serv)   \n",
       "3  Garbage Missed Pick Up (Req_Serv)   \n",
       "4          Parking Issues (Req_Serv)   \n",
       "\n",
       "                                         category     Geography  \n",
       "0             Issues related to animals and pests  360290065011  \n",
       "1             Issues related to animals and pests  360290065011  \n",
       "2                          Issues related to snow  360290065011  \n",
       "3  Issues related to garbage/recycling collection  360290065011  \n",
       "4             Issues related to roads and parking  360290169001  \n",
       "\n",
       "[5 rows x 43 columns]"
      ]
     },
     "execution_count": 5,
     "metadata": {},
     "output_type": "execute_result"
    }
   ],
   "source": [
    "df_12_15 = pd.concat([df_12_19, df_19_15])\n",
    "df_12_15.head()"
   ]
  },
  {
   "cell_type": "markdown",
   "id": "39e78f3e-36ef-4dfb-8719-f75661528380",
   "metadata": {},
   "source": [
    "### Overall temporal pattern"
   ]
  },
  {
   "cell_type": "code",
   "execution_count": 6,
   "id": "67ac2eb9-cb6d-4ad9-aabd-6dcb2e31a316",
   "metadata": {},
   "outputs": [],
   "source": [
    "groupby_time = df_12_15.groupby([\"Open Date\"]).agg({\"Case Reference\":\"count\"}).reset_index()\n",
    "\n",
    "groupby_time['Open Date'] = groupby_time['Open Date'].astype(str)\n",
    "groupby_time['open_date'] = groupby_time['Open Date'].apply(lambda x: str(x).split(\"-\", 1)[1].replace(\"-\",\"/\"))\n",
    "\n",
    "lis_x = ['12/12','12/13','12/14','12/15','12/16','12/17','12/18','12/19','12/20','12/21','12/22','12/23','12/24','12/25','12/26','12/27','12/28','12/29','12/30','12/31','01/01','01/02','01/03','01/04','01/05','01/06','01/07','01/08','01/09','01/10','01/11','01/12','01/13','01/14','01/15']\n",
    "\n",
    "date_index = groupby_time['open_date'].copy()"
   ]
  },
  {
   "cell_type": "code",
   "execution_count": 8,
   "id": "c0095084-c4bc-4cbc-84b5-b76aa760244c",
   "metadata": {},
   "outputs": [
    {
     "name": "stderr",
     "output_type": "stream",
     "text": [
      "BokehDeprecationWarning: 'circle() method with size value' was deprecated in Bokeh 3.4.0 and will be removed, use 'scatter(size=...) instead' instead.\n"
     ]
    },
    {
     "data": {
      "text/html": [
       "\n",
       "  <div id=\"a7709d7a-cc54-4281-ade0-c36d7fe6dd99\" data-root-id=\"p1079\" style=\"display: contents;\"></div>\n"
      ]
     },
     "metadata": {},
     "output_type": "display_data"
    },
    {
     "data": {
      "application/javascript": [
       "(function(root) {\n",
       "  function embed_document(root) {\n",
       "  const docs_json = {\"39bab2b1-f082-4a02-8548-51f9d353f4ac\":{\"version\":\"3.5.2\",\"title\":\"Bokeh Application\",\"roots\":[{\"type\":\"object\",\"name\":\"Figure\",\"id\":\"p1079\",\"attributes\":{\"width\":1200,\"height\":350,\"x_range\":{\"type\":\"object\",\"name\":\"FactorRange\",\"id\":\"p1088\",\"attributes\":{\"factors\":[\"12/12\",\"12/13\",\"12/14\",\"12/15\",\"12/16\",\"12/17\",\"12/18\",\"12/19\",\"12/20\",\"12/21\",\"12/22\",\"12/23\",\"12/24\",\"12/25\",\"12/26\",\"12/27\",\"12/28\",\"12/29\",\"12/30\",\"12/31\",\"01/01\",\"01/02\",\"01/03\",\"01/04\",\"01/05\",\"01/06\",\"01/07\",\"01/08\",\"01/09\",\"01/10\",\"01/11\",\"01/12\",\"01/13\",\"01/14\",\"01/15\"]}},\"y_range\":{\"type\":\"object\",\"name\":\"DataRange1d\",\"id\":\"p1081\"},\"x_scale\":{\"type\":\"object\",\"name\":\"CategoricalScale\",\"id\":\"p1089\"},\"y_scale\":{\"type\":\"object\",\"name\":\"LinearScale\",\"id\":\"p1090\"},\"title\":{\"type\":\"object\",\"name\":\"Title\",\"id\":\"p1086\"},\"renderers\":[{\"type\":\"object\",\"name\":\"GlyphRenderer\",\"id\":\"p1144\",\"attributes\":{\"data_source\":{\"type\":\"object\",\"name\":\"ColumnDataSource\",\"id\":\"p1135\",\"attributes\":{\"selected\":{\"type\":\"object\",\"name\":\"Selection\",\"id\":\"p1136\",\"attributes\":{\"indices\":[],\"line_indices\":[]}},\"selection_policy\":{\"type\":\"object\",\"name\":\"UnionRenderers\",\"id\":\"p1137\"},\"data\":{\"type\":\"map\",\"entries\":[[\"date\",{\"type\":\"ndarray\",\"array\":[\"12/12\",\"12/13\",\"12/14\",\"12/15\",\"12/16\",\"12/17\",\"12/18\",\"12/19\",\"12/20\",\"12/21\",\"12/22\",\"12/23\",\"12/24\",\"12/25\",\"12/26\",\"12/27\",\"12/28\",\"12/29\",\"12/30\",\"12/31\",\"01/01\",\"01/02\",\"01/03\",\"01/04\",\"01/05\",\"01/06\",\"01/07\",\"01/08\",\"01/09\",\"01/10\",\"01/11\",\"01/12\",\"01/13\",\"01/14\",\"01/15\"],\"shape\":[35],\"dtype\":\"object\",\"order\":\"little\"}],[\"count\",{\"type\":\"ndarray\",\"array\":{\"type\":\"bytes\",\"data\":\"lwAAAJAAAAB9AAAAuQAAAMYAAAAWAAAAFwAAABIBAADqAAAAtAAAAJsAAABrAAAAKQAAAHoAAAC8AQAA4wMAAD8DAACJAgAAtAEAACAAAAARAAAAUAAAAK8BAAClAQAAlQEAAHUBAAAYAAAAHwAAAFYBAAArAQAA1AAAAPgAAACgAAAACAAAAAgAAAA=\"},\"shape\":[35],\"dtype\":\"int32\",\"order\":\"little\"}]]}}},\"view\":{\"type\":\"object\",\"name\":\"CDSView\",\"id\":\"p1145\",\"attributes\":{\"filter\":{\"type\":\"object\",\"name\":\"AllIndices\",\"id\":\"p1146\"}}},\"glyph\":{\"type\":\"object\",\"name\":\"Line\",\"id\":\"p1141\",\"attributes\":{\"x\":{\"type\":\"field\",\"field\":\"date\"},\"y\":{\"type\":\"field\",\"field\":\"count\"},\"line_color\":\"tomato\",\"line_width\":7}},\"nonselection_glyph\":{\"type\":\"object\",\"name\":\"Line\",\"id\":\"p1142\",\"attributes\":{\"x\":{\"type\":\"field\",\"field\":\"date\"},\"y\":{\"type\":\"field\",\"field\":\"count\"},\"line_color\":\"tomato\",\"line_alpha\":0.1,\"line_width\":7}},\"muted_glyph\":{\"type\":\"object\",\"name\":\"Line\",\"id\":\"p1143\",\"attributes\":{\"x\":{\"type\":\"field\",\"field\":\"date\"},\"y\":{\"type\":\"field\",\"field\":\"count\"},\"line_color\":\"tomato\",\"line_alpha\":0.2,\"line_width\":7}}}},{\"type\":\"object\",\"name\":\"GlyphRenderer\",\"id\":\"p1153\",\"attributes\":{\"data_source\":{\"id\":\"p1135\"},\"view\":{\"type\":\"object\",\"name\":\"CDSView\",\"id\":\"p1154\",\"attributes\":{\"filter\":{\"type\":\"object\",\"name\":\"AllIndices\",\"id\":\"p1155\"}}},\"glyph\":{\"type\":\"object\",\"name\":\"Scatter\",\"id\":\"p1150\",\"attributes\":{\"x\":{\"type\":\"field\",\"field\":\"date\"},\"y\":{\"type\":\"field\",\"field\":\"count\"},\"size\":{\"type\":\"value\",\"value\":15},\"line_color\":{\"type\":\"value\",\"value\":\"white\"},\"line_width\":{\"type\":\"value\",\"value\":2},\"fill_color\":{\"type\":\"value\",\"value\":\"tomato\"}}},\"nonselection_glyph\":{\"type\":\"object\",\"name\":\"Scatter\",\"id\":\"p1151\",\"attributes\":{\"x\":{\"type\":\"field\",\"field\":\"date\"},\"y\":{\"type\":\"field\",\"field\":\"count\"},\"size\":{\"type\":\"value\",\"value\":15},\"line_color\":{\"type\":\"value\",\"value\":\"white\"},\"line_alpha\":{\"type\":\"value\",\"value\":0.1},\"line_width\":{\"type\":\"value\",\"value\":2},\"fill_color\":{\"type\":\"value\",\"value\":\"tomato\"},\"fill_alpha\":{\"type\":\"value\",\"value\":0.1},\"hatch_alpha\":{\"type\":\"value\",\"value\":0.1}}},\"muted_glyph\":{\"type\":\"object\",\"name\":\"Scatter\",\"id\":\"p1152\",\"attributes\":{\"x\":{\"type\":\"field\",\"field\":\"date\"},\"y\":{\"type\":\"field\",\"field\":\"count\"},\"size\":{\"type\":\"value\",\"value\":15},\"line_color\":{\"type\":\"value\",\"value\":\"white\"},\"line_alpha\":{\"type\":\"value\",\"value\":0.2},\"line_width\":{\"type\":\"value\",\"value\":2},\"fill_color\":{\"type\":\"value\",\"value\":\"tomato\"},\"fill_alpha\":{\"type\":\"value\",\"value\":0.2},\"hatch_alpha\":{\"type\":\"value\",\"value\":0.2}}}}}],\"toolbar\":{\"type\":\"object\",\"name\":\"Toolbar\",\"id\":\"p1087\",\"attributes\":{\"tools\":[{\"type\":\"object\",\"name\":\"PanTool\",\"id\":\"p1101\"},{\"type\":\"object\",\"name\":\"WheelZoomTool\",\"id\":\"p1102\",\"attributes\":{\"renderers\":\"auto\"}},{\"type\":\"object\",\"name\":\"BoxZoomTool\",\"id\":\"p1103\",\"attributes\":{\"overlay\":{\"type\":\"object\",\"name\":\"BoxAnnotation\",\"id\":\"p1104\",\"attributes\":{\"syncable\":false,\"line_color\":\"black\",\"line_alpha\":1.0,\"line_width\":2,\"line_dash\":[4,4],\"fill_color\":\"lightgrey\",\"fill_alpha\":0.5,\"level\":\"overlay\",\"visible\":false,\"left\":{\"type\":\"number\",\"value\":\"nan\"},\"right\":{\"type\":\"number\",\"value\":\"nan\"},\"top\":{\"type\":\"number\",\"value\":\"nan\"},\"bottom\":{\"type\":\"number\",\"value\":\"nan\"},\"left_units\":\"canvas\",\"right_units\":\"canvas\",\"top_units\":\"canvas\",\"bottom_units\":\"canvas\",\"handles\":{\"type\":\"object\",\"name\":\"BoxInteractionHandles\",\"id\":\"p1110\",\"attributes\":{\"all\":{\"type\":\"object\",\"name\":\"AreaVisuals\",\"id\":\"p1109\",\"attributes\":{\"fill_color\":\"white\",\"hover_fill_color\":\"lightgray\"}}}}}}}},{\"type\":\"object\",\"name\":\"SaveTool\",\"id\":\"p1111\"},{\"type\":\"object\",\"name\":\"ResetTool\",\"id\":\"p1112\"},{\"type\":\"object\",\"name\":\"HelpTool\",\"id\":\"p1113\"}]}},\"left\":[{\"type\":\"object\",\"name\":\"LinearAxis\",\"id\":\"p1096\",\"attributes\":{\"ticker\":{\"type\":\"object\",\"name\":\"BasicTicker\",\"id\":\"p1097\",\"attributes\":{\"mantissas\":[1,2,5]}},\"formatter\":{\"type\":\"object\",\"name\":\"BasicTickFormatter\",\"id\":\"p1098\"},\"axis_label_text_font\":\"Arial\",\"axis_label_text_font_size\":\"20pt\",\"major_label_policy\":{\"type\":\"object\",\"name\":\"AllLabels\",\"id\":\"p1099\"},\"major_label_text_font\":\"Arial\",\"major_label_text_font_size\":\"20pt\",\"major_tick_out\":10,\"minor_tick_out\":6}}],\"below\":[{\"type\":\"object\",\"name\":\"CategoricalAxis\",\"id\":\"p1091\",\"attributes\":{\"ticker\":{\"type\":\"object\",\"name\":\"CategoricalTicker\",\"id\":\"p1092\"},\"formatter\":{\"type\":\"object\",\"name\":\"CategoricalTickFormatter\",\"id\":\"p1093\"},\"axis_label_text_font\":\"Arial\",\"axis_label_text_font_size\":\"20pt\",\"axis_label_text_font_style\":\"bold\",\"major_label_orientation\":\"vertical\",\"major_label_policy\":{\"type\":\"object\",\"name\":\"AllLabels\",\"id\":\"p1094\"},\"major_label_text_font\":\"Arial\",\"major_label_text_font_size\":\"20pt\",\"major_tick_out\":10,\"minor_tick_out\":6}}],\"center\":[{\"type\":\"object\",\"name\":\"Grid\",\"id\":\"p1095\",\"attributes\":{\"axis\":{\"id\":\"p1091\"}}},{\"type\":\"object\",\"name\":\"Grid\",\"id\":\"p1100\",\"attributes\":{\"dimension\":1,\"axis\":{\"id\":\"p1096\"}}},{\"type\":\"object\",\"name\":\"BoxAnnotation\",\"id\":\"p1114\",\"attributes\":{\"line_color\":\"limegreen\",\"line_width\":2,\"line_dash\":[4,4],\"fill_color\":\"limegreen\",\"fill_alpha\":0.1,\"left\":14.5,\"right\":34.5,\"top\":{\"type\":\"object\",\"name\":\"Node\",\"id\":\"p1117\",\"attributes\":{\"target\":\"frame\",\"symbol\":\"top\"}},\"bottom\":{\"type\":\"object\",\"name\":\"Node\",\"id\":\"p1118\",\"attributes\":{\"target\":\"frame\",\"symbol\":\"bottom\"}},\"handles\":{\"type\":\"object\",\"name\":\"BoxInteractionHandles\",\"id\":\"p1120\",\"attributes\":{\"all\":{\"type\":\"object\",\"name\":\"AreaVisuals\",\"id\":\"p1119\",\"attributes\":{\"fill_color\":\"white\",\"hover_fill_color\":\"lightgray\"}}}}}},{\"type\":\"object\",\"name\":\"BoxAnnotation\",\"id\":\"p1121\",\"attributes\":{\"line_color\":\"orangered\",\"line_width\":2,\"line_dash\":[4,4],\"fill_color\":\"orangered\",\"fill_alpha\":0.1,\"left\":11.5,\"right\":14.5,\"top\":{\"type\":\"object\",\"name\":\"Node\",\"id\":\"p1124\",\"attributes\":{\"target\":\"frame\",\"symbol\":\"top\"}},\"bottom\":{\"type\":\"object\",\"name\":\"Node\",\"id\":\"p1125\",\"attributes\":{\"target\":\"frame\",\"symbol\":\"bottom\"}},\"handles\":{\"type\":\"object\",\"name\":\"BoxInteractionHandles\",\"id\":\"p1127\",\"attributes\":{\"all\":{\"type\":\"object\",\"name\":\"AreaVisuals\",\"id\":\"p1126\",\"attributes\":{\"fill_color\":\"white\",\"hover_fill_color\":\"lightgray\"}}}}}},{\"type\":\"object\",\"name\":\"BoxAnnotation\",\"id\":\"p1128\",\"attributes\":{\"line_color\":\"gold\",\"line_width\":2,\"line_dash\":[4,4],\"fill_color\":\"gold\",\"fill_alpha\":0.13,\"left\":7.5,\"right\":11.5,\"top\":{\"type\":\"object\",\"name\":\"Node\",\"id\":\"p1131\",\"attributes\":{\"target\":\"frame\",\"symbol\":\"top\"}},\"bottom\":{\"type\":\"object\",\"name\":\"Node\",\"id\":\"p1132\",\"attributes\":{\"target\":\"frame\",\"symbol\":\"bottom\"}},\"handles\":{\"type\":\"object\",\"name\":\"BoxInteractionHandles\",\"id\":\"p1134\",\"attributes\":{\"all\":{\"type\":\"object\",\"name\":\"AreaVisuals\",\"id\":\"p1133\",\"attributes\":{\"fill_color\":\"white\",\"hover_fill_color\":\"lightgray\"}}}}}}]}}]}};\n",
       "  const render_items = [{\"docid\":\"39bab2b1-f082-4a02-8548-51f9d353f4ac\",\"roots\":{\"p1079\":\"a7709d7a-cc54-4281-ade0-c36d7fe6dd99\"},\"root_ids\":[\"p1079\"]}];\n",
       "  void root.Bokeh.embed.embed_items_notebook(docs_json, render_items);\n",
       "  }\n",
       "  if (root.Bokeh !== undefined) {\n",
       "    embed_document(root);\n",
       "  } else {\n",
       "    let attempts = 0;\n",
       "    const timer = setInterval(function(root) {\n",
       "      if (root.Bokeh !== undefined) {\n",
       "        clearInterval(timer);\n",
       "        embed_document(root);\n",
       "      } else {\n",
       "        attempts++;\n",
       "        if (attempts > 100) {\n",
       "          clearInterval(timer);\n",
       "          console.log(\"Bokeh: ERROR: Unable to run BokehJS code because BokehJS library is missing\");\n",
       "        }\n",
       "      }\n",
       "    }, 10, root)\n",
       "  }\n",
       "})(window);"
      ],
      "application/vnd.bokehjs_exec.v0+json": ""
     },
     "metadata": {
      "application/vnd.bokehjs_exec.v0+json": {
       "id": "p1079"
      }
     },
     "output_type": "display_data"
    }
   ],
   "source": [
    "p = figure(height=350, width=1200, x_range=lis_x)\n",
    "\n",
    "blackout = BoxAnnotation(left=14.5, right=34.5, fill_alpha=0.1, fill_color='limegreen',line_color='limegreen', line_width=2, line_dash=[4,4])\n",
    "p.add_layout(blackout)\n",
    "blackout = BoxAnnotation(left=11.5, right=14.5, fill_alpha=0.1, fill_color='orangered',line_color='orangered', line_width=2, line_dash=[4,4])\n",
    "p.add_layout(blackout)\n",
    "blackout1 = BoxAnnotation(left=7.5, right=11.5, fill_alpha=0.13, fill_color='gold',line_color='gold', line_width=2, line_dash=[4,4])\n",
    "p.add_layout(blackout1)\n",
    "\n",
    "source = ColumnDataSource(data={\n",
    "    'date' : groupby_time['open_date'],\n",
    "    'count' : groupby_time['Case Reference']\n",
    "    })\n",
    "\n",
    "p.line(x='date', y='count', source=source, width = 7, color=\"tomato\", alpha=1)\n",
    "p.circle(x='date', y='count', source=source, size=15, line_color=\"white\", fill_color=\"tomato\", line_width=2, alpha=1)\n",
    "\n",
    "p.xaxis.axis_label_text_font_size = \"20pt\"\n",
    "p.xaxis.axis_label_text_font = \"Arial\"\n",
    "p.xaxis.major_label_orientation = \"vertical\"\n",
    "p.xaxis.axis_label_text_font_style = \"bold\"\n",
    "p.xaxis.axis_line_width = 1\n",
    "p.xaxis.major_label_text_font_size = \"20pt\"\n",
    "p.xaxis.major_label_text_font = \"Arial\"\n",
    "\n",
    "p.yaxis.axis_label_text_font_size = \"20pt\"\n",
    "p.yaxis.axis_label_text_font = \"Arial\"\n",
    "p.yaxis.axis_line_width = 1\n",
    "p.yaxis.major_label_text_font_size = \"20pt\"\n",
    "p.yaxis.major_label_text_font = \"Arial\"\n",
    "\n",
    "p.axis.minor_tick_out = 6\n",
    "p.axis.major_tick_out = 10\n",
    "\n",
    "show(p)"
   ]
  },
  {
   "cell_type": "markdown",
   "id": "6f5689fa-f7ba-42fb-abce-245c6bf0dbed",
   "metadata": {},
   "source": [
    "### Requests related to snow removal"
   ]
  },
  {
   "cell_type": "code",
   "execution_count": 9,
   "id": "631192f1-d850-4578-a119-12bd317a36c5",
   "metadata": {},
   "outputs": [],
   "source": [
    "requests = df_12_15[(df_12_15['category'] == \"Issues related to snow\")].copy()\n",
    "groupby_time = requests.groupby([\"Open Date\"]).agg({\"Case Reference\":\"count\"}).reset_index()\n",
    "\n",
    "groupby_time['Open Date'] = groupby_time['Open Date'].astype(str)\n",
    "groupby_time['open_date'] = groupby_time['Open Date'].apply(lambda x: str(x).split(\"-\", 1)[1].replace(\"-\",\"/\"))\n",
    "\n",
    "groupby_time1 = pd.merge(groupby_time, date_index, left_on=\"open_date\", right_on=\"open_date\", how = \"right\")\n",
    "groupby_time1.fillna(0, inplace=True)\n",
    "\n",
    "lis_x = ['12/12','12/13','12/14','12/15','12/16','12/17','12/18','12/19','12/20','12/21','12/22','12/23','12/24','12/25','12/26','12/27','12/28','12/29','12/30','12/31','01/01','01/02','01/03','01/04','01/05','01/06','01/07','01/08','01/09','01/10','01/11','01/12','01/13','01/14','01/15']"
   ]
  },
  {
   "cell_type": "code",
   "execution_count": 10,
   "id": "664322e5-e7be-4361-bde6-7f8ee331dad9",
   "metadata": {},
   "outputs": [
    {
     "name": "stderr",
     "output_type": "stream",
     "text": [
      "BokehDeprecationWarning: 'circle() method with size value' was deprecated in Bokeh 3.4.0 and will be removed, use 'scatter(size=...) instead' instead.\n"
     ]
    },
    {
     "data": {
      "text/html": [
       "\n",
       "  <div id=\"e08a734f-9bb1-479b-8e11-1a6cc4c0fb05\" data-root-id=\"p1157\" style=\"display: contents;\"></div>\n"
      ]
     },
     "metadata": {},
     "output_type": "display_data"
    },
    {
     "data": {
      "application/javascript": [
       "(function(root) {\n",
       "  function embed_document(root) {\n",
       "  const docs_json = {\"267bda4e-f9d1-4010-8150-18669ff5773b\":{\"version\":\"3.5.2\",\"title\":\"Bokeh Application\",\"roots\":[{\"type\":\"object\",\"name\":\"Figure\",\"id\":\"p1157\",\"attributes\":{\"width\":900,\"height\":300,\"x_range\":{\"type\":\"object\",\"name\":\"FactorRange\",\"id\":\"p1166\",\"attributes\":{\"factors\":[\"12/12\",\"12/13\",\"12/14\",\"12/15\",\"12/16\",\"12/17\",\"12/18\",\"12/19\",\"12/20\",\"12/21\",\"12/22\",\"12/23\",\"12/24\",\"12/25\",\"12/26\",\"12/27\",\"12/28\",\"12/29\",\"12/30\",\"12/31\",\"01/01\",\"01/02\",\"01/03\",\"01/04\",\"01/05\",\"01/06\",\"01/07\",\"01/08\",\"01/09\",\"01/10\",\"01/11\",\"01/12\",\"01/13\",\"01/14\",\"01/15\"]}},\"y_range\":{\"type\":\"object\",\"name\":\"DataRange1d\",\"id\":\"p1159\"},\"x_scale\":{\"type\":\"object\",\"name\":\"CategoricalScale\",\"id\":\"p1167\"},\"y_scale\":{\"type\":\"object\",\"name\":\"LinearScale\",\"id\":\"p1168\"},\"title\":{\"type\":\"object\",\"name\":\"Title\",\"id\":\"p1164\"},\"renderers\":[{\"type\":\"object\",\"name\":\"GlyphRenderer\",\"id\":\"p1201\",\"attributes\":{\"data_source\":{\"type\":\"object\",\"name\":\"ColumnDataSource\",\"id\":\"p1192\",\"attributes\":{\"selected\":{\"type\":\"object\",\"name\":\"Selection\",\"id\":\"p1193\",\"attributes\":{\"indices\":[],\"line_indices\":[]}},\"selection_policy\":{\"type\":\"object\",\"name\":\"UnionRenderers\",\"id\":\"p1194\"},\"data\":{\"type\":\"map\",\"entries\":[[\"date\",{\"type\":\"ndarray\",\"array\":[\"12/12\",\"12/13\",\"12/14\",\"12/15\",\"12/16\",\"12/17\",\"12/18\",\"12/19\",\"12/20\",\"12/21\",\"12/22\",\"12/23\",\"12/24\",\"12/25\",\"12/26\",\"12/27\",\"12/28\",\"12/29\",\"12/30\",\"12/31\",\"01/01\",\"01/02\",\"01/03\",\"01/04\",\"01/05\",\"01/06\",\"01/07\",\"01/08\",\"01/09\",\"01/10\",\"01/11\",\"01/12\",\"01/13\",\"01/14\",\"01/15\"],\"shape\":[35],\"dtype\":\"object\",\"order\":\"little\"}],[\"count\",{\"type\":\"ndarray\",\"array\":{\"type\":\"bytes\",\"data\":\"AAAAAAAAAAAAAAAAAADwPwAAAAAAAAAAAAAAAAAA8D8AAAAAAAAAQAAAAAAAACxAAAAAAAAAMUAAAAAAAMBaQAAAAAAAAFlAAAAAAAAATUAAAAAAAABAQAAAAAAAAChAAAAAAAAAHEAAAAAAAABWQAAAAAAAIHhAAAAAAABAjEAAAAAAAECGQAAAAAAAEIBAAAAAAABgbUAAAAAAAAAUQAAAAAAAAPA/AAAAAAAAIkAAAAAAAMBRQAAAAAAAADlAAAAAAAAAOUAAAAAAAAAcQAAAAAAAAPA/AAAAAAAAAEAAAAAAAAAoQAAAAAAAADlAAAAAAAAAJEAAAAAAAAAiQAAAAAAAABhAAAAAAAAAAAAAAAAAAADwPw==\"},\"shape\":[35],\"dtype\":\"float64\",\"order\":\"little\"}]]}}},\"view\":{\"type\":\"object\",\"name\":\"CDSView\",\"id\":\"p1202\",\"attributes\":{\"filter\":{\"type\":\"object\",\"name\":\"AllIndices\",\"id\":\"p1203\"}}},\"glyph\":{\"type\":\"object\",\"name\":\"Line\",\"id\":\"p1198\",\"attributes\":{\"x\":{\"type\":\"field\",\"field\":\"date\"},\"y\":{\"type\":\"field\",\"field\":\"count\"},\"line_color\":\"slateblue\",\"line_width\":7}},\"nonselection_glyph\":{\"type\":\"object\",\"name\":\"Line\",\"id\":\"p1199\",\"attributes\":{\"x\":{\"type\":\"field\",\"field\":\"date\"},\"y\":{\"type\":\"field\",\"field\":\"count\"},\"line_color\":\"slateblue\",\"line_alpha\":0.1,\"line_width\":7}},\"muted_glyph\":{\"type\":\"object\",\"name\":\"Line\",\"id\":\"p1200\",\"attributes\":{\"x\":{\"type\":\"field\",\"field\":\"date\"},\"y\":{\"type\":\"field\",\"field\":\"count\"},\"line_color\":\"slateblue\",\"line_alpha\":0.2,\"line_width\":7}}}},{\"type\":\"object\",\"name\":\"GlyphRenderer\",\"id\":\"p1210\",\"attributes\":{\"data_source\":{\"id\":\"p1192\"},\"view\":{\"type\":\"object\",\"name\":\"CDSView\",\"id\":\"p1211\",\"attributes\":{\"filter\":{\"type\":\"object\",\"name\":\"AllIndices\",\"id\":\"p1212\"}}},\"glyph\":{\"type\":\"object\",\"name\":\"Scatter\",\"id\":\"p1207\",\"attributes\":{\"x\":{\"type\":\"field\",\"field\":\"date\"},\"y\":{\"type\":\"field\",\"field\":\"count\"},\"size\":{\"type\":\"value\",\"value\":15},\"line_color\":{\"type\":\"value\",\"value\":\"white\"},\"line_width\":{\"type\":\"value\",\"value\":2},\"fill_color\":{\"type\":\"value\",\"value\":\"slateblue\"}}},\"nonselection_glyph\":{\"type\":\"object\",\"name\":\"Scatter\",\"id\":\"p1208\",\"attributes\":{\"x\":{\"type\":\"field\",\"field\":\"date\"},\"y\":{\"type\":\"field\",\"field\":\"count\"},\"size\":{\"type\":\"value\",\"value\":15},\"line_color\":{\"type\":\"value\",\"value\":\"white\"},\"line_alpha\":{\"type\":\"value\",\"value\":0.1},\"line_width\":{\"type\":\"value\",\"value\":2},\"fill_color\":{\"type\":\"value\",\"value\":\"slateblue\"},\"fill_alpha\":{\"type\":\"value\",\"value\":0.1},\"hatch_alpha\":{\"type\":\"value\",\"value\":0.1}}},\"muted_glyph\":{\"type\":\"object\",\"name\":\"Scatter\",\"id\":\"p1209\",\"attributes\":{\"x\":{\"type\":\"field\",\"field\":\"date\"},\"y\":{\"type\":\"field\",\"field\":\"count\"},\"size\":{\"type\":\"value\",\"value\":15},\"line_color\":{\"type\":\"value\",\"value\":\"white\"},\"line_alpha\":{\"type\":\"value\",\"value\":0.2},\"line_width\":{\"type\":\"value\",\"value\":2},\"fill_color\":{\"type\":\"value\",\"value\":\"slateblue\"},\"fill_alpha\":{\"type\":\"value\",\"value\":0.2},\"hatch_alpha\":{\"type\":\"value\",\"value\":0.2}}}}}],\"toolbar\":{\"type\":\"object\",\"name\":\"Toolbar\",\"id\":\"p1165\",\"attributes\":{\"tools\":[{\"type\":\"object\",\"name\":\"PanTool\",\"id\":\"p1179\"},{\"type\":\"object\",\"name\":\"WheelZoomTool\",\"id\":\"p1180\",\"attributes\":{\"renderers\":\"auto\"}},{\"type\":\"object\",\"name\":\"BoxZoomTool\",\"id\":\"p1181\",\"attributes\":{\"overlay\":{\"type\":\"object\",\"name\":\"BoxAnnotation\",\"id\":\"p1182\",\"attributes\":{\"syncable\":false,\"line_color\":\"black\",\"line_alpha\":1.0,\"line_width\":2,\"line_dash\":[4,4],\"fill_color\":\"lightgrey\",\"fill_alpha\":0.5,\"level\":\"overlay\",\"visible\":false,\"left\":{\"type\":\"number\",\"value\":\"nan\"},\"right\":{\"type\":\"number\",\"value\":\"nan\"},\"top\":{\"type\":\"number\",\"value\":\"nan\"},\"bottom\":{\"type\":\"number\",\"value\":\"nan\"},\"left_units\":\"canvas\",\"right_units\":\"canvas\",\"top_units\":\"canvas\",\"bottom_units\":\"canvas\",\"handles\":{\"type\":\"object\",\"name\":\"BoxInteractionHandles\",\"id\":\"p1188\",\"attributes\":{\"all\":{\"type\":\"object\",\"name\":\"AreaVisuals\",\"id\":\"p1187\",\"attributes\":{\"fill_color\":\"white\",\"hover_fill_color\":\"lightgray\"}}}}}}}},{\"type\":\"object\",\"name\":\"SaveTool\",\"id\":\"p1189\"},{\"type\":\"object\",\"name\":\"ResetTool\",\"id\":\"p1190\"},{\"type\":\"object\",\"name\":\"HelpTool\",\"id\":\"p1191\"}]}},\"left\":[{\"type\":\"object\",\"name\":\"LinearAxis\",\"id\":\"p1174\",\"attributes\":{\"ticker\":{\"type\":\"object\",\"name\":\"BasicTicker\",\"id\":\"p1175\",\"attributes\":{\"mantissas\":[1,2,5]}},\"formatter\":{\"type\":\"object\",\"name\":\"BasicTickFormatter\",\"id\":\"p1176\"},\"axis_label_text_font\":\"Arial\",\"axis_label_text_font_size\":\"20pt\",\"major_label_policy\":{\"type\":\"object\",\"name\":\"AllLabels\",\"id\":\"p1177\"},\"major_label_text_font\":\"Arial\",\"major_label_text_font_size\":\"20pt\",\"major_tick_out\":10,\"minor_tick_out\":6}}],\"below\":[{\"type\":\"object\",\"name\":\"CategoricalAxis\",\"id\":\"p1169\",\"attributes\":{\"ticker\":{\"type\":\"object\",\"name\":\"CategoricalTicker\",\"id\":\"p1170\"},\"formatter\":{\"type\":\"object\",\"name\":\"CategoricalTickFormatter\",\"id\":\"p1171\"},\"axis_label_text_font\":\"Arial\",\"axis_label_text_font_size\":\"20pt\",\"axis_label_text_font_style\":\"bold\",\"major_label_orientation\":\"vertical\",\"major_label_policy\":{\"type\":\"object\",\"name\":\"AllLabels\",\"id\":\"p1172\"},\"major_label_text_font\":\"Arial\",\"major_label_text_font_size\":\"20pt\",\"major_tick_out\":10,\"minor_tick_out\":6}}],\"center\":[{\"type\":\"object\",\"name\":\"Grid\",\"id\":\"p1173\",\"attributes\":{\"axis\":{\"id\":\"p1169\"}}},{\"type\":\"object\",\"name\":\"Grid\",\"id\":\"p1178\",\"attributes\":{\"dimension\":1,\"axis\":{\"id\":\"p1174\"}}},{\"type\":\"object\",\"name\":\"BoxAnnotation\",\"id\":\"p1213\",\"attributes\":{\"line_color\":\"limegreen\",\"line_width\":2,\"line_dash\":[4,4],\"fill_color\":\"limegreen\",\"fill_alpha\":0.1,\"left\":14.5,\"right\":34.5,\"top\":{\"type\":\"object\",\"name\":\"Node\",\"id\":\"p1216\",\"attributes\":{\"target\":\"frame\",\"symbol\":\"top\"}},\"bottom\":{\"type\":\"object\",\"name\":\"Node\",\"id\":\"p1217\",\"attributes\":{\"target\":\"frame\",\"symbol\":\"bottom\"}},\"handles\":{\"type\":\"object\",\"name\":\"BoxInteractionHandles\",\"id\":\"p1219\",\"attributes\":{\"all\":{\"type\":\"object\",\"name\":\"AreaVisuals\",\"id\":\"p1218\",\"attributes\":{\"fill_color\":\"white\",\"hover_fill_color\":\"lightgray\"}}}}}},{\"type\":\"object\",\"name\":\"BoxAnnotation\",\"id\":\"p1220\",\"attributes\":{\"line_color\":\"orangered\",\"line_width\":2,\"line_dash\":[4,4],\"fill_color\":\"orangered\",\"fill_alpha\":0.1,\"left\":11.5,\"right\":14.5,\"top\":{\"type\":\"object\",\"name\":\"Node\",\"id\":\"p1223\",\"attributes\":{\"target\":\"frame\",\"symbol\":\"top\"}},\"bottom\":{\"type\":\"object\",\"name\":\"Node\",\"id\":\"p1224\",\"attributes\":{\"target\":\"frame\",\"symbol\":\"bottom\"}},\"handles\":{\"type\":\"object\",\"name\":\"BoxInteractionHandles\",\"id\":\"p1226\",\"attributes\":{\"all\":{\"type\":\"object\",\"name\":\"AreaVisuals\",\"id\":\"p1225\",\"attributes\":{\"fill_color\":\"white\",\"hover_fill_color\":\"lightgray\"}}}}}},{\"type\":\"object\",\"name\":\"BoxAnnotation\",\"id\":\"p1227\",\"attributes\":{\"line_color\":\"gold\",\"line_width\":2,\"line_dash\":[4,4],\"fill_color\":\"gold\",\"fill_alpha\":0.13,\"left\":7.5,\"right\":11.5,\"top\":{\"type\":\"object\",\"name\":\"Node\",\"id\":\"p1230\",\"attributes\":{\"target\":\"frame\",\"symbol\":\"top\"}},\"bottom\":{\"type\":\"object\",\"name\":\"Node\",\"id\":\"p1231\",\"attributes\":{\"target\":\"frame\",\"symbol\":\"bottom\"}},\"handles\":{\"type\":\"object\",\"name\":\"BoxInteractionHandles\",\"id\":\"p1233\",\"attributes\":{\"all\":{\"type\":\"object\",\"name\":\"AreaVisuals\",\"id\":\"p1232\",\"attributes\":{\"fill_color\":\"white\",\"hover_fill_color\":\"lightgray\"}}}}}}]}}]}};\n",
       "  const render_items = [{\"docid\":\"267bda4e-f9d1-4010-8150-18669ff5773b\",\"roots\":{\"p1157\":\"e08a734f-9bb1-479b-8e11-1a6cc4c0fb05\"},\"root_ids\":[\"p1157\"]}];\n",
       "  void root.Bokeh.embed.embed_items_notebook(docs_json, render_items);\n",
       "  }\n",
       "  if (root.Bokeh !== undefined) {\n",
       "    embed_document(root);\n",
       "  } else {\n",
       "    let attempts = 0;\n",
       "    const timer = setInterval(function(root) {\n",
       "      if (root.Bokeh !== undefined) {\n",
       "        clearInterval(timer);\n",
       "        embed_document(root);\n",
       "      } else {\n",
       "        attempts++;\n",
       "        if (attempts > 100) {\n",
       "          clearInterval(timer);\n",
       "          console.log(\"Bokeh: ERROR: Unable to run BokehJS code because BokehJS library is missing\");\n",
       "        }\n",
       "      }\n",
       "    }, 10, root)\n",
       "  }\n",
       "})(window);"
      ],
      "application/vnd.bokehjs_exec.v0+json": ""
     },
     "metadata": {
      "application/vnd.bokehjs_exec.v0+json": {
       "id": "p1157"
      }
     },
     "output_type": "display_data"
    }
   ],
   "source": [
    "p = figure(height=300, width=900, x_range=lis_x)\n",
    "\n",
    "source = ColumnDataSource(data={\n",
    "    'date' : groupby_time1['open_date'],\n",
    "    'count' : groupby_time1['Case Reference']\n",
    "    })\n",
    "\n",
    "p.line(x='date', y='count', source=source, width = 7, color=\"slateblue\", alpha=1)\n",
    "p.circle(x='date', y='count', source=source, size=15, line_color=\"white\", fill_color=\"slateblue\", line_width=2, alpha=1)\n",
    "\n",
    "p.xaxis.axis_label_text_font_size = \"20pt\"\n",
    "p.xaxis.axis_label_text_font = \"Arial\"\n",
    "p.xaxis.major_label_orientation = \"vertical\"\n",
    "p.xaxis.axis_label_text_font_style = \"bold\"\n",
    "p.xaxis.axis_line_width = 1\n",
    "p.xaxis.major_label_text_font_size = \"20pt\"\n",
    "p.xaxis.major_label_text_font = \"Arial\"\n",
    "\n",
    "p.yaxis.axis_label_text_font_size = \"20pt\"\n",
    "p.yaxis.axis_label_text_font = \"Arial\"\n",
    "p.yaxis.axis_line_width = 1\n",
    "p.yaxis.major_label_text_font_size = \"20pt\"\n",
    "p.yaxis.major_label_text_font = \"Arial\"\n",
    "\n",
    "p.axis.minor_tick_out = 6\n",
    "p.axis.major_tick_out = 10\n",
    "\n",
    "blackout = BoxAnnotation(left=14.5, right=34.5, fill_alpha=0.1, fill_color='limegreen',line_color='limegreen', line_width=2, line_dash=[4,4])\n",
    "p.add_layout(blackout)\n",
    "blackout = BoxAnnotation(left=11.5, right=14.5, fill_alpha=0.1, fill_color='orangered',line_color='orangered', line_width=2, line_dash=[4,4])\n",
    "p.add_layout(blackout)\n",
    "blackout1 = BoxAnnotation(left=7.5, right=11.5, fill_alpha=0.13, fill_color='gold',line_color='gold', line_width=2, line_dash=[4,4])\n",
    "p.add_layout(blackout1)\n",
    "\n",
    "show(p)"
   ]
  },
  {
   "cell_type": "markdown",
   "id": "70565008-652d-4384-b891-34f6838e8eb4",
   "metadata": {},
   "source": [
    "### Requests related to garbage/recycling collection"
   ]
  },
  {
   "cell_type": "code",
   "execution_count": 11,
   "id": "b4bedfc2-2534-4f59-b56d-ed51c4b2856f",
   "metadata": {},
   "outputs": [],
   "source": [
    "requests = df_12_15[(df_12_15['category'] == \"Issues related to garbage/recycling collection\")].copy()\n",
    "groupby_time = requests.groupby([\"Open Date\"]).agg({\"Case Reference\":\"count\"}).reset_index()\n",
    "\n",
    "groupby_time['Open Date'] = groupby_time['Open Date'].astype(str)\n",
    "groupby_time['open_date'] = groupby_time['Open Date'].apply(lambda x: str(x).split(\"-\", 1)[1].replace(\"-\",\"/\"))\n",
    "\n",
    "groupby_time1 = pd.merge(groupby_time, date_index, left_on=\"open_date\", right_on=\"open_date\", how = \"right\")\n",
    "groupby_time1.fillna(0, inplace=True)\n",
    "\n",
    "lis_x = ['12/12','12/13','12/14','12/15','12/16','12/17','12/18','12/19','12/20','12/21','12/22','12/23','12/24','12/25','12/26','12/27','12/28','12/29','12/30','12/31','01/01','01/02','01/03','01/04','01/05','01/06','01/07','01/08','01/09','01/10','01/11','01/12','01/13','01/14','01/15']"
   ]
  },
  {
   "cell_type": "code",
   "execution_count": 13,
   "id": "486d62a5-7002-4e4b-8b18-bb9b811dafd1",
   "metadata": {},
   "outputs": [
    {
     "name": "stderr",
     "output_type": "stream",
     "text": [
      "BokehDeprecationWarning: 'circle() method with size value' was deprecated in Bokeh 3.4.0 and will be removed, use 'scatter(size=...) instead' instead.\n"
     ]
    },
    {
     "data": {
      "text/html": [
       "\n",
       "  <div id=\"cde47c97-6262-46e0-90af-3d8203227821\" data-root-id=\"p1313\" style=\"display: contents;\"></div>\n"
      ]
     },
     "metadata": {},
     "output_type": "display_data"
    },
    {
     "data": {
      "application/javascript": [
       "(function(root) {\n",
       "  function embed_document(root) {\n",
       "  const docs_json = {\"7fb9cb97-ea56-41cc-a4f5-066fa3d0c5fc\":{\"version\":\"3.5.2\",\"title\":\"Bokeh Application\",\"roots\":[{\"type\":\"object\",\"name\":\"Figure\",\"id\":\"p1313\",\"attributes\":{\"width\":900,\"height\":300,\"x_range\":{\"type\":\"object\",\"name\":\"FactorRange\",\"id\":\"p1322\",\"attributes\":{\"factors\":[\"12/12\",\"12/13\",\"12/14\",\"12/15\",\"12/16\",\"12/17\",\"12/18\",\"12/19\",\"12/20\",\"12/21\",\"12/22\",\"12/23\",\"12/24\",\"12/25\",\"12/26\",\"12/27\",\"12/28\",\"12/29\",\"12/30\",\"12/31\",\"01/01\",\"01/02\",\"01/03\",\"01/04\",\"01/05\",\"01/06\",\"01/07\",\"01/08\",\"01/09\",\"01/10\",\"01/11\",\"01/12\",\"01/13\",\"01/14\",\"01/15\"]}},\"y_range\":{\"type\":\"object\",\"name\":\"DataRange1d\",\"id\":\"p1315\"},\"x_scale\":{\"type\":\"object\",\"name\":\"CategoricalScale\",\"id\":\"p1323\"},\"y_scale\":{\"type\":\"object\",\"name\":\"LinearScale\",\"id\":\"p1324\"},\"title\":{\"type\":\"object\",\"name\":\"Title\",\"id\":\"p1320\"},\"renderers\":[{\"type\":\"object\",\"name\":\"GlyphRenderer\",\"id\":\"p1357\",\"attributes\":{\"data_source\":{\"type\":\"object\",\"name\":\"ColumnDataSource\",\"id\":\"p1348\",\"attributes\":{\"selected\":{\"type\":\"object\",\"name\":\"Selection\",\"id\":\"p1349\",\"attributes\":{\"indices\":[],\"line_indices\":[]}},\"selection_policy\":{\"type\":\"object\",\"name\":\"UnionRenderers\",\"id\":\"p1350\"},\"data\":{\"type\":\"map\",\"entries\":[[\"date\",{\"type\":\"ndarray\",\"array\":[\"12/12\",\"12/13\",\"12/14\",\"12/15\",\"12/16\",\"12/17\",\"12/18\",\"12/19\",\"12/20\",\"12/21\",\"12/22\",\"12/23\",\"12/24\",\"12/25\",\"12/26\",\"12/27\",\"12/28\",\"12/29\",\"12/30\",\"12/31\",\"01/01\",\"01/02\",\"01/03\",\"01/04\",\"01/05\",\"01/06\",\"01/07\",\"01/08\",\"01/09\",\"01/10\",\"01/11\",\"01/12\",\"01/13\",\"01/14\",\"01/15\"],\"shape\":[35],\"dtype\":\"object\",\"order\":\"little\"}],[\"count\",{\"type\":\"ndarray\",\"array\":{\"type\":\"bytes\",\"data\":\"AAAAAABAUkAAAAAAAEBTQAAAAAAAgFBAAAAAAAAAX0AAAAAAAEBbQAAAAAAAAPA/AAAAAAAA8D8AAAAAAABXQAAAAAAAQFVAAAAAAAAAUUAAAAAAAABLQAAAAAAAABBAAAAAAAAAAAAAAAAAAAAAAAAAAAAAAAhAAAAAAAAAIEAAAAAAAAAqQAAAAAAAADNAAAAAAAAAUUAAAAAAAAAIQAAAAAAAAAAAAAAAAAAAO0AAAAAAAMBqQAAAAAAAwG9AAAAAAAAAb0AAAAAAAEBqQAAAAAAAACJAAAAAAAAAIkAAAAAAAIBmQAAAAAAAYGFAAAAAAACAWUAAAAAAAMBaQAAAAAAAAFJAAAAAAAAAAAAAAAAAAAAAAA==\"},\"shape\":[35],\"dtype\":\"float64\",\"order\":\"little\"}]]}}},\"view\":{\"type\":\"object\",\"name\":\"CDSView\",\"id\":\"p1358\",\"attributes\":{\"filter\":{\"type\":\"object\",\"name\":\"AllIndices\",\"id\":\"p1359\"}}},\"glyph\":{\"type\":\"object\",\"name\":\"Line\",\"id\":\"p1354\",\"attributes\":{\"x\":{\"type\":\"field\",\"field\":\"date\"},\"y\":{\"type\":\"field\",\"field\":\"count\"},\"line_color\":\"darkorange\",\"line_width\":7}},\"nonselection_glyph\":{\"type\":\"object\",\"name\":\"Line\",\"id\":\"p1355\",\"attributes\":{\"x\":{\"type\":\"field\",\"field\":\"date\"},\"y\":{\"type\":\"field\",\"field\":\"count\"},\"line_color\":\"darkorange\",\"line_alpha\":0.1,\"line_width\":7}},\"muted_glyph\":{\"type\":\"object\",\"name\":\"Line\",\"id\":\"p1356\",\"attributes\":{\"x\":{\"type\":\"field\",\"field\":\"date\"},\"y\":{\"type\":\"field\",\"field\":\"count\"},\"line_color\":\"darkorange\",\"line_alpha\":0.2,\"line_width\":7}}}},{\"type\":\"object\",\"name\":\"GlyphRenderer\",\"id\":\"p1366\",\"attributes\":{\"data_source\":{\"id\":\"p1348\"},\"view\":{\"type\":\"object\",\"name\":\"CDSView\",\"id\":\"p1367\",\"attributes\":{\"filter\":{\"type\":\"object\",\"name\":\"AllIndices\",\"id\":\"p1368\"}}},\"glyph\":{\"type\":\"object\",\"name\":\"Scatter\",\"id\":\"p1363\",\"attributes\":{\"x\":{\"type\":\"field\",\"field\":\"date\"},\"y\":{\"type\":\"field\",\"field\":\"count\"},\"size\":{\"type\":\"value\",\"value\":15},\"line_color\":{\"type\":\"value\",\"value\":\"white\"},\"line_width\":{\"type\":\"value\",\"value\":2},\"fill_color\":{\"type\":\"value\",\"value\":\"darkorange\"}}},\"nonselection_glyph\":{\"type\":\"object\",\"name\":\"Scatter\",\"id\":\"p1364\",\"attributes\":{\"x\":{\"type\":\"field\",\"field\":\"date\"},\"y\":{\"type\":\"field\",\"field\":\"count\"},\"size\":{\"type\":\"value\",\"value\":15},\"line_color\":{\"type\":\"value\",\"value\":\"white\"},\"line_alpha\":{\"type\":\"value\",\"value\":0.1},\"line_width\":{\"type\":\"value\",\"value\":2},\"fill_color\":{\"type\":\"value\",\"value\":\"darkorange\"},\"fill_alpha\":{\"type\":\"value\",\"value\":0.1},\"hatch_alpha\":{\"type\":\"value\",\"value\":0.1}}},\"muted_glyph\":{\"type\":\"object\",\"name\":\"Scatter\",\"id\":\"p1365\",\"attributes\":{\"x\":{\"type\":\"field\",\"field\":\"date\"},\"y\":{\"type\":\"field\",\"field\":\"count\"},\"size\":{\"type\":\"value\",\"value\":15},\"line_color\":{\"type\":\"value\",\"value\":\"white\"},\"line_alpha\":{\"type\":\"value\",\"value\":0.2},\"line_width\":{\"type\":\"value\",\"value\":2},\"fill_color\":{\"type\":\"value\",\"value\":\"darkorange\"},\"fill_alpha\":{\"type\":\"value\",\"value\":0.2},\"hatch_alpha\":{\"type\":\"value\",\"value\":0.2}}}}}],\"toolbar\":{\"type\":\"object\",\"name\":\"Toolbar\",\"id\":\"p1321\",\"attributes\":{\"tools\":[{\"type\":\"object\",\"name\":\"PanTool\",\"id\":\"p1335\"},{\"type\":\"object\",\"name\":\"WheelZoomTool\",\"id\":\"p1336\",\"attributes\":{\"renderers\":\"auto\"}},{\"type\":\"object\",\"name\":\"BoxZoomTool\",\"id\":\"p1337\",\"attributes\":{\"overlay\":{\"type\":\"object\",\"name\":\"BoxAnnotation\",\"id\":\"p1338\",\"attributes\":{\"syncable\":false,\"line_color\":\"black\",\"line_alpha\":1.0,\"line_width\":2,\"line_dash\":[4,4],\"fill_color\":\"lightgrey\",\"fill_alpha\":0.5,\"level\":\"overlay\",\"visible\":false,\"left\":{\"type\":\"number\",\"value\":\"nan\"},\"right\":{\"type\":\"number\",\"value\":\"nan\"},\"top\":{\"type\":\"number\",\"value\":\"nan\"},\"bottom\":{\"type\":\"number\",\"value\":\"nan\"},\"left_units\":\"canvas\",\"right_units\":\"canvas\",\"top_units\":\"canvas\",\"bottom_units\":\"canvas\",\"handles\":{\"type\":\"object\",\"name\":\"BoxInteractionHandles\",\"id\":\"p1344\",\"attributes\":{\"all\":{\"type\":\"object\",\"name\":\"AreaVisuals\",\"id\":\"p1343\",\"attributes\":{\"fill_color\":\"white\",\"hover_fill_color\":\"lightgray\"}}}}}}}},{\"type\":\"object\",\"name\":\"SaveTool\",\"id\":\"p1345\"},{\"type\":\"object\",\"name\":\"ResetTool\",\"id\":\"p1346\"},{\"type\":\"object\",\"name\":\"HelpTool\",\"id\":\"p1347\"}]}},\"left\":[{\"type\":\"object\",\"name\":\"LinearAxis\",\"id\":\"p1330\",\"attributes\":{\"ticker\":{\"type\":\"object\",\"name\":\"BasicTicker\",\"id\":\"p1331\",\"attributes\":{\"mantissas\":[1,2,5]}},\"formatter\":{\"type\":\"object\",\"name\":\"BasicTickFormatter\",\"id\":\"p1332\"},\"axis_label_text_font\":\"Arial\",\"axis_label_text_font_size\":\"20pt\",\"major_label_policy\":{\"type\":\"object\",\"name\":\"AllLabels\",\"id\":\"p1333\"},\"major_label_text_font\":\"Arial\",\"major_label_text_font_size\":\"20pt\",\"major_tick_out\":10,\"minor_tick_out\":6}}],\"below\":[{\"type\":\"object\",\"name\":\"CategoricalAxis\",\"id\":\"p1325\",\"attributes\":{\"ticker\":{\"type\":\"object\",\"name\":\"CategoricalTicker\",\"id\":\"p1326\"},\"formatter\":{\"type\":\"object\",\"name\":\"CategoricalTickFormatter\",\"id\":\"p1327\"},\"axis_label_text_font\":\"Arial\",\"axis_label_text_font_size\":\"20pt\",\"axis_label_text_font_style\":\"bold\",\"major_label_orientation\":\"vertical\",\"major_label_policy\":{\"type\":\"object\",\"name\":\"AllLabels\",\"id\":\"p1328\"},\"major_label_text_font\":\"Arial\",\"major_label_text_font_size\":\"20pt\",\"major_tick_out\":10,\"minor_tick_out\":6}}],\"center\":[{\"type\":\"object\",\"name\":\"Grid\",\"id\":\"p1329\",\"attributes\":{\"axis\":{\"id\":\"p1325\"}}},{\"type\":\"object\",\"name\":\"Grid\",\"id\":\"p1334\",\"attributes\":{\"dimension\":1,\"axis\":{\"id\":\"p1330\"}}},{\"type\":\"object\",\"name\":\"BoxAnnotation\",\"id\":\"p1369\",\"attributes\":{\"line_color\":\"limegreen\",\"line_width\":2,\"line_dash\":[4,4],\"fill_color\":\"limegreen\",\"fill_alpha\":0.1,\"left\":14.5,\"right\":34.5,\"top\":{\"type\":\"object\",\"name\":\"Node\",\"id\":\"p1372\",\"attributes\":{\"target\":\"frame\",\"symbol\":\"top\"}},\"bottom\":{\"type\":\"object\",\"name\":\"Node\",\"id\":\"p1373\",\"attributes\":{\"target\":\"frame\",\"symbol\":\"bottom\"}},\"handles\":{\"type\":\"object\",\"name\":\"BoxInteractionHandles\",\"id\":\"p1375\",\"attributes\":{\"all\":{\"type\":\"object\",\"name\":\"AreaVisuals\",\"id\":\"p1374\",\"attributes\":{\"fill_color\":\"white\",\"hover_fill_color\":\"lightgray\"}}}}}},{\"type\":\"object\",\"name\":\"BoxAnnotation\",\"id\":\"p1376\",\"attributes\":{\"line_color\":\"orangered\",\"line_width\":2,\"line_dash\":[4,4],\"fill_color\":\"orangered\",\"fill_alpha\":0.1,\"left\":11.5,\"right\":14.5,\"top\":{\"type\":\"object\",\"name\":\"Node\",\"id\":\"p1379\",\"attributes\":{\"target\":\"frame\",\"symbol\":\"top\"}},\"bottom\":{\"type\":\"object\",\"name\":\"Node\",\"id\":\"p1380\",\"attributes\":{\"target\":\"frame\",\"symbol\":\"bottom\"}},\"handles\":{\"type\":\"object\",\"name\":\"BoxInteractionHandles\",\"id\":\"p1382\",\"attributes\":{\"all\":{\"type\":\"object\",\"name\":\"AreaVisuals\",\"id\":\"p1381\",\"attributes\":{\"fill_color\":\"white\",\"hover_fill_color\":\"lightgray\"}}}}}},{\"type\":\"object\",\"name\":\"BoxAnnotation\",\"id\":\"p1383\",\"attributes\":{\"line_color\":\"gold\",\"line_width\":2,\"line_dash\":[4,4],\"fill_color\":\"gold\",\"fill_alpha\":0.13,\"left\":7.5,\"right\":11.5,\"top\":{\"type\":\"object\",\"name\":\"Node\",\"id\":\"p1386\",\"attributes\":{\"target\":\"frame\",\"symbol\":\"top\"}},\"bottom\":{\"type\":\"object\",\"name\":\"Node\",\"id\":\"p1387\",\"attributes\":{\"target\":\"frame\",\"symbol\":\"bottom\"}},\"handles\":{\"type\":\"object\",\"name\":\"BoxInteractionHandles\",\"id\":\"p1389\",\"attributes\":{\"all\":{\"type\":\"object\",\"name\":\"AreaVisuals\",\"id\":\"p1388\",\"attributes\":{\"fill_color\":\"white\",\"hover_fill_color\":\"lightgray\"}}}}}}]}}]}};\n",
       "  const render_items = [{\"docid\":\"7fb9cb97-ea56-41cc-a4f5-066fa3d0c5fc\",\"roots\":{\"p1313\":\"cde47c97-6262-46e0-90af-3d8203227821\"},\"root_ids\":[\"p1313\"]}];\n",
       "  void root.Bokeh.embed.embed_items_notebook(docs_json, render_items);\n",
       "  }\n",
       "  if (root.Bokeh !== undefined) {\n",
       "    embed_document(root);\n",
       "  } else {\n",
       "    let attempts = 0;\n",
       "    const timer = setInterval(function(root) {\n",
       "      if (root.Bokeh !== undefined) {\n",
       "        clearInterval(timer);\n",
       "        embed_document(root);\n",
       "      } else {\n",
       "        attempts++;\n",
       "        if (attempts > 100) {\n",
       "          clearInterval(timer);\n",
       "          console.log(\"Bokeh: ERROR: Unable to run BokehJS code because BokehJS library is missing\");\n",
       "        }\n",
       "      }\n",
       "    }, 10, root)\n",
       "  }\n",
       "})(window);"
      ],
      "application/vnd.bokehjs_exec.v0+json": ""
     },
     "metadata": {
      "application/vnd.bokehjs_exec.v0+json": {
       "id": "p1313"
      }
     },
     "output_type": "display_data"
    }
   ],
   "source": [
    "p = figure(height=300, width=900, x_range=lis_x)\n",
    "\n",
    "source = ColumnDataSource(data={\n",
    "    'date' : groupby_time1['open_date'],\n",
    "    'count' : groupby_time1['Case Reference']\n",
    "    })\n",
    "\n",
    "p.line(x='date', y='count', source=source, width = 7, color=\"darkorange\", alpha=1)\n",
    "p.circle(x='date', y='count', source=source, size=15, line_color=\"white\", fill_color=\"darkorange\", line_width=2, alpha=1)\n",
    "\n",
    "p.xaxis.axis_label_text_font_size = \"20pt\"\n",
    "p.xaxis.axis_label_text_font = \"Arial\"\n",
    "p.xaxis.major_label_orientation = \"vertical\"\n",
    "p.xaxis.axis_label_text_font_style = \"bold\"\n",
    "p.xaxis.axis_line_width = 1\n",
    "p.xaxis.major_label_text_font_size = \"20pt\"\n",
    "p.xaxis.major_label_text_font = \"Arial\"\n",
    "\n",
    "p.yaxis.axis_label_text_font_size = \"20pt\"\n",
    "p.yaxis.axis_label_text_font = \"Arial\"\n",
    "p.yaxis.axis_line_width = 1\n",
    "p.yaxis.major_label_text_font_size = \"20pt\"\n",
    "p.yaxis.major_label_text_font = \"Arial\"\n",
    "\n",
    "p.axis.minor_tick_out = 6\n",
    "p.axis.major_tick_out = 10\n",
    "\n",
    "blackout = BoxAnnotation(left=14.5, right=34.5, fill_alpha=0.1, fill_color='limegreen',line_color='limegreen', line_width=2, line_dash=[4,4])\n",
    "p.add_layout(blackout)\n",
    "blackout = BoxAnnotation(left=11.5, right=14.5, fill_alpha=0.1, fill_color='orangered',line_color='orangered', line_width=2, line_dash=[4,4])\n",
    "p.add_layout(blackout)\n",
    "blackout1 = BoxAnnotation(left=7.5, right=11.5, fill_alpha=0.13, fill_color='gold',line_color='gold', line_width=2, line_dash=[4,4])\n",
    "p.add_layout(blackout1)\n",
    "\n",
    "show(p)"
   ]
  },
  {
   "cell_type": "markdown",
   "id": "082b75e9-1c1c-4655-9a9f-093c1c75c150",
   "metadata": {},
   "source": [
    "### Requests related to roads and parking"
   ]
  },
  {
   "cell_type": "code",
   "execution_count": 16,
   "id": "7b9e55f7-91c5-479b-ad10-67260194bf97",
   "metadata": {},
   "outputs": [],
   "source": [
    "requests = df_12_15[(df_12_15['category'] == \"Issues related to roads and parking\")].copy()\n",
    "groupby_time = requests.groupby([\"Open Date\"]).agg({\"Case Reference\":\"count\"}).reset_index()\n",
    "\n",
    "groupby_time['Open Date'] = groupby_time['Open Date'].astype(str)\n",
    "groupby_time['open_date'] = groupby_time['Open Date'].apply(lambda x: str(x).split(\"-\", 1)[1].replace(\"-\",\"/\"))\n",
    "\n",
    "groupby_time1 = pd.merge(groupby_time, date_index, left_on=\"open_date\", right_on=\"open_date\", how = \"right\")\n",
    "groupby_time1.fillna(0, inplace=True)\n",
    "\n",
    "lis_x = ['12/12','12/13','12/14','12/15','12/16','12/17','12/18','12/19','12/20','12/21','12/22','12/23','12/24','12/25','12/26','12/27','12/28','12/29','12/30','12/31','01/01','01/02','01/03','01/04','01/05','01/06','01/07','01/08','01/09','01/10','01/11','01/12','01/13','01/14','01/15']"
   ]
  },
  {
   "cell_type": "code",
   "execution_count": 17,
   "id": "c9564f19-192b-41fc-88c7-229ec81d76a0",
   "metadata": {},
   "outputs": [
    {
     "name": "stderr",
     "output_type": "stream",
     "text": [
      "BokehDeprecationWarning: 'circle() method with size value' was deprecated in Bokeh 3.4.0 and will be removed, use 'scatter(size=...) instead' instead.\n"
     ]
    },
    {
     "data": {
      "text/html": [
       "\n",
       "  <div id=\"e2faf466-19dd-442a-886f-1344fcb3f0da\" data-root-id=\"p1469\" style=\"display: contents;\"></div>\n"
      ]
     },
     "metadata": {},
     "output_type": "display_data"
    },
    {
     "data": {
      "application/javascript": [
       "(function(root) {\n",
       "  function embed_document(root) {\n",
       "  const docs_json = {\"f22091a4-0abf-4c7b-80aa-b874335cb277\":{\"version\":\"3.5.2\",\"title\":\"Bokeh Application\",\"roots\":[{\"type\":\"object\",\"name\":\"Figure\",\"id\":\"p1469\",\"attributes\":{\"width\":900,\"height\":300,\"x_range\":{\"type\":\"object\",\"name\":\"FactorRange\",\"id\":\"p1478\",\"attributes\":{\"factors\":[\"12/12\",\"12/13\",\"12/14\",\"12/15\",\"12/16\",\"12/17\",\"12/18\",\"12/19\",\"12/20\",\"12/21\",\"12/22\",\"12/23\",\"12/24\",\"12/25\",\"12/26\",\"12/27\",\"12/28\",\"12/29\",\"12/30\",\"12/31\",\"01/01\",\"01/02\",\"01/03\",\"01/04\",\"01/05\",\"01/06\",\"01/07\",\"01/08\",\"01/09\",\"01/10\",\"01/11\",\"01/12\",\"01/13\",\"01/14\",\"01/15\"]}},\"y_range\":{\"type\":\"object\",\"name\":\"DataRange1d\",\"id\":\"p1471\"},\"x_scale\":{\"type\":\"object\",\"name\":\"CategoricalScale\",\"id\":\"p1479\"},\"y_scale\":{\"type\":\"object\",\"name\":\"LinearScale\",\"id\":\"p1480\"},\"title\":{\"type\":\"object\",\"name\":\"Title\",\"id\":\"p1476\"},\"renderers\":[{\"type\":\"object\",\"name\":\"GlyphRenderer\",\"id\":\"p1513\",\"attributes\":{\"data_source\":{\"type\":\"object\",\"name\":\"ColumnDataSource\",\"id\":\"p1504\",\"attributes\":{\"selected\":{\"type\":\"object\",\"name\":\"Selection\",\"id\":\"p1505\",\"attributes\":{\"indices\":[],\"line_indices\":[]}},\"selection_policy\":{\"type\":\"object\",\"name\":\"UnionRenderers\",\"id\":\"p1506\"},\"data\":{\"type\":\"map\",\"entries\":[[\"date\",{\"type\":\"ndarray\",\"array\":[\"12/12\",\"12/13\",\"12/14\",\"12/15\",\"12/16\",\"12/17\",\"12/18\",\"12/19\",\"12/20\",\"12/21\",\"12/22\",\"12/23\",\"12/24\",\"12/25\",\"12/26\",\"12/27\",\"12/28\",\"12/29\",\"12/30\",\"12/31\",\"01/01\",\"01/02\",\"01/03\",\"01/04\",\"01/05\",\"01/06\",\"01/07\",\"01/08\",\"01/09\",\"01/10\",\"01/11\",\"01/12\",\"01/13\",\"01/14\",\"01/15\"],\"shape\":[35],\"dtype\":\"object\",\"order\":\"little\"}],[\"count\",{\"type\":\"ndarray\",\"array\":{\"type\":\"bytes\",\"data\":\"AAAAAAAAOUAAAAAAAAA2QAAAAAAAADhAAAAAAAAAM0AAAAAAAAA9QAAAAAAAABBAAAAAAAAA8D8AAAAAAAA6QAAAAAAAADVAAAAAAAAANkAAAAAAAAAxQAAAAAAAADFAAAAAAAAAAEAAAAAAAAAQQAAAAAAAACpAAAAAAAAAOEAAAAAAAAAwQAAAAAAAADlAAAAAAACARkAAAAAAAAAgQAAAAAAAABRAAAAAAAAANEAAAAAAAABMQAAAAAAAgEhAAAAAAACAS0AAAAAAAABPQAAAAAAAACJAAAAAAAAAHEAAAAAAAABQQAAAAAAAAExAAAAAAAAAQUAAAAAAAABIQAAAAAAAgEJAAAAAAAAAAAAAAAAAAAAAQA==\"},\"shape\":[35],\"dtype\":\"float64\",\"order\":\"little\"}]]}}},\"view\":{\"type\":\"object\",\"name\":\"CDSView\",\"id\":\"p1514\",\"attributes\":{\"filter\":{\"type\":\"object\",\"name\":\"AllIndices\",\"id\":\"p1515\"}}},\"glyph\":{\"type\":\"object\",\"name\":\"Line\",\"id\":\"p1510\",\"attributes\":{\"x\":{\"type\":\"field\",\"field\":\"date\"},\"y\":{\"type\":\"field\",\"field\":\"count\"},\"line_color\":\"grey\",\"line_width\":7}},\"nonselection_glyph\":{\"type\":\"object\",\"name\":\"Line\",\"id\":\"p1511\",\"attributes\":{\"x\":{\"type\":\"field\",\"field\":\"date\"},\"y\":{\"type\":\"field\",\"field\":\"count\"},\"line_color\":\"grey\",\"line_alpha\":0.1,\"line_width\":7}},\"muted_glyph\":{\"type\":\"object\",\"name\":\"Line\",\"id\":\"p1512\",\"attributes\":{\"x\":{\"type\":\"field\",\"field\":\"date\"},\"y\":{\"type\":\"field\",\"field\":\"count\"},\"line_color\":\"grey\",\"line_alpha\":0.2,\"line_width\":7}}}},{\"type\":\"object\",\"name\":\"GlyphRenderer\",\"id\":\"p1522\",\"attributes\":{\"data_source\":{\"id\":\"p1504\"},\"view\":{\"type\":\"object\",\"name\":\"CDSView\",\"id\":\"p1523\",\"attributes\":{\"filter\":{\"type\":\"object\",\"name\":\"AllIndices\",\"id\":\"p1524\"}}},\"glyph\":{\"type\":\"object\",\"name\":\"Scatter\",\"id\":\"p1519\",\"attributes\":{\"x\":{\"type\":\"field\",\"field\":\"date\"},\"y\":{\"type\":\"field\",\"field\":\"count\"},\"size\":{\"type\":\"value\",\"value\":15},\"line_color\":{\"type\":\"value\",\"value\":\"white\"},\"line_width\":{\"type\":\"value\",\"value\":2},\"fill_color\":{\"type\":\"value\",\"value\":\"grey\"}}},\"nonselection_glyph\":{\"type\":\"object\",\"name\":\"Scatter\",\"id\":\"p1520\",\"attributes\":{\"x\":{\"type\":\"field\",\"field\":\"date\"},\"y\":{\"type\":\"field\",\"field\":\"count\"},\"size\":{\"type\":\"value\",\"value\":15},\"line_color\":{\"type\":\"value\",\"value\":\"white\"},\"line_alpha\":{\"type\":\"value\",\"value\":0.1},\"line_width\":{\"type\":\"value\",\"value\":2},\"fill_color\":{\"type\":\"value\",\"value\":\"grey\"},\"fill_alpha\":{\"type\":\"value\",\"value\":0.1},\"hatch_alpha\":{\"type\":\"value\",\"value\":0.1}}},\"muted_glyph\":{\"type\":\"object\",\"name\":\"Scatter\",\"id\":\"p1521\",\"attributes\":{\"x\":{\"type\":\"field\",\"field\":\"date\"},\"y\":{\"type\":\"field\",\"field\":\"count\"},\"size\":{\"type\":\"value\",\"value\":15},\"line_color\":{\"type\":\"value\",\"value\":\"white\"},\"line_alpha\":{\"type\":\"value\",\"value\":0.2},\"line_width\":{\"type\":\"value\",\"value\":2},\"fill_color\":{\"type\":\"value\",\"value\":\"grey\"},\"fill_alpha\":{\"type\":\"value\",\"value\":0.2},\"hatch_alpha\":{\"type\":\"value\",\"value\":0.2}}}}}],\"toolbar\":{\"type\":\"object\",\"name\":\"Toolbar\",\"id\":\"p1477\",\"attributes\":{\"tools\":[{\"type\":\"object\",\"name\":\"PanTool\",\"id\":\"p1491\"},{\"type\":\"object\",\"name\":\"WheelZoomTool\",\"id\":\"p1492\",\"attributes\":{\"renderers\":\"auto\"}},{\"type\":\"object\",\"name\":\"BoxZoomTool\",\"id\":\"p1493\",\"attributes\":{\"overlay\":{\"type\":\"object\",\"name\":\"BoxAnnotation\",\"id\":\"p1494\",\"attributes\":{\"syncable\":false,\"line_color\":\"black\",\"line_alpha\":1.0,\"line_width\":2,\"line_dash\":[4,4],\"fill_color\":\"lightgrey\",\"fill_alpha\":0.5,\"level\":\"overlay\",\"visible\":false,\"left\":{\"type\":\"number\",\"value\":\"nan\"},\"right\":{\"type\":\"number\",\"value\":\"nan\"},\"top\":{\"type\":\"number\",\"value\":\"nan\"},\"bottom\":{\"type\":\"number\",\"value\":\"nan\"},\"left_units\":\"canvas\",\"right_units\":\"canvas\",\"top_units\":\"canvas\",\"bottom_units\":\"canvas\",\"handles\":{\"type\":\"object\",\"name\":\"BoxInteractionHandles\",\"id\":\"p1500\",\"attributes\":{\"all\":{\"type\":\"object\",\"name\":\"AreaVisuals\",\"id\":\"p1499\",\"attributes\":{\"fill_color\":\"white\",\"hover_fill_color\":\"lightgray\"}}}}}}}},{\"type\":\"object\",\"name\":\"SaveTool\",\"id\":\"p1501\"},{\"type\":\"object\",\"name\":\"ResetTool\",\"id\":\"p1502\"},{\"type\":\"object\",\"name\":\"HelpTool\",\"id\":\"p1503\"}]}},\"left\":[{\"type\":\"object\",\"name\":\"LinearAxis\",\"id\":\"p1486\",\"attributes\":{\"ticker\":{\"type\":\"object\",\"name\":\"BasicTicker\",\"id\":\"p1487\",\"attributes\":{\"mantissas\":[1,2,5]}},\"formatter\":{\"type\":\"object\",\"name\":\"BasicTickFormatter\",\"id\":\"p1488\"},\"axis_label_text_font\":\"Arial\",\"axis_label_text_font_size\":\"20pt\",\"major_label_policy\":{\"type\":\"object\",\"name\":\"AllLabels\",\"id\":\"p1489\"},\"major_label_text_font\":\"Arial\",\"major_label_text_font_size\":\"20pt\",\"major_tick_out\":10,\"minor_tick_out\":6}}],\"below\":[{\"type\":\"object\",\"name\":\"CategoricalAxis\",\"id\":\"p1481\",\"attributes\":{\"ticker\":{\"type\":\"object\",\"name\":\"CategoricalTicker\",\"id\":\"p1482\"},\"formatter\":{\"type\":\"object\",\"name\":\"CategoricalTickFormatter\",\"id\":\"p1483\"},\"axis_label_text_font\":\"Arial\",\"axis_label_text_font_size\":\"20pt\",\"axis_label_text_font_style\":\"bold\",\"major_label_orientation\":\"vertical\",\"major_label_policy\":{\"type\":\"object\",\"name\":\"AllLabels\",\"id\":\"p1484\"},\"major_label_text_font\":\"Arial\",\"major_label_text_font_size\":\"20pt\",\"major_tick_out\":10,\"minor_tick_out\":6}}],\"center\":[{\"type\":\"object\",\"name\":\"Grid\",\"id\":\"p1485\",\"attributes\":{\"axis\":{\"id\":\"p1481\"}}},{\"type\":\"object\",\"name\":\"Grid\",\"id\":\"p1490\",\"attributes\":{\"dimension\":1,\"axis\":{\"id\":\"p1486\"}}},{\"type\":\"object\",\"name\":\"BoxAnnotation\",\"id\":\"p1525\",\"attributes\":{\"line_color\":\"limegreen\",\"line_width\":2,\"line_dash\":[4,4],\"fill_color\":\"limegreen\",\"fill_alpha\":0.1,\"left\":14.5,\"right\":34.5,\"top\":{\"type\":\"object\",\"name\":\"Node\",\"id\":\"p1528\",\"attributes\":{\"target\":\"frame\",\"symbol\":\"top\"}},\"bottom\":{\"type\":\"object\",\"name\":\"Node\",\"id\":\"p1529\",\"attributes\":{\"target\":\"frame\",\"symbol\":\"bottom\"}},\"handles\":{\"type\":\"object\",\"name\":\"BoxInteractionHandles\",\"id\":\"p1531\",\"attributes\":{\"all\":{\"type\":\"object\",\"name\":\"AreaVisuals\",\"id\":\"p1530\",\"attributes\":{\"fill_color\":\"white\",\"hover_fill_color\":\"lightgray\"}}}}}},{\"type\":\"object\",\"name\":\"BoxAnnotation\",\"id\":\"p1532\",\"attributes\":{\"line_color\":\"orangered\",\"line_width\":2,\"line_dash\":[4,4],\"fill_color\":\"orangered\",\"fill_alpha\":0.1,\"left\":11.5,\"right\":14.5,\"top\":{\"type\":\"object\",\"name\":\"Node\",\"id\":\"p1535\",\"attributes\":{\"target\":\"frame\",\"symbol\":\"top\"}},\"bottom\":{\"type\":\"object\",\"name\":\"Node\",\"id\":\"p1536\",\"attributes\":{\"target\":\"frame\",\"symbol\":\"bottom\"}},\"handles\":{\"type\":\"object\",\"name\":\"BoxInteractionHandles\",\"id\":\"p1538\",\"attributes\":{\"all\":{\"type\":\"object\",\"name\":\"AreaVisuals\",\"id\":\"p1537\",\"attributes\":{\"fill_color\":\"white\",\"hover_fill_color\":\"lightgray\"}}}}}},{\"type\":\"object\",\"name\":\"BoxAnnotation\",\"id\":\"p1539\",\"attributes\":{\"line_color\":\"gold\",\"line_width\":2,\"line_dash\":[4,4],\"fill_color\":\"gold\",\"fill_alpha\":0.13,\"left\":7.5,\"right\":11.5,\"top\":{\"type\":\"object\",\"name\":\"Node\",\"id\":\"p1542\",\"attributes\":{\"target\":\"frame\",\"symbol\":\"top\"}},\"bottom\":{\"type\":\"object\",\"name\":\"Node\",\"id\":\"p1543\",\"attributes\":{\"target\":\"frame\",\"symbol\":\"bottom\"}},\"handles\":{\"type\":\"object\",\"name\":\"BoxInteractionHandles\",\"id\":\"p1545\",\"attributes\":{\"all\":{\"type\":\"object\",\"name\":\"AreaVisuals\",\"id\":\"p1544\",\"attributes\":{\"fill_color\":\"white\",\"hover_fill_color\":\"lightgray\"}}}}}}]}}]}};\n",
       "  const render_items = [{\"docid\":\"f22091a4-0abf-4c7b-80aa-b874335cb277\",\"roots\":{\"p1469\":\"e2faf466-19dd-442a-886f-1344fcb3f0da\"},\"root_ids\":[\"p1469\"]}];\n",
       "  void root.Bokeh.embed.embed_items_notebook(docs_json, render_items);\n",
       "  }\n",
       "  if (root.Bokeh !== undefined) {\n",
       "    embed_document(root);\n",
       "  } else {\n",
       "    let attempts = 0;\n",
       "    const timer = setInterval(function(root) {\n",
       "      if (root.Bokeh !== undefined) {\n",
       "        clearInterval(timer);\n",
       "        embed_document(root);\n",
       "      } else {\n",
       "        attempts++;\n",
       "        if (attempts > 100) {\n",
       "          clearInterval(timer);\n",
       "          console.log(\"Bokeh: ERROR: Unable to run BokehJS code because BokehJS library is missing\");\n",
       "        }\n",
       "      }\n",
       "    }, 10, root)\n",
       "  }\n",
       "})(window);"
      ],
      "application/vnd.bokehjs_exec.v0+json": ""
     },
     "metadata": {
      "application/vnd.bokehjs_exec.v0+json": {
       "id": "p1469"
      }
     },
     "output_type": "display_data"
    }
   ],
   "source": [
    "p = figure(height=300, width=900, x_range=lis_x)\n",
    "\n",
    "source = ColumnDataSource(data={\n",
    "    'date' : groupby_time1['open_date'],\n",
    "    'count' : groupby_time1['Case Reference']\n",
    "    })\n",
    "\n",
    "p.line(x='date', y='count', source=source, width = 7, color=\"grey\", alpha=1)\n",
    "p.circle(x='date', y='count', source=source, size=15, line_color=\"white\", fill_color=\"grey\", line_width=2, alpha=1)\n",
    "\n",
    "p.xaxis.axis_label_text_font_size = \"20pt\"\n",
    "p.xaxis.axis_label_text_font = \"Arial\"\n",
    "p.xaxis.major_label_orientation = \"vertical\"\n",
    "p.xaxis.axis_label_text_font_style = \"bold\"\n",
    "p.xaxis.axis_line_width = 1\n",
    "p.xaxis.major_label_text_font_size = \"20pt\"\n",
    "p.xaxis.major_label_text_font = \"Arial\"\n",
    "\n",
    "p.yaxis.axis_label_text_font_size = \"20pt\"\n",
    "p.yaxis.axis_label_text_font = \"Arial\"\n",
    "p.yaxis.axis_line_width = 1\n",
    "p.yaxis.major_label_text_font_size = \"20pt\"\n",
    "p.yaxis.major_label_text_font = \"Arial\"\n",
    "\n",
    "p.axis.minor_tick_out = 6\n",
    "p.axis.major_tick_out = 10\n",
    "\n",
    "blackout = BoxAnnotation(left=14.5, right=34.5, fill_alpha=0.1, fill_color='limegreen',line_color='limegreen', line_width=2, line_dash=[4,4])\n",
    "p.add_layout(blackout)\n",
    "blackout = BoxAnnotation(left=11.5, right=14.5, fill_alpha=0.1, fill_color='orangered',line_color='orangered', line_width=2, line_dash=[4,4])\n",
    "p.add_layout(blackout)\n",
    "blackout1 = BoxAnnotation(left=7.5, right=11.5, fill_alpha=0.13, fill_color='gold',line_color='gold', line_width=2, line_dash=[4,4])\n",
    "p.add_layout(blackout1)\n",
    "\n",
    "show(p)"
   ]
  },
  {
   "cell_type": "markdown",
   "id": "c19f728f-7527-488c-9ae9-7c4fbd25e97e",
   "metadata": {},
   "source": [
    "### Requests related to trees"
   ]
  },
  {
   "cell_type": "code",
   "execution_count": 19,
   "id": "6e17bdc4-3aa1-44d6-aa4c-88cfd2a9446d",
   "metadata": {},
   "outputs": [],
   "source": [
    "requests = df_12_15[(df_12_15['category'] == \"Issues related to trees\")].copy()\n",
    "groupby_time = requests.groupby([\"Open Date\"]).agg({\"Case Reference\":\"count\"}).reset_index()\n",
    "\n",
    "groupby_time['Open Date'] = groupby_time['Open Date'].astype(str)\n",
    "groupby_time['open_date'] = groupby_time['Open Date'].apply(lambda x: str(x).split(\"-\", 1)[1].replace(\"-\",\"/\"))\n",
    "\n",
    "groupby_time1 = pd.merge(groupby_time, date_index, left_on=\"open_date\", right_on=\"open_date\", how = \"right\")\n",
    "groupby_time1.fillna(0, inplace=True)\n",
    "\n",
    "lis_x = ['12/12','12/13','12/14','12/15','12/16','12/17','12/18','12/19','12/20','12/21','12/22','12/23','12/24','12/25','12/26','12/27','12/28','12/29','12/30','12/31','01/01','01/02','01/03','01/04','01/05','01/06','01/07','01/08','01/09','01/10','01/11','01/12','01/13','01/14','01/15']"
   ]
  },
  {
   "cell_type": "code",
   "execution_count": 20,
   "id": "1a4d776f-ea5d-48cd-8e4f-99ca6e127693",
   "metadata": {},
   "outputs": [
    {
     "name": "stderr",
     "output_type": "stream",
     "text": [
      "BokehDeprecationWarning: 'circle() method with size value' was deprecated in Bokeh 3.4.0 and will be removed, use 'scatter(size=...) instead' instead.\n"
     ]
    },
    {
     "data": {
      "text/html": [
       "\n",
       "  <div id=\"e05b1412-1173-4ea0-be12-eb2aa14bdb53\" data-root-id=\"p1625\" style=\"display: contents;\"></div>\n"
      ]
     },
     "metadata": {},
     "output_type": "display_data"
    },
    {
     "data": {
      "application/javascript": [
       "(function(root) {\n",
       "  function embed_document(root) {\n",
       "  const docs_json = {\"b727fa2a-a6a8-4251-8967-cb1340b8543b\":{\"version\":\"3.5.2\",\"title\":\"Bokeh Application\",\"roots\":[{\"type\":\"object\",\"name\":\"Figure\",\"id\":\"p1625\",\"attributes\":{\"width\":900,\"height\":300,\"x_range\":{\"type\":\"object\",\"name\":\"FactorRange\",\"id\":\"p1634\",\"attributes\":{\"factors\":[\"12/12\",\"12/13\",\"12/14\",\"12/15\",\"12/16\",\"12/17\",\"12/18\",\"12/19\",\"12/20\",\"12/21\",\"12/22\",\"12/23\",\"12/24\",\"12/25\",\"12/26\",\"12/27\",\"12/28\",\"12/29\",\"12/30\",\"12/31\",\"01/01\",\"01/02\",\"01/03\",\"01/04\",\"01/05\",\"01/06\",\"01/07\",\"01/08\",\"01/09\",\"01/10\",\"01/11\",\"01/12\",\"01/13\",\"01/14\",\"01/15\"]}},\"y_range\":{\"type\":\"object\",\"name\":\"DataRange1d\",\"id\":\"p1627\"},\"x_scale\":{\"type\":\"object\",\"name\":\"CategoricalScale\",\"id\":\"p1635\"},\"y_scale\":{\"type\":\"object\",\"name\":\"LinearScale\",\"id\":\"p1636\"},\"title\":{\"type\":\"object\",\"name\":\"Title\",\"id\":\"p1632\"},\"renderers\":[{\"type\":\"object\",\"name\":\"GlyphRenderer\",\"id\":\"p1669\",\"attributes\":{\"data_source\":{\"type\":\"object\",\"name\":\"ColumnDataSource\",\"id\":\"p1660\",\"attributes\":{\"selected\":{\"type\":\"object\",\"name\":\"Selection\",\"id\":\"p1661\",\"attributes\":{\"indices\":[],\"line_indices\":[]}},\"selection_policy\":{\"type\":\"object\",\"name\":\"UnionRenderers\",\"id\":\"p1662\"},\"data\":{\"type\":\"map\",\"entries\":[[\"date\",{\"type\":\"ndarray\",\"array\":[\"12/12\",\"12/13\",\"12/14\",\"12/15\",\"12/16\",\"12/17\",\"12/18\",\"12/19\",\"12/20\",\"12/21\",\"12/22\",\"12/23\",\"12/24\",\"12/25\",\"12/26\",\"12/27\",\"12/28\",\"12/29\",\"12/30\",\"12/31\",\"01/01\",\"01/02\",\"01/03\",\"01/04\",\"01/05\",\"01/06\",\"01/07\",\"01/08\",\"01/09\",\"01/10\",\"01/11\",\"01/12\",\"01/13\",\"01/14\",\"01/15\"],\"shape\":[35],\"dtype\":\"object\",\"order\":\"little\"}],[\"count\",{\"type\":\"ndarray\",\"array\":{\"type\":\"bytes\",\"data\":\"AAAAAAAAIEAAAAAAAAAYQAAAAAAAACZAAAAAAAAAIEAAAAAAAAAsQAAAAAAAAAAAAAAAAAAAAAAAAAAAAAAcQAAAAAAAABBAAAAAAAAAEEAAAAAAAAAAQAAAAAAAgElAAAAAAAAAOUAAAAAAAAA1QAAAAAAAADVAAAAAAAAANkAAAAAAAAA2QAAAAAAAAEFAAAAAAAAAQkAAAAAAAAAQQAAAAAAAAPA/AAAAAAAAAEAAAAAAAAA7QAAAAAAAAD9AAAAAAAAANUAAAAAAAAA5QAAAAAAAAABAAAAAAAAAAAAAAAAAAAA2QAAAAAAAADdAAAAAAAAAKEAAAAAAAAAqQAAAAAAAAChAAAAAAAAAAAAAAAAAAADwPw==\"},\"shape\":[35],\"dtype\":\"float64\",\"order\":\"little\"}]]}}},\"view\":{\"type\":\"object\",\"name\":\"CDSView\",\"id\":\"p1670\",\"attributes\":{\"filter\":{\"type\":\"object\",\"name\":\"AllIndices\",\"id\":\"p1671\"}}},\"glyph\":{\"type\":\"object\",\"name\":\"Line\",\"id\":\"p1666\",\"attributes\":{\"x\":{\"type\":\"field\",\"field\":\"date\"},\"y\":{\"type\":\"field\",\"field\":\"count\"},\"line_color\":\"forestgreen\",\"line_width\":7}},\"nonselection_glyph\":{\"type\":\"object\",\"name\":\"Line\",\"id\":\"p1667\",\"attributes\":{\"x\":{\"type\":\"field\",\"field\":\"date\"},\"y\":{\"type\":\"field\",\"field\":\"count\"},\"line_color\":\"forestgreen\",\"line_alpha\":0.1,\"line_width\":7}},\"muted_glyph\":{\"type\":\"object\",\"name\":\"Line\",\"id\":\"p1668\",\"attributes\":{\"x\":{\"type\":\"field\",\"field\":\"date\"},\"y\":{\"type\":\"field\",\"field\":\"count\"},\"line_color\":\"forestgreen\",\"line_alpha\":0.2,\"line_width\":7}}}},{\"type\":\"object\",\"name\":\"GlyphRenderer\",\"id\":\"p1678\",\"attributes\":{\"data_source\":{\"id\":\"p1660\"},\"view\":{\"type\":\"object\",\"name\":\"CDSView\",\"id\":\"p1679\",\"attributes\":{\"filter\":{\"type\":\"object\",\"name\":\"AllIndices\",\"id\":\"p1680\"}}},\"glyph\":{\"type\":\"object\",\"name\":\"Scatter\",\"id\":\"p1675\",\"attributes\":{\"x\":{\"type\":\"field\",\"field\":\"date\"},\"y\":{\"type\":\"field\",\"field\":\"count\"},\"size\":{\"type\":\"value\",\"value\":15},\"line_color\":{\"type\":\"value\",\"value\":\"white\"},\"line_width\":{\"type\":\"value\",\"value\":2},\"fill_color\":{\"type\":\"value\",\"value\":\"forestgreen\"}}},\"nonselection_glyph\":{\"type\":\"object\",\"name\":\"Scatter\",\"id\":\"p1676\",\"attributes\":{\"x\":{\"type\":\"field\",\"field\":\"date\"},\"y\":{\"type\":\"field\",\"field\":\"count\"},\"size\":{\"type\":\"value\",\"value\":15},\"line_color\":{\"type\":\"value\",\"value\":\"white\"},\"line_alpha\":{\"type\":\"value\",\"value\":0.1},\"line_width\":{\"type\":\"value\",\"value\":2},\"fill_color\":{\"type\":\"value\",\"value\":\"forestgreen\"},\"fill_alpha\":{\"type\":\"value\",\"value\":0.1},\"hatch_alpha\":{\"type\":\"value\",\"value\":0.1}}},\"muted_glyph\":{\"type\":\"object\",\"name\":\"Scatter\",\"id\":\"p1677\",\"attributes\":{\"x\":{\"type\":\"field\",\"field\":\"date\"},\"y\":{\"type\":\"field\",\"field\":\"count\"},\"size\":{\"type\":\"value\",\"value\":15},\"line_color\":{\"type\":\"value\",\"value\":\"white\"},\"line_alpha\":{\"type\":\"value\",\"value\":0.2},\"line_width\":{\"type\":\"value\",\"value\":2},\"fill_color\":{\"type\":\"value\",\"value\":\"forestgreen\"},\"fill_alpha\":{\"type\":\"value\",\"value\":0.2},\"hatch_alpha\":{\"type\":\"value\",\"value\":0.2}}}}}],\"toolbar\":{\"type\":\"object\",\"name\":\"Toolbar\",\"id\":\"p1633\",\"attributes\":{\"tools\":[{\"type\":\"object\",\"name\":\"PanTool\",\"id\":\"p1647\"},{\"type\":\"object\",\"name\":\"WheelZoomTool\",\"id\":\"p1648\",\"attributes\":{\"renderers\":\"auto\"}},{\"type\":\"object\",\"name\":\"BoxZoomTool\",\"id\":\"p1649\",\"attributes\":{\"overlay\":{\"type\":\"object\",\"name\":\"BoxAnnotation\",\"id\":\"p1650\",\"attributes\":{\"syncable\":false,\"line_color\":\"black\",\"line_alpha\":1.0,\"line_width\":2,\"line_dash\":[4,4],\"fill_color\":\"lightgrey\",\"fill_alpha\":0.5,\"level\":\"overlay\",\"visible\":false,\"left\":{\"type\":\"number\",\"value\":\"nan\"},\"right\":{\"type\":\"number\",\"value\":\"nan\"},\"top\":{\"type\":\"number\",\"value\":\"nan\"},\"bottom\":{\"type\":\"number\",\"value\":\"nan\"},\"left_units\":\"canvas\",\"right_units\":\"canvas\",\"top_units\":\"canvas\",\"bottom_units\":\"canvas\",\"handles\":{\"type\":\"object\",\"name\":\"BoxInteractionHandles\",\"id\":\"p1656\",\"attributes\":{\"all\":{\"type\":\"object\",\"name\":\"AreaVisuals\",\"id\":\"p1655\",\"attributes\":{\"fill_color\":\"white\",\"hover_fill_color\":\"lightgray\"}}}}}}}},{\"type\":\"object\",\"name\":\"SaveTool\",\"id\":\"p1657\"},{\"type\":\"object\",\"name\":\"ResetTool\",\"id\":\"p1658\"},{\"type\":\"object\",\"name\":\"HelpTool\",\"id\":\"p1659\"}]}},\"left\":[{\"type\":\"object\",\"name\":\"LinearAxis\",\"id\":\"p1642\",\"attributes\":{\"ticker\":{\"type\":\"object\",\"name\":\"BasicTicker\",\"id\":\"p1643\",\"attributes\":{\"mantissas\":[1,2,5]}},\"formatter\":{\"type\":\"object\",\"name\":\"BasicTickFormatter\",\"id\":\"p1644\"},\"axis_label_text_font\":\"Arial\",\"axis_label_text_font_size\":\"20pt\",\"major_label_policy\":{\"type\":\"object\",\"name\":\"AllLabels\",\"id\":\"p1645\"},\"major_label_text_font\":\"Arial\",\"major_label_text_font_size\":\"20pt\",\"major_tick_out\":10,\"minor_tick_out\":6}}],\"below\":[{\"type\":\"object\",\"name\":\"CategoricalAxis\",\"id\":\"p1637\",\"attributes\":{\"ticker\":{\"type\":\"object\",\"name\":\"CategoricalTicker\",\"id\":\"p1638\"},\"formatter\":{\"type\":\"object\",\"name\":\"CategoricalTickFormatter\",\"id\":\"p1639\"},\"axis_label_text_font\":\"Arial\",\"axis_label_text_font_size\":\"20pt\",\"axis_label_text_font_style\":\"bold\",\"major_label_orientation\":\"vertical\",\"major_label_policy\":{\"type\":\"object\",\"name\":\"AllLabels\",\"id\":\"p1640\"},\"major_label_text_font\":\"Arial\",\"major_label_text_font_size\":\"20pt\",\"major_tick_out\":10,\"minor_tick_out\":6}}],\"center\":[{\"type\":\"object\",\"name\":\"Grid\",\"id\":\"p1641\",\"attributes\":{\"axis\":{\"id\":\"p1637\"}}},{\"type\":\"object\",\"name\":\"Grid\",\"id\":\"p1646\",\"attributes\":{\"dimension\":1,\"axis\":{\"id\":\"p1642\"}}},{\"type\":\"object\",\"name\":\"BoxAnnotation\",\"id\":\"p1681\",\"attributes\":{\"line_color\":\"limegreen\",\"line_width\":2,\"line_dash\":[4,4],\"fill_color\":\"limegreen\",\"fill_alpha\":0.1,\"left\":14.5,\"right\":34.5,\"top\":{\"type\":\"object\",\"name\":\"Node\",\"id\":\"p1684\",\"attributes\":{\"target\":\"frame\",\"symbol\":\"top\"}},\"bottom\":{\"type\":\"object\",\"name\":\"Node\",\"id\":\"p1685\",\"attributes\":{\"target\":\"frame\",\"symbol\":\"bottom\"}},\"handles\":{\"type\":\"object\",\"name\":\"BoxInteractionHandles\",\"id\":\"p1687\",\"attributes\":{\"all\":{\"type\":\"object\",\"name\":\"AreaVisuals\",\"id\":\"p1686\",\"attributes\":{\"fill_color\":\"white\",\"hover_fill_color\":\"lightgray\"}}}}}},{\"type\":\"object\",\"name\":\"BoxAnnotation\",\"id\":\"p1688\",\"attributes\":{\"line_color\":\"orangered\",\"line_width\":2,\"line_dash\":[4,4],\"fill_color\":\"orangered\",\"fill_alpha\":0.1,\"left\":11.5,\"right\":14.5,\"top\":{\"type\":\"object\",\"name\":\"Node\",\"id\":\"p1691\",\"attributes\":{\"target\":\"frame\",\"symbol\":\"top\"}},\"bottom\":{\"type\":\"object\",\"name\":\"Node\",\"id\":\"p1692\",\"attributes\":{\"target\":\"frame\",\"symbol\":\"bottom\"}},\"handles\":{\"type\":\"object\",\"name\":\"BoxInteractionHandles\",\"id\":\"p1694\",\"attributes\":{\"all\":{\"type\":\"object\",\"name\":\"AreaVisuals\",\"id\":\"p1693\",\"attributes\":{\"fill_color\":\"white\",\"hover_fill_color\":\"lightgray\"}}}}}},{\"type\":\"object\",\"name\":\"BoxAnnotation\",\"id\":\"p1695\",\"attributes\":{\"line_color\":\"gold\",\"line_width\":2,\"line_dash\":[4,4],\"fill_color\":\"gold\",\"fill_alpha\":0.13,\"left\":7.5,\"right\":11.5,\"top\":{\"type\":\"object\",\"name\":\"Node\",\"id\":\"p1698\",\"attributes\":{\"target\":\"frame\",\"symbol\":\"top\"}},\"bottom\":{\"type\":\"object\",\"name\":\"Node\",\"id\":\"p1699\",\"attributes\":{\"target\":\"frame\",\"symbol\":\"bottom\"}},\"handles\":{\"type\":\"object\",\"name\":\"BoxInteractionHandles\",\"id\":\"p1701\",\"attributes\":{\"all\":{\"type\":\"object\",\"name\":\"AreaVisuals\",\"id\":\"p1700\",\"attributes\":{\"fill_color\":\"white\",\"hover_fill_color\":\"lightgray\"}}}}}}]}}]}};\n",
       "  const render_items = [{\"docid\":\"b727fa2a-a6a8-4251-8967-cb1340b8543b\",\"roots\":{\"p1625\":\"e05b1412-1173-4ea0-be12-eb2aa14bdb53\"},\"root_ids\":[\"p1625\"]}];\n",
       "  void root.Bokeh.embed.embed_items_notebook(docs_json, render_items);\n",
       "  }\n",
       "  if (root.Bokeh !== undefined) {\n",
       "    embed_document(root);\n",
       "  } else {\n",
       "    let attempts = 0;\n",
       "    const timer = setInterval(function(root) {\n",
       "      if (root.Bokeh !== undefined) {\n",
       "        clearInterval(timer);\n",
       "        embed_document(root);\n",
       "      } else {\n",
       "        attempts++;\n",
       "        if (attempts > 100) {\n",
       "          clearInterval(timer);\n",
       "          console.log(\"Bokeh: ERROR: Unable to run BokehJS code because BokehJS library is missing\");\n",
       "        }\n",
       "      }\n",
       "    }, 10, root)\n",
       "  }\n",
       "})(window);"
      ],
      "application/vnd.bokehjs_exec.v0+json": ""
     },
     "metadata": {
      "application/vnd.bokehjs_exec.v0+json": {
       "id": "p1625"
      }
     },
     "output_type": "display_data"
    }
   ],
   "source": [
    "p = figure(height=300, width=900, x_range=lis_x)\n",
    "\n",
    "source = ColumnDataSource(data={\n",
    "    'date' : groupby_time1['open_date'],\n",
    "    'count' : groupby_time1['Case Reference']\n",
    "    })\n",
    "\n",
    "p.line(x='date', y='count', source=source, width = 7, color=\"forestgreen\", alpha=1)\n",
    "p.circle(x='date', y='count', source=source, size=15, line_color=\"white\", fill_color=\"forestgreen\", line_width=2, alpha=1)\n",
    "\n",
    "p.xaxis.axis_label_text_font_size = \"20pt\"\n",
    "p.xaxis.axis_label_text_font = \"Arial\"\n",
    "p.xaxis.major_label_orientation = \"vertical\"\n",
    "p.xaxis.axis_label_text_font_style = \"bold\"\n",
    "p.xaxis.axis_line_width = 1\n",
    "p.xaxis.major_label_text_font_size = \"20pt\"\n",
    "p.xaxis.major_label_text_font = \"Arial\"\n",
    "\n",
    "p.yaxis.axis_label_text_font_size = \"20pt\"\n",
    "p.yaxis.axis_label_text_font = \"Arial\"\n",
    "p.yaxis.axis_line_width = 1\n",
    "p.yaxis.major_label_text_font_size = \"20pt\"\n",
    "p.yaxis.major_label_text_font = \"Arial\"\n",
    "\n",
    "p.axis.minor_tick_out = 6\n",
    "p.axis.major_tick_out = 10\n",
    "\n",
    "blackout = BoxAnnotation(left=14.5, right=34.5, fill_alpha=0.1, fill_color='limegreen',line_color='limegreen', line_width=2, line_dash=[4,4])\n",
    "p.add_layout(blackout)\n",
    "blackout = BoxAnnotation(left=11.5, right=14.5, fill_alpha=0.1, fill_color='orangered',line_color='orangered', line_width=2, line_dash=[4,4])\n",
    "p.add_layout(blackout)\n",
    "blackout1 = BoxAnnotation(left=7.5, right=11.5, fill_alpha=0.13, fill_color='gold',line_color='gold', line_width=2, line_dash=[4,4])\n",
    "p.add_layout(blackout1)\n",
    "\n",
    "show(p)"
   ]
  },
  {
   "cell_type": "markdown",
   "id": "d7961e49-09b4-48da-9f25-d165cb114c32",
   "metadata": {},
   "source": [
    "### Requests related to housing"
   ]
  },
  {
   "cell_type": "code",
   "execution_count": 21,
   "id": "9aae863f-e467-47ee-8ce6-72b1321c252d",
   "metadata": {},
   "outputs": [],
   "source": [
    "requests = df_12_15[(df_12_15['category'] == \"Issues related to housing\")].copy()\n",
    "groupby_time = requests.groupby([\"Open Date\"]).agg({\"Case Reference\":\"count\"}).reset_index()\n",
    "\n",
    "groupby_time['Open Date'] = groupby_time['Open Date'].astype(str)\n",
    "groupby_time['open_date'] = groupby_time['Open Date'].apply(lambda x: str(x).split(\"-\", 1)[1].replace(\"-\",\"/\"))\n",
    "\n",
    "groupby_time1 = pd.merge(groupby_time, date_index, left_on=\"open_date\", right_on=\"open_date\", how = \"right\")\n",
    "groupby_time1.fillna(0, inplace=True)\n",
    "\n",
    "lis_x = ['12/12','12/13','12/14','12/15','12/16','12/17','12/18','12/19','12/20','12/21','12/22','12/23','12/24','12/25','12/26','12/27','12/28','12/29','12/30','12/31','01/01','01/02','01/03','01/04','01/05','01/06','01/07','01/08','01/09','01/10','01/11','01/12','01/13','01/14','01/15']"
   ]
  },
  {
   "cell_type": "code",
   "execution_count": 22,
   "id": "60d5d096-3d41-48ba-b07f-609ba69eb728",
   "metadata": {},
   "outputs": [
    {
     "name": "stderr",
     "output_type": "stream",
     "text": [
      "BokehDeprecationWarning: 'circle() method with size value' was deprecated in Bokeh 3.4.0 and will be removed, use 'scatter(size=...) instead' instead.\n"
     ]
    },
    {
     "data": {
      "text/html": [
       "\n",
       "  <div id=\"b15766b0-b0e8-4377-9be6-b38ad9fc94b6\" data-root-id=\"p1703\" style=\"display: contents;\"></div>\n"
      ]
     },
     "metadata": {},
     "output_type": "display_data"
    },
    {
     "data": {
      "application/javascript": [
       "(function(root) {\n",
       "  function embed_document(root) {\n",
       "  const docs_json = {\"a3587c45-2789-4f50-8114-119db80a17a8\":{\"version\":\"3.5.2\",\"title\":\"Bokeh Application\",\"roots\":[{\"type\":\"object\",\"name\":\"Figure\",\"id\":\"p1703\",\"attributes\":{\"width\":900,\"height\":300,\"x_range\":{\"type\":\"object\",\"name\":\"FactorRange\",\"id\":\"p1712\",\"attributes\":{\"factors\":[\"12/12\",\"12/13\",\"12/14\",\"12/15\",\"12/16\",\"12/17\",\"12/18\",\"12/19\",\"12/20\",\"12/21\",\"12/22\",\"12/23\",\"12/24\",\"12/25\",\"12/26\",\"12/27\",\"12/28\",\"12/29\",\"12/30\",\"12/31\",\"01/01\",\"01/02\",\"01/03\",\"01/04\",\"01/05\",\"01/06\",\"01/07\",\"01/08\",\"01/09\",\"01/10\",\"01/11\",\"01/12\",\"01/13\",\"01/14\",\"01/15\"]}},\"y_range\":{\"type\":\"object\",\"name\":\"DataRange1d\",\"id\":\"p1705\"},\"x_scale\":{\"type\":\"object\",\"name\":\"CategoricalScale\",\"id\":\"p1713\"},\"y_scale\":{\"type\":\"object\",\"name\":\"LinearScale\",\"id\":\"p1714\"},\"title\":{\"type\":\"object\",\"name\":\"Title\",\"id\":\"p1710\"},\"renderers\":[{\"type\":\"object\",\"name\":\"GlyphRenderer\",\"id\":\"p1747\",\"attributes\":{\"data_source\":{\"type\":\"object\",\"name\":\"ColumnDataSource\",\"id\":\"p1738\",\"attributes\":{\"selected\":{\"type\":\"object\",\"name\":\"Selection\",\"id\":\"p1739\",\"attributes\":{\"indices\":[],\"line_indices\":[]}},\"selection_policy\":{\"type\":\"object\",\"name\":\"UnionRenderers\",\"id\":\"p1740\"},\"data\":{\"type\":\"map\",\"entries\":[[\"date\",{\"type\":\"ndarray\",\"array\":[\"12/12\",\"12/13\",\"12/14\",\"12/15\",\"12/16\",\"12/17\",\"12/18\",\"12/19\",\"12/20\",\"12/21\",\"12/22\",\"12/23\",\"12/24\",\"12/25\",\"12/26\",\"12/27\",\"12/28\",\"12/29\",\"12/30\",\"12/31\",\"01/01\",\"01/02\",\"01/03\",\"01/04\",\"01/05\",\"01/06\",\"01/07\",\"01/08\",\"01/09\",\"01/10\",\"01/11\",\"01/12\",\"01/13\",\"01/14\",\"01/15\"],\"shape\":[35],\"dtype\":\"object\",\"order\":\"little\"}],[\"count\",{\"type\":\"ndarray\",\"array\":{\"type\":\"bytes\",\"data\":\"AAAAAAAAOEAAAAAAAAA0QAAAAAAAAChAAAAAAAAAM0AAAAAAAAA3QAAAAAAAAAAAAAAAAAAAAAAAAAAAAAA4QAAAAAAAAChAAAAAAAAALkAAAAAAAAA+QAAAAAAAACxAAAAAAAAA8D8AAAAAAAAIQAAAAAAAACJAAAAAAAAAIEAAAAAAAAAoQAAAAAAAAChAAAAAAAAALkAAAAAAAAAUQAAAAAAAAAAAAAAAAAAAIEAAAAAAAAA9QAAAAAAAAD1AAAAAAAAAP0AAAAAAAAA6QAAAAAAAAAAAAAAAAAAAAAAAAAAAAIBBQAAAAAAAAD5AAAAAAAAAPkAAAAAAAIBBQAAAAAAAADNAAAAAAAAAAEAAAAAAAAAIQA==\"},\"shape\":[35],\"dtype\":\"float64\",\"order\":\"little\"}]]}}},\"view\":{\"type\":\"object\",\"name\":\"CDSView\",\"id\":\"p1748\",\"attributes\":{\"filter\":{\"type\":\"object\",\"name\":\"AllIndices\",\"id\":\"p1749\"}}},\"glyph\":{\"type\":\"object\",\"name\":\"Line\",\"id\":\"p1744\",\"attributes\":{\"x\":{\"type\":\"field\",\"field\":\"date\"},\"y\":{\"type\":\"field\",\"field\":\"count\"},\"line_color\":\"darkkhaki\",\"line_width\":7}},\"nonselection_glyph\":{\"type\":\"object\",\"name\":\"Line\",\"id\":\"p1745\",\"attributes\":{\"x\":{\"type\":\"field\",\"field\":\"date\"},\"y\":{\"type\":\"field\",\"field\":\"count\"},\"line_color\":\"darkkhaki\",\"line_alpha\":0.1,\"line_width\":7}},\"muted_glyph\":{\"type\":\"object\",\"name\":\"Line\",\"id\":\"p1746\",\"attributes\":{\"x\":{\"type\":\"field\",\"field\":\"date\"},\"y\":{\"type\":\"field\",\"field\":\"count\"},\"line_color\":\"darkkhaki\",\"line_alpha\":0.2,\"line_width\":7}}}},{\"type\":\"object\",\"name\":\"GlyphRenderer\",\"id\":\"p1756\",\"attributes\":{\"data_source\":{\"id\":\"p1738\"},\"view\":{\"type\":\"object\",\"name\":\"CDSView\",\"id\":\"p1757\",\"attributes\":{\"filter\":{\"type\":\"object\",\"name\":\"AllIndices\",\"id\":\"p1758\"}}},\"glyph\":{\"type\":\"object\",\"name\":\"Scatter\",\"id\":\"p1753\",\"attributes\":{\"x\":{\"type\":\"field\",\"field\":\"date\"},\"y\":{\"type\":\"field\",\"field\":\"count\"},\"size\":{\"type\":\"value\",\"value\":15},\"line_color\":{\"type\":\"value\",\"value\":\"white\"},\"line_width\":{\"type\":\"value\",\"value\":2},\"fill_color\":{\"type\":\"value\",\"value\":\"darkkhaki\"}}},\"nonselection_glyph\":{\"type\":\"object\",\"name\":\"Scatter\",\"id\":\"p1754\",\"attributes\":{\"x\":{\"type\":\"field\",\"field\":\"date\"},\"y\":{\"type\":\"field\",\"field\":\"count\"},\"size\":{\"type\":\"value\",\"value\":15},\"line_color\":{\"type\":\"value\",\"value\":\"white\"},\"line_alpha\":{\"type\":\"value\",\"value\":0.1},\"line_width\":{\"type\":\"value\",\"value\":2},\"fill_color\":{\"type\":\"value\",\"value\":\"darkkhaki\"},\"fill_alpha\":{\"type\":\"value\",\"value\":0.1},\"hatch_alpha\":{\"type\":\"value\",\"value\":0.1}}},\"muted_glyph\":{\"type\":\"object\",\"name\":\"Scatter\",\"id\":\"p1755\",\"attributes\":{\"x\":{\"type\":\"field\",\"field\":\"date\"},\"y\":{\"type\":\"field\",\"field\":\"count\"},\"size\":{\"type\":\"value\",\"value\":15},\"line_color\":{\"type\":\"value\",\"value\":\"white\"},\"line_alpha\":{\"type\":\"value\",\"value\":0.2},\"line_width\":{\"type\":\"value\",\"value\":2},\"fill_color\":{\"type\":\"value\",\"value\":\"darkkhaki\"},\"fill_alpha\":{\"type\":\"value\",\"value\":0.2},\"hatch_alpha\":{\"type\":\"value\",\"value\":0.2}}}}}],\"toolbar\":{\"type\":\"object\",\"name\":\"Toolbar\",\"id\":\"p1711\",\"attributes\":{\"tools\":[{\"type\":\"object\",\"name\":\"PanTool\",\"id\":\"p1725\"},{\"type\":\"object\",\"name\":\"WheelZoomTool\",\"id\":\"p1726\",\"attributes\":{\"renderers\":\"auto\"}},{\"type\":\"object\",\"name\":\"BoxZoomTool\",\"id\":\"p1727\",\"attributes\":{\"overlay\":{\"type\":\"object\",\"name\":\"BoxAnnotation\",\"id\":\"p1728\",\"attributes\":{\"syncable\":false,\"line_color\":\"black\",\"line_alpha\":1.0,\"line_width\":2,\"line_dash\":[4,4],\"fill_color\":\"lightgrey\",\"fill_alpha\":0.5,\"level\":\"overlay\",\"visible\":false,\"left\":{\"type\":\"number\",\"value\":\"nan\"},\"right\":{\"type\":\"number\",\"value\":\"nan\"},\"top\":{\"type\":\"number\",\"value\":\"nan\"},\"bottom\":{\"type\":\"number\",\"value\":\"nan\"},\"left_units\":\"canvas\",\"right_units\":\"canvas\",\"top_units\":\"canvas\",\"bottom_units\":\"canvas\",\"handles\":{\"type\":\"object\",\"name\":\"BoxInteractionHandles\",\"id\":\"p1734\",\"attributes\":{\"all\":{\"type\":\"object\",\"name\":\"AreaVisuals\",\"id\":\"p1733\",\"attributes\":{\"fill_color\":\"white\",\"hover_fill_color\":\"lightgray\"}}}}}}}},{\"type\":\"object\",\"name\":\"SaveTool\",\"id\":\"p1735\"},{\"type\":\"object\",\"name\":\"ResetTool\",\"id\":\"p1736\"},{\"type\":\"object\",\"name\":\"HelpTool\",\"id\":\"p1737\"}]}},\"left\":[{\"type\":\"object\",\"name\":\"LinearAxis\",\"id\":\"p1720\",\"attributes\":{\"ticker\":{\"type\":\"object\",\"name\":\"BasicTicker\",\"id\":\"p1721\",\"attributes\":{\"mantissas\":[1,2,5]}},\"formatter\":{\"type\":\"object\",\"name\":\"BasicTickFormatter\",\"id\":\"p1722\"},\"axis_label_text_font\":\"Arial\",\"axis_label_text_font_size\":\"20pt\",\"major_label_policy\":{\"type\":\"object\",\"name\":\"AllLabels\",\"id\":\"p1723\"},\"major_label_text_font\":\"Arial\",\"major_label_text_font_size\":\"20pt\",\"major_tick_out\":10,\"minor_tick_out\":6}}],\"below\":[{\"type\":\"object\",\"name\":\"CategoricalAxis\",\"id\":\"p1715\",\"attributes\":{\"ticker\":{\"type\":\"object\",\"name\":\"CategoricalTicker\",\"id\":\"p1716\"},\"formatter\":{\"type\":\"object\",\"name\":\"CategoricalTickFormatter\",\"id\":\"p1717\"},\"axis_label_text_font\":\"Arial\",\"axis_label_text_font_size\":\"20pt\",\"axis_label_text_font_style\":\"bold\",\"major_label_orientation\":\"vertical\",\"major_label_policy\":{\"type\":\"object\",\"name\":\"AllLabels\",\"id\":\"p1718\"},\"major_label_text_font\":\"Arial\",\"major_label_text_font_size\":\"20pt\",\"major_tick_out\":10,\"minor_tick_out\":6}}],\"center\":[{\"type\":\"object\",\"name\":\"Grid\",\"id\":\"p1719\",\"attributes\":{\"axis\":{\"id\":\"p1715\"}}},{\"type\":\"object\",\"name\":\"Grid\",\"id\":\"p1724\",\"attributes\":{\"dimension\":1,\"axis\":{\"id\":\"p1720\"}}},{\"type\":\"object\",\"name\":\"BoxAnnotation\",\"id\":\"p1759\",\"attributes\":{\"line_color\":\"limegreen\",\"line_width\":2,\"line_dash\":[4,4],\"fill_color\":\"limegreen\",\"fill_alpha\":0.1,\"left\":14.5,\"right\":34.5,\"top\":{\"type\":\"object\",\"name\":\"Node\",\"id\":\"p1762\",\"attributes\":{\"target\":\"frame\",\"symbol\":\"top\"}},\"bottom\":{\"type\":\"object\",\"name\":\"Node\",\"id\":\"p1763\",\"attributes\":{\"target\":\"frame\",\"symbol\":\"bottom\"}},\"handles\":{\"type\":\"object\",\"name\":\"BoxInteractionHandles\",\"id\":\"p1765\",\"attributes\":{\"all\":{\"type\":\"object\",\"name\":\"AreaVisuals\",\"id\":\"p1764\",\"attributes\":{\"fill_color\":\"white\",\"hover_fill_color\":\"lightgray\"}}}}}},{\"type\":\"object\",\"name\":\"BoxAnnotation\",\"id\":\"p1766\",\"attributes\":{\"line_color\":\"orangered\",\"line_width\":2,\"line_dash\":[4,4],\"fill_color\":\"orangered\",\"fill_alpha\":0.1,\"left\":11.5,\"right\":14.5,\"top\":{\"type\":\"object\",\"name\":\"Node\",\"id\":\"p1769\",\"attributes\":{\"target\":\"frame\",\"symbol\":\"top\"}},\"bottom\":{\"type\":\"object\",\"name\":\"Node\",\"id\":\"p1770\",\"attributes\":{\"target\":\"frame\",\"symbol\":\"bottom\"}},\"handles\":{\"type\":\"object\",\"name\":\"BoxInteractionHandles\",\"id\":\"p1772\",\"attributes\":{\"all\":{\"type\":\"object\",\"name\":\"AreaVisuals\",\"id\":\"p1771\",\"attributes\":{\"fill_color\":\"white\",\"hover_fill_color\":\"lightgray\"}}}}}},{\"type\":\"object\",\"name\":\"BoxAnnotation\",\"id\":\"p1773\",\"attributes\":{\"line_color\":\"gold\",\"line_width\":2,\"line_dash\":[4,4],\"fill_color\":\"gold\",\"fill_alpha\":0.13,\"left\":7.5,\"right\":11.5,\"top\":{\"type\":\"object\",\"name\":\"Node\",\"id\":\"p1776\",\"attributes\":{\"target\":\"frame\",\"symbol\":\"top\"}},\"bottom\":{\"type\":\"object\",\"name\":\"Node\",\"id\":\"p1777\",\"attributes\":{\"target\":\"frame\",\"symbol\":\"bottom\"}},\"handles\":{\"type\":\"object\",\"name\":\"BoxInteractionHandles\",\"id\":\"p1779\",\"attributes\":{\"all\":{\"type\":\"object\",\"name\":\"AreaVisuals\",\"id\":\"p1778\",\"attributes\":{\"fill_color\":\"white\",\"hover_fill_color\":\"lightgray\"}}}}}}]}}]}};\n",
       "  const render_items = [{\"docid\":\"a3587c45-2789-4f50-8114-119db80a17a8\",\"roots\":{\"p1703\":\"b15766b0-b0e8-4377-9be6-b38ad9fc94b6\"},\"root_ids\":[\"p1703\"]}];\n",
       "  void root.Bokeh.embed.embed_items_notebook(docs_json, render_items);\n",
       "  }\n",
       "  if (root.Bokeh !== undefined) {\n",
       "    embed_document(root);\n",
       "  } else {\n",
       "    let attempts = 0;\n",
       "    const timer = setInterval(function(root) {\n",
       "      if (root.Bokeh !== undefined) {\n",
       "        clearInterval(timer);\n",
       "        embed_document(root);\n",
       "      } else {\n",
       "        attempts++;\n",
       "        if (attempts > 100) {\n",
       "          clearInterval(timer);\n",
       "          console.log(\"Bokeh: ERROR: Unable to run BokehJS code because BokehJS library is missing\");\n",
       "        }\n",
       "      }\n",
       "    }, 10, root)\n",
       "  }\n",
       "})(window);"
      ],
      "application/vnd.bokehjs_exec.v0+json": ""
     },
     "metadata": {
      "application/vnd.bokehjs_exec.v0+json": {
       "id": "p1703"
      }
     },
     "output_type": "display_data"
    }
   ],
   "source": [
    "p = figure(height=300, width=900, x_range=lis_x)\n",
    "\n",
    "source = ColumnDataSource(data={\n",
    "    'date' : groupby_time1['open_date'],\n",
    "    'count' : groupby_time1['Case Reference']\n",
    "    })\n",
    "\n",
    "p.line(x='date', y='count', source=source, width = 7, color=\"darkkhaki\", alpha=1)\n",
    "p.circle(x='date', y='count', source=source, size=15, line_color=\"white\", fill_color=\"darkkhaki\", line_width=2, alpha=1)\n",
    "\n",
    "p.xaxis.axis_label_text_font_size = \"20pt\"\n",
    "p.xaxis.axis_label_text_font = \"Arial\"\n",
    "p.xaxis.major_label_orientation = \"vertical\"\n",
    "p.xaxis.axis_label_text_font_style = \"bold\"\n",
    "p.xaxis.axis_line_width = 1\n",
    "p.xaxis.major_label_text_font_size = \"20pt\"\n",
    "p.xaxis.major_label_text_font = \"Arial\"\n",
    "\n",
    "p.yaxis.axis_label_text_font_size = \"20pt\"\n",
    "p.yaxis.axis_label_text_font = \"Arial\"\n",
    "p.yaxis.axis_line_width = 1\n",
    "p.yaxis.major_label_text_font_size = \"20pt\"\n",
    "p.yaxis.major_label_text_font = \"Arial\"\n",
    "\n",
    "p.axis.minor_tick_out = 6\n",
    "p.axis.major_tick_out = 10\n",
    "\n",
    "blackout = BoxAnnotation(left=14.5, right=34.5, fill_alpha=0.1, fill_color='limegreen',line_color='limegreen', line_width=2, line_dash=[4,4])\n",
    "p.add_layout(blackout)\n",
    "blackout = BoxAnnotation(left=11.5, right=14.5, fill_alpha=0.1, fill_color='orangered',line_color='orangered', line_width=2, line_dash=[4,4])\n",
    "p.add_layout(blackout)\n",
    "blackout1 = BoxAnnotation(left=7.5, right=11.5, fill_alpha=0.13, fill_color='gold',line_color='gold', line_width=2, line_dash=[4,4])\n",
    "p.add_layout(blackout1)\n",
    "\n",
    "show(p)"
   ]
  },
  {
   "cell_type": "markdown",
   "id": "6dde4751-d324-437e-a749-141fba8c0657",
   "metadata": {},
   "source": [
    "### Requests relted to water and sewer"
   ]
  },
  {
   "cell_type": "code",
   "execution_count": 24,
   "id": "123ded4f-e204-4184-95d8-5203958f28de",
   "metadata": {},
   "outputs": [],
   "source": [
    "requests = df_12_15[(df_12_15['category'] == \"Issues related to water and sewer\")].copy()\n",
    "groupby_time = requests.groupby([\"Open Date\"]).agg({\"Case Reference\":\"count\"}).reset_index()\n",
    "\n",
    "groupby_time['Open Date'] = groupby_time['Open Date'].astype(str)\n",
    "groupby_time['open_date'] = groupby_time['Open Date'].apply(lambda x: str(x).split(\"-\", 1)[1].replace(\"-\",\"/\"))\n",
    "\n",
    "groupby_time1 = pd.merge(groupby_time, date_index, left_on=\"open_date\", right_on=\"open_date\", how = \"right\")\n",
    "groupby_time1.fillna(0, inplace=True)\n",
    "\n",
    "lis_x = ['12/12','12/13','12/14','12/15','12/16','12/17','12/18','12/19','12/20','12/21','12/22','12/23','12/24','12/25','12/26','12/27','12/28','12/29','12/30','12/31','01/01','01/02','01/03','01/04','01/05','01/06','01/07','01/08','01/09','01/10','01/11','01/12','01/13','01/14','01/15']"
   ]
  },
  {
   "cell_type": "code",
   "execution_count": 25,
   "id": "b0973e9c-9080-42c4-9702-00de34c9632a",
   "metadata": {},
   "outputs": [
    {
     "name": "stderr",
     "output_type": "stream",
     "text": [
      "BokehDeprecationWarning: 'circle() method with size value' was deprecated in Bokeh 3.4.0 and will be removed, use 'scatter(size=...) instead' instead.\n"
     ]
    },
    {
     "data": {
      "text/html": [
       "\n",
       "  <div id=\"c3595c26-2fed-4ec6-a2f4-9ad88dcabb17\" data-root-id=\"p1781\" style=\"display: contents;\"></div>\n"
      ]
     },
     "metadata": {},
     "output_type": "display_data"
    },
    {
     "data": {
      "application/javascript": [
       "(function(root) {\n",
       "  function embed_document(root) {\n",
       "  const docs_json = {\"e1178f6e-d077-4abe-8afe-db1404983a79\":{\"version\":\"3.5.2\",\"title\":\"Bokeh Application\",\"roots\":[{\"type\":\"object\",\"name\":\"Figure\",\"id\":\"p1781\",\"attributes\":{\"width\":900,\"height\":300,\"x_range\":{\"type\":\"object\",\"name\":\"FactorRange\",\"id\":\"p1790\",\"attributes\":{\"factors\":[\"12/12\",\"12/13\",\"12/14\",\"12/15\",\"12/16\",\"12/17\",\"12/18\",\"12/19\",\"12/20\",\"12/21\",\"12/22\",\"12/23\",\"12/24\",\"12/25\",\"12/26\",\"12/27\",\"12/28\",\"12/29\",\"12/30\",\"12/31\",\"01/01\",\"01/02\",\"01/03\",\"01/04\",\"01/05\",\"01/06\",\"01/07\",\"01/08\",\"01/09\",\"01/10\",\"01/11\",\"01/12\",\"01/13\",\"01/14\",\"01/15\"]}},\"y_range\":{\"type\":\"object\",\"name\":\"DataRange1d\",\"id\":\"p1783\"},\"x_scale\":{\"type\":\"object\",\"name\":\"CategoricalScale\",\"id\":\"p1791\"},\"y_scale\":{\"type\":\"object\",\"name\":\"LinearScale\",\"id\":\"p1792\"},\"title\":{\"type\":\"object\",\"name\":\"Title\",\"id\":\"p1788\"},\"renderers\":[{\"type\":\"object\",\"name\":\"GlyphRenderer\",\"id\":\"p1825\",\"attributes\":{\"data_source\":{\"type\":\"object\",\"name\":\"ColumnDataSource\",\"id\":\"p1816\",\"attributes\":{\"selected\":{\"type\":\"object\",\"name\":\"Selection\",\"id\":\"p1817\",\"attributes\":{\"indices\":[],\"line_indices\":[]}},\"selection_policy\":{\"type\":\"object\",\"name\":\"UnionRenderers\",\"id\":\"p1818\"},\"data\":{\"type\":\"map\",\"entries\":[[\"date\",{\"type\":\"ndarray\",\"array\":[\"12/12\",\"12/13\",\"12/14\",\"12/15\",\"12/16\",\"12/17\",\"12/18\",\"12/19\",\"12/20\",\"12/21\",\"12/22\",\"12/23\",\"12/24\",\"12/25\",\"12/26\",\"12/27\",\"12/28\",\"12/29\",\"12/30\",\"12/31\",\"01/01\",\"01/02\",\"01/03\",\"01/04\",\"01/05\",\"01/06\",\"01/07\",\"01/08\",\"01/09\",\"01/10\",\"01/11\",\"01/12\",\"01/13\",\"01/14\",\"01/15\"],\"shape\":[35],\"dtype\":\"object\",\"order\":\"little\"}],[\"count\",{\"type\":\"ndarray\",\"array\":{\"type\":\"bytes\",\"data\":\"AAAAAAAACEAAAAAAAAAAQAAAAAAAAPA/AAAAAAAACEAAAAAAAAAIQAAAAAAAAAAAAAAAAAAA8D8AAAAAAADwPwAAAAAAAABAAAAAAAAACEAAAAAAAADwPwAAAAAAAAAAAAAAAAAA8D8AAAAAAAAAAAAAAAAAAAhAAAAAAAAAAEAAAAAAAAAUQAAAAAAAAABAAAAAAAAAJEAAAAAAAAAIQAAAAAAAAPA/AAAAAAAA8D8AAAAAAAAoQAAAAAAAABBAAAAAAAAAGEAAAAAAAAAYQAAAAAAAAAAAAAAAAAAA8D8AAAAAAAAYQAAAAAAAABRAAAAAAAAAAEAAAAAAAAAgQAAAAAAAAABAAAAAAAAAAAAAAAAAAAAAAA==\"},\"shape\":[35],\"dtype\":\"float64\",\"order\":\"little\"}]]}}},\"view\":{\"type\":\"object\",\"name\":\"CDSView\",\"id\":\"p1826\",\"attributes\":{\"filter\":{\"type\":\"object\",\"name\":\"AllIndices\",\"id\":\"p1827\"}}},\"glyph\":{\"type\":\"object\",\"name\":\"Line\",\"id\":\"p1822\",\"attributes\":{\"x\":{\"type\":\"field\",\"field\":\"date\"},\"y\":{\"type\":\"field\",\"field\":\"count\"},\"line_color\":\"teal\",\"line_width\":7}},\"nonselection_glyph\":{\"type\":\"object\",\"name\":\"Line\",\"id\":\"p1823\",\"attributes\":{\"x\":{\"type\":\"field\",\"field\":\"date\"},\"y\":{\"type\":\"field\",\"field\":\"count\"},\"line_color\":\"teal\",\"line_alpha\":0.1,\"line_width\":7}},\"muted_glyph\":{\"type\":\"object\",\"name\":\"Line\",\"id\":\"p1824\",\"attributes\":{\"x\":{\"type\":\"field\",\"field\":\"date\"},\"y\":{\"type\":\"field\",\"field\":\"count\"},\"line_color\":\"teal\",\"line_alpha\":0.2,\"line_width\":7}}}},{\"type\":\"object\",\"name\":\"GlyphRenderer\",\"id\":\"p1834\",\"attributes\":{\"data_source\":{\"id\":\"p1816\"},\"view\":{\"type\":\"object\",\"name\":\"CDSView\",\"id\":\"p1835\",\"attributes\":{\"filter\":{\"type\":\"object\",\"name\":\"AllIndices\",\"id\":\"p1836\"}}},\"glyph\":{\"type\":\"object\",\"name\":\"Scatter\",\"id\":\"p1831\",\"attributes\":{\"x\":{\"type\":\"field\",\"field\":\"date\"},\"y\":{\"type\":\"field\",\"field\":\"count\"},\"size\":{\"type\":\"value\",\"value\":15},\"line_color\":{\"type\":\"value\",\"value\":\"white\"},\"line_width\":{\"type\":\"value\",\"value\":2},\"fill_color\":{\"type\":\"value\",\"value\":\"teal\"}}},\"nonselection_glyph\":{\"type\":\"object\",\"name\":\"Scatter\",\"id\":\"p1832\",\"attributes\":{\"x\":{\"type\":\"field\",\"field\":\"date\"},\"y\":{\"type\":\"field\",\"field\":\"count\"},\"size\":{\"type\":\"value\",\"value\":15},\"line_color\":{\"type\":\"value\",\"value\":\"white\"},\"line_alpha\":{\"type\":\"value\",\"value\":0.1},\"line_width\":{\"type\":\"value\",\"value\":2},\"fill_color\":{\"type\":\"value\",\"value\":\"teal\"},\"fill_alpha\":{\"type\":\"value\",\"value\":0.1},\"hatch_alpha\":{\"type\":\"value\",\"value\":0.1}}},\"muted_glyph\":{\"type\":\"object\",\"name\":\"Scatter\",\"id\":\"p1833\",\"attributes\":{\"x\":{\"type\":\"field\",\"field\":\"date\"},\"y\":{\"type\":\"field\",\"field\":\"count\"},\"size\":{\"type\":\"value\",\"value\":15},\"line_color\":{\"type\":\"value\",\"value\":\"white\"},\"line_alpha\":{\"type\":\"value\",\"value\":0.2},\"line_width\":{\"type\":\"value\",\"value\":2},\"fill_color\":{\"type\":\"value\",\"value\":\"teal\"},\"fill_alpha\":{\"type\":\"value\",\"value\":0.2},\"hatch_alpha\":{\"type\":\"value\",\"value\":0.2}}}}}],\"toolbar\":{\"type\":\"object\",\"name\":\"Toolbar\",\"id\":\"p1789\",\"attributes\":{\"tools\":[{\"type\":\"object\",\"name\":\"PanTool\",\"id\":\"p1803\"},{\"type\":\"object\",\"name\":\"WheelZoomTool\",\"id\":\"p1804\",\"attributes\":{\"renderers\":\"auto\"}},{\"type\":\"object\",\"name\":\"BoxZoomTool\",\"id\":\"p1805\",\"attributes\":{\"overlay\":{\"type\":\"object\",\"name\":\"BoxAnnotation\",\"id\":\"p1806\",\"attributes\":{\"syncable\":false,\"line_color\":\"black\",\"line_alpha\":1.0,\"line_width\":2,\"line_dash\":[4,4],\"fill_color\":\"lightgrey\",\"fill_alpha\":0.5,\"level\":\"overlay\",\"visible\":false,\"left\":{\"type\":\"number\",\"value\":\"nan\"},\"right\":{\"type\":\"number\",\"value\":\"nan\"},\"top\":{\"type\":\"number\",\"value\":\"nan\"},\"bottom\":{\"type\":\"number\",\"value\":\"nan\"},\"left_units\":\"canvas\",\"right_units\":\"canvas\",\"top_units\":\"canvas\",\"bottom_units\":\"canvas\",\"handles\":{\"type\":\"object\",\"name\":\"BoxInteractionHandles\",\"id\":\"p1812\",\"attributes\":{\"all\":{\"type\":\"object\",\"name\":\"AreaVisuals\",\"id\":\"p1811\",\"attributes\":{\"fill_color\":\"white\",\"hover_fill_color\":\"lightgray\"}}}}}}}},{\"type\":\"object\",\"name\":\"SaveTool\",\"id\":\"p1813\"},{\"type\":\"object\",\"name\":\"ResetTool\",\"id\":\"p1814\"},{\"type\":\"object\",\"name\":\"HelpTool\",\"id\":\"p1815\"}]}},\"left\":[{\"type\":\"object\",\"name\":\"LinearAxis\",\"id\":\"p1798\",\"attributes\":{\"ticker\":{\"type\":\"object\",\"name\":\"BasicTicker\",\"id\":\"p1799\",\"attributes\":{\"mantissas\":[1,2,5]}},\"formatter\":{\"type\":\"object\",\"name\":\"BasicTickFormatter\",\"id\":\"p1800\"},\"axis_label_text_font\":\"Arial\",\"axis_label_text_font_size\":\"20pt\",\"major_label_policy\":{\"type\":\"object\",\"name\":\"AllLabels\",\"id\":\"p1801\"},\"major_label_text_font\":\"Arial\",\"major_label_text_font_size\":\"20pt\",\"major_tick_out\":10,\"minor_tick_out\":6}}],\"below\":[{\"type\":\"object\",\"name\":\"CategoricalAxis\",\"id\":\"p1793\",\"attributes\":{\"ticker\":{\"type\":\"object\",\"name\":\"CategoricalTicker\",\"id\":\"p1794\"},\"formatter\":{\"type\":\"object\",\"name\":\"CategoricalTickFormatter\",\"id\":\"p1795\"},\"axis_label_text_font\":\"Arial\",\"axis_label_text_font_size\":\"20pt\",\"axis_label_text_font_style\":\"bold\",\"major_label_orientation\":\"vertical\",\"major_label_policy\":{\"type\":\"object\",\"name\":\"AllLabels\",\"id\":\"p1796\"},\"major_label_text_font\":\"Arial\",\"major_label_text_font_size\":\"20pt\",\"major_tick_out\":10,\"minor_tick_out\":6}}],\"center\":[{\"type\":\"object\",\"name\":\"Grid\",\"id\":\"p1797\",\"attributes\":{\"axis\":{\"id\":\"p1793\"}}},{\"type\":\"object\",\"name\":\"Grid\",\"id\":\"p1802\",\"attributes\":{\"dimension\":1,\"axis\":{\"id\":\"p1798\"}}},{\"type\":\"object\",\"name\":\"BoxAnnotation\",\"id\":\"p1837\",\"attributes\":{\"line_color\":\"limegreen\",\"line_width\":2,\"line_dash\":[4,4],\"fill_color\":\"limegreen\",\"fill_alpha\":0.1,\"left\":14.5,\"right\":34.5,\"top\":{\"type\":\"object\",\"name\":\"Node\",\"id\":\"p1840\",\"attributes\":{\"target\":\"frame\",\"symbol\":\"top\"}},\"bottom\":{\"type\":\"object\",\"name\":\"Node\",\"id\":\"p1841\",\"attributes\":{\"target\":\"frame\",\"symbol\":\"bottom\"}},\"handles\":{\"type\":\"object\",\"name\":\"BoxInteractionHandles\",\"id\":\"p1843\",\"attributes\":{\"all\":{\"type\":\"object\",\"name\":\"AreaVisuals\",\"id\":\"p1842\",\"attributes\":{\"fill_color\":\"white\",\"hover_fill_color\":\"lightgray\"}}}}}},{\"type\":\"object\",\"name\":\"BoxAnnotation\",\"id\":\"p1844\",\"attributes\":{\"line_color\":\"orangered\",\"line_width\":2,\"line_dash\":[4,4],\"fill_color\":\"orangered\",\"fill_alpha\":0.1,\"left\":11.5,\"right\":14.5,\"top\":{\"type\":\"object\",\"name\":\"Node\",\"id\":\"p1847\",\"attributes\":{\"target\":\"frame\",\"symbol\":\"top\"}},\"bottom\":{\"type\":\"object\",\"name\":\"Node\",\"id\":\"p1848\",\"attributes\":{\"target\":\"frame\",\"symbol\":\"bottom\"}},\"handles\":{\"type\":\"object\",\"name\":\"BoxInteractionHandles\",\"id\":\"p1850\",\"attributes\":{\"all\":{\"type\":\"object\",\"name\":\"AreaVisuals\",\"id\":\"p1849\",\"attributes\":{\"fill_color\":\"white\",\"hover_fill_color\":\"lightgray\"}}}}}},{\"type\":\"object\",\"name\":\"BoxAnnotation\",\"id\":\"p1851\",\"attributes\":{\"line_color\":\"gold\",\"line_width\":2,\"line_dash\":[4,4],\"fill_color\":\"gold\",\"fill_alpha\":0.13,\"left\":7.5,\"right\":11.5,\"top\":{\"type\":\"object\",\"name\":\"Node\",\"id\":\"p1854\",\"attributes\":{\"target\":\"frame\",\"symbol\":\"top\"}},\"bottom\":{\"type\":\"object\",\"name\":\"Node\",\"id\":\"p1855\",\"attributes\":{\"target\":\"frame\",\"symbol\":\"bottom\"}},\"handles\":{\"type\":\"object\",\"name\":\"BoxInteractionHandles\",\"id\":\"p1857\",\"attributes\":{\"all\":{\"type\":\"object\",\"name\":\"AreaVisuals\",\"id\":\"p1856\",\"attributes\":{\"fill_color\":\"white\",\"hover_fill_color\":\"lightgray\"}}}}}}]}}]}};\n",
       "  const render_items = [{\"docid\":\"e1178f6e-d077-4abe-8afe-db1404983a79\",\"roots\":{\"p1781\":\"c3595c26-2fed-4ec6-a2f4-9ad88dcabb17\"},\"root_ids\":[\"p1781\"]}];\n",
       "  void root.Bokeh.embed.embed_items_notebook(docs_json, render_items);\n",
       "  }\n",
       "  if (root.Bokeh !== undefined) {\n",
       "    embed_document(root);\n",
       "  } else {\n",
       "    let attempts = 0;\n",
       "    const timer = setInterval(function(root) {\n",
       "      if (root.Bokeh !== undefined) {\n",
       "        clearInterval(timer);\n",
       "        embed_document(root);\n",
       "      } else {\n",
       "        attempts++;\n",
       "        if (attempts > 100) {\n",
       "          clearInterval(timer);\n",
       "          console.log(\"Bokeh: ERROR: Unable to run BokehJS code because BokehJS library is missing\");\n",
       "        }\n",
       "      }\n",
       "    }, 10, root)\n",
       "  }\n",
       "})(window);"
      ],
      "application/vnd.bokehjs_exec.v0+json": ""
     },
     "metadata": {
      "application/vnd.bokehjs_exec.v0+json": {
       "id": "p1781"
      }
     },
     "output_type": "display_data"
    }
   ],
   "source": [
    "p = figure(height=300, width=900, x_range=lis_x)\n",
    "\n",
    "source = ColumnDataSource(data={\n",
    "    'date' : groupby_time1['open_date'],\n",
    "    'count' : groupby_time1['Case Reference']\n",
    "    })\n",
    "\n",
    "p.line(x='date', y='count', source=source, width = 7, color=\"teal\", alpha=1)\n",
    "p.circle(x='date', y='count', source=source, size=15, line_color=\"white\", fill_color=\"teal\", line_width=2, alpha=1)\n",
    "\n",
    "p.xaxis.axis_label_text_font_size = \"20pt\"\n",
    "p.xaxis.axis_label_text_font = \"Arial\"\n",
    "p.xaxis.major_label_orientation = \"vertical\"\n",
    "p.xaxis.axis_label_text_font_style = \"bold\"\n",
    "p.xaxis.axis_line_width = 1\n",
    "p.xaxis.major_label_text_font_size = \"20pt\"\n",
    "p.xaxis.major_label_text_font = \"Arial\"\n",
    "\n",
    "p.yaxis.axis_label_text_font_size = \"20pt\"\n",
    "p.yaxis.axis_label_text_font = \"Arial\"\n",
    "p.yaxis.axis_line_width = 1\n",
    "p.yaxis.major_label_text_font_size = \"20pt\"\n",
    "p.yaxis.major_label_text_font = \"Arial\"\n",
    "\n",
    "p.axis.minor_tick_out = 6\n",
    "p.axis.major_tick_out = 10\n",
    "\n",
    "blackout = BoxAnnotation(left=14.5, right=34.5, fill_alpha=0.1, fill_color='limegreen',line_color='limegreen', line_width=2, line_dash=[4,4])\n",
    "p.add_layout(blackout)\n",
    "blackout = BoxAnnotation(left=11.5, right=14.5, fill_alpha=0.1, fill_color='orangered',line_color='orangered', line_width=2, line_dash=[4,4])\n",
    "p.add_layout(blackout)\n",
    "blackout1 = BoxAnnotation(left=7.5, right=11.5, fill_alpha=0.13, fill_color='gold',line_color='gold', line_width=2, line_dash=[4,4])\n",
    "p.add_layout(blackout1)\n",
    "\n",
    "show(p)"
   ]
  },
  {
   "cell_type": "markdown",
   "id": "7ce799c8-202b-4c83-a1c3-5b266b4accad",
   "metadata": {},
   "source": [
    "### Requests related to animals and pests"
   ]
  },
  {
   "cell_type": "code",
   "execution_count": 26,
   "id": "927237af-0928-46aa-9221-1d6c244d8eca",
   "metadata": {},
   "outputs": [],
   "source": [
    "requests = df_12_15[(df_12_15['category'] == \"Issues related to animals and pests\")].copy()\n",
    "groupby_time = requests.groupby([\"Open Date\"]).agg({\"Case Reference\":\"count\"}).reset_index()\n",
    "\n",
    "groupby_time['Open Date'] = groupby_time['Open Date'].astype(str)\n",
    "groupby_time['open_date'] = groupby_time['Open Date'].apply(lambda x: str(x).split(\"-\", 1)[1].replace(\"-\",\"/\"))\n",
    "\n",
    "groupby_time1 = pd.merge(groupby_time, date_index, left_on=\"open_date\", right_on=\"open_date\", how = \"right\")\n",
    "groupby_time1.fillna(0, inplace=True)\n",
    "\n",
    "lis_x = ['12/12','12/13','12/14','12/15','12/16','12/17','12/18','12/19','12/20','12/21','12/22','12/23','12/24','12/25','12/26','12/27','12/28','12/29','12/30','12/31','01/01','01/02','01/03','01/04','01/05','01/06','01/07','01/08','01/09','01/10','01/11','01/12','01/13','01/14','01/15']"
   ]
  },
  {
   "cell_type": "code",
   "execution_count": 27,
   "id": "11d9c1d3-8b97-45ad-9641-c8c73ca40f59",
   "metadata": {},
   "outputs": [
    {
     "name": "stderr",
     "output_type": "stream",
     "text": [
      "BokehDeprecationWarning: 'circle() method with size value' was deprecated in Bokeh 3.4.0 and will be removed, use 'scatter(size=...) instead' instead.\n"
     ]
    },
    {
     "data": {
      "text/html": [
       "\n",
       "  <div id=\"e72de28f-8daf-42b0-a70f-c8cd4d5c0212\" data-root-id=\"p1859\" style=\"display: contents;\"></div>\n"
      ]
     },
     "metadata": {},
     "output_type": "display_data"
    },
    {
     "data": {
      "application/javascript": [
       "(function(root) {\n",
       "  function embed_document(root) {\n",
       "  const docs_json = {\"35df9168-2c88-47c2-b304-27eb430e4c74\":{\"version\":\"3.5.2\",\"title\":\"Bokeh Application\",\"roots\":[{\"type\":\"object\",\"name\":\"Figure\",\"id\":\"p1859\",\"attributes\":{\"width\":900,\"height\":300,\"x_range\":{\"type\":\"object\",\"name\":\"FactorRange\",\"id\":\"p1868\",\"attributes\":{\"factors\":[\"12/12\",\"12/13\",\"12/14\",\"12/15\",\"12/16\",\"12/17\",\"12/18\",\"12/19\",\"12/20\",\"12/21\",\"12/22\",\"12/23\",\"12/24\",\"12/25\",\"12/26\",\"12/27\",\"12/28\",\"12/29\",\"12/30\",\"12/31\",\"01/01\",\"01/02\",\"01/03\",\"01/04\",\"01/05\",\"01/06\",\"01/07\",\"01/08\",\"01/09\",\"01/10\",\"01/11\",\"01/12\",\"01/13\",\"01/14\",\"01/15\"]}},\"y_range\":{\"type\":\"object\",\"name\":\"DataRange1d\",\"id\":\"p1861\"},\"x_scale\":{\"type\":\"object\",\"name\":\"CategoricalScale\",\"id\":\"p1869\"},\"y_scale\":{\"type\":\"object\",\"name\":\"LinearScale\",\"id\":\"p1870\"},\"title\":{\"type\":\"object\",\"name\":\"Title\",\"id\":\"p1866\"},\"renderers\":[{\"type\":\"object\",\"name\":\"GlyphRenderer\",\"id\":\"p1903\",\"attributes\":{\"data_source\":{\"type\":\"object\",\"name\":\"ColumnDataSource\",\"id\":\"p1894\",\"attributes\":{\"selected\":{\"type\":\"object\",\"name\":\"Selection\",\"id\":\"p1895\",\"attributes\":{\"indices\":[],\"line_indices\":[]}},\"selection_policy\":{\"type\":\"object\",\"name\":\"UnionRenderers\",\"id\":\"p1896\"},\"data\":{\"type\":\"map\",\"entries\":[[\"date\",{\"type\":\"ndarray\",\"array\":[\"12/12\",\"12/13\",\"12/14\",\"12/15\",\"12/16\",\"12/17\",\"12/18\",\"12/19\",\"12/20\",\"12/21\",\"12/22\",\"12/23\",\"12/24\",\"12/25\",\"12/26\",\"12/27\",\"12/28\",\"12/29\",\"12/30\",\"12/31\",\"01/01\",\"01/02\",\"01/03\",\"01/04\",\"01/05\",\"01/06\",\"01/07\",\"01/08\",\"01/09\",\"01/10\",\"01/11\",\"01/12\",\"01/13\",\"01/14\",\"01/15\"],\"shape\":[35],\"dtype\":\"object\",\"order\":\"little\"}],[\"count\",{\"type\":\"ndarray\",\"array\":{\"type\":\"bytes\",\"data\":\"AAAAAAAAKEAAAAAAAAAcQAAAAAAAABxAAAAAAAAAGEAAAAAAAAAiQAAAAAAAAPA/AAAAAAAA8D8AAAAAAAAiQAAAAAAAAABAAAAAAAAAGEAAAAAAAAAcQAAAAAAAAPA/AAAAAAAA8D8AAAAAAAAAQAAAAAAAAAAAAAAAAAAA8D8AAAAAAAAIQAAAAAAAAAAAAAAAAAAAFEAAAAAAAAAAAAAAAAAAAPA/AAAAAAAAAEAAAAAAAAAkQAAAAAAAAChAAAAAAAAAIEAAAAAAAAAzQAAAAAAAAPA/AAAAAAAAGEAAAAAAAAAYQAAAAAAAACZAAAAAAAAAGEAAAAAAAAAsQAAAAAAAABRAAAAAAAAAAEAAAAAAAAAAAA==\"},\"shape\":[35],\"dtype\":\"float64\",\"order\":\"little\"}]]}}},\"view\":{\"type\":\"object\",\"name\":\"CDSView\",\"id\":\"p1904\",\"attributes\":{\"filter\":{\"type\":\"object\",\"name\":\"AllIndices\",\"id\":\"p1905\"}}},\"glyph\":{\"type\":\"object\",\"name\":\"Line\",\"id\":\"p1900\",\"attributes\":{\"x\":{\"type\":\"field\",\"field\":\"date\"},\"y\":{\"type\":\"field\",\"field\":\"count\"},\"line_color\":\"fuchsia\",\"line_width\":7}},\"nonselection_glyph\":{\"type\":\"object\",\"name\":\"Line\",\"id\":\"p1901\",\"attributes\":{\"x\":{\"type\":\"field\",\"field\":\"date\"},\"y\":{\"type\":\"field\",\"field\":\"count\"},\"line_color\":\"fuchsia\",\"line_alpha\":0.1,\"line_width\":7}},\"muted_glyph\":{\"type\":\"object\",\"name\":\"Line\",\"id\":\"p1902\",\"attributes\":{\"x\":{\"type\":\"field\",\"field\":\"date\"},\"y\":{\"type\":\"field\",\"field\":\"count\"},\"line_color\":\"fuchsia\",\"line_alpha\":0.2,\"line_width\":7}}}},{\"type\":\"object\",\"name\":\"GlyphRenderer\",\"id\":\"p1912\",\"attributes\":{\"data_source\":{\"id\":\"p1894\"},\"view\":{\"type\":\"object\",\"name\":\"CDSView\",\"id\":\"p1913\",\"attributes\":{\"filter\":{\"type\":\"object\",\"name\":\"AllIndices\",\"id\":\"p1914\"}}},\"glyph\":{\"type\":\"object\",\"name\":\"Scatter\",\"id\":\"p1909\",\"attributes\":{\"x\":{\"type\":\"field\",\"field\":\"date\"},\"y\":{\"type\":\"field\",\"field\":\"count\"},\"size\":{\"type\":\"value\",\"value\":15},\"line_color\":{\"type\":\"value\",\"value\":\"white\"},\"line_width\":{\"type\":\"value\",\"value\":2},\"fill_color\":{\"type\":\"value\",\"value\":\"fuchsia\"}}},\"nonselection_glyph\":{\"type\":\"object\",\"name\":\"Scatter\",\"id\":\"p1910\",\"attributes\":{\"x\":{\"type\":\"field\",\"field\":\"date\"},\"y\":{\"type\":\"field\",\"field\":\"count\"},\"size\":{\"type\":\"value\",\"value\":15},\"line_color\":{\"type\":\"value\",\"value\":\"white\"},\"line_alpha\":{\"type\":\"value\",\"value\":0.1},\"line_width\":{\"type\":\"value\",\"value\":2},\"fill_color\":{\"type\":\"value\",\"value\":\"fuchsia\"},\"fill_alpha\":{\"type\":\"value\",\"value\":0.1},\"hatch_alpha\":{\"type\":\"value\",\"value\":0.1}}},\"muted_glyph\":{\"type\":\"object\",\"name\":\"Scatter\",\"id\":\"p1911\",\"attributes\":{\"x\":{\"type\":\"field\",\"field\":\"date\"},\"y\":{\"type\":\"field\",\"field\":\"count\"},\"size\":{\"type\":\"value\",\"value\":15},\"line_color\":{\"type\":\"value\",\"value\":\"white\"},\"line_alpha\":{\"type\":\"value\",\"value\":0.2},\"line_width\":{\"type\":\"value\",\"value\":2},\"fill_color\":{\"type\":\"value\",\"value\":\"fuchsia\"},\"fill_alpha\":{\"type\":\"value\",\"value\":0.2},\"hatch_alpha\":{\"type\":\"value\",\"value\":0.2}}}}}],\"toolbar\":{\"type\":\"object\",\"name\":\"Toolbar\",\"id\":\"p1867\",\"attributes\":{\"tools\":[{\"type\":\"object\",\"name\":\"PanTool\",\"id\":\"p1881\"},{\"type\":\"object\",\"name\":\"WheelZoomTool\",\"id\":\"p1882\",\"attributes\":{\"renderers\":\"auto\"}},{\"type\":\"object\",\"name\":\"BoxZoomTool\",\"id\":\"p1883\",\"attributes\":{\"overlay\":{\"type\":\"object\",\"name\":\"BoxAnnotation\",\"id\":\"p1884\",\"attributes\":{\"syncable\":false,\"line_color\":\"black\",\"line_alpha\":1.0,\"line_width\":2,\"line_dash\":[4,4],\"fill_color\":\"lightgrey\",\"fill_alpha\":0.5,\"level\":\"overlay\",\"visible\":false,\"left\":{\"type\":\"number\",\"value\":\"nan\"},\"right\":{\"type\":\"number\",\"value\":\"nan\"},\"top\":{\"type\":\"number\",\"value\":\"nan\"},\"bottom\":{\"type\":\"number\",\"value\":\"nan\"},\"left_units\":\"canvas\",\"right_units\":\"canvas\",\"top_units\":\"canvas\",\"bottom_units\":\"canvas\",\"handles\":{\"type\":\"object\",\"name\":\"BoxInteractionHandles\",\"id\":\"p1890\",\"attributes\":{\"all\":{\"type\":\"object\",\"name\":\"AreaVisuals\",\"id\":\"p1889\",\"attributes\":{\"fill_color\":\"white\",\"hover_fill_color\":\"lightgray\"}}}}}}}},{\"type\":\"object\",\"name\":\"SaveTool\",\"id\":\"p1891\"},{\"type\":\"object\",\"name\":\"ResetTool\",\"id\":\"p1892\"},{\"type\":\"object\",\"name\":\"HelpTool\",\"id\":\"p1893\"}]}},\"left\":[{\"type\":\"object\",\"name\":\"LinearAxis\",\"id\":\"p1876\",\"attributes\":{\"ticker\":{\"type\":\"object\",\"name\":\"BasicTicker\",\"id\":\"p1877\",\"attributes\":{\"mantissas\":[1,2,5]}},\"formatter\":{\"type\":\"object\",\"name\":\"BasicTickFormatter\",\"id\":\"p1878\"},\"axis_label_text_font\":\"Arial\",\"axis_label_text_font_size\":\"20pt\",\"major_label_policy\":{\"type\":\"object\",\"name\":\"AllLabels\",\"id\":\"p1879\"},\"major_label_text_font\":\"Arial\",\"major_label_text_font_size\":\"20pt\",\"major_tick_out\":10,\"minor_tick_out\":6}}],\"below\":[{\"type\":\"object\",\"name\":\"CategoricalAxis\",\"id\":\"p1871\",\"attributes\":{\"ticker\":{\"type\":\"object\",\"name\":\"CategoricalTicker\",\"id\":\"p1872\"},\"formatter\":{\"type\":\"object\",\"name\":\"CategoricalTickFormatter\",\"id\":\"p1873\"},\"axis_label_text_font\":\"Arial\",\"axis_label_text_font_size\":\"20pt\",\"axis_label_text_font_style\":\"bold\",\"major_label_orientation\":\"vertical\",\"major_label_policy\":{\"type\":\"object\",\"name\":\"AllLabels\",\"id\":\"p1874\"},\"major_label_text_font\":\"Arial\",\"major_label_text_font_size\":\"20pt\",\"major_tick_out\":10,\"minor_tick_out\":6}}],\"center\":[{\"type\":\"object\",\"name\":\"Grid\",\"id\":\"p1875\",\"attributes\":{\"axis\":{\"id\":\"p1871\"}}},{\"type\":\"object\",\"name\":\"Grid\",\"id\":\"p1880\",\"attributes\":{\"dimension\":1,\"axis\":{\"id\":\"p1876\"}}},{\"type\":\"object\",\"name\":\"BoxAnnotation\",\"id\":\"p1915\",\"attributes\":{\"line_color\":\"limegreen\",\"line_width\":2,\"line_dash\":[4,4],\"fill_color\":\"limegreen\",\"fill_alpha\":0.1,\"left\":14.5,\"right\":34.5,\"top\":{\"type\":\"object\",\"name\":\"Node\",\"id\":\"p1918\",\"attributes\":{\"target\":\"frame\",\"symbol\":\"top\"}},\"bottom\":{\"type\":\"object\",\"name\":\"Node\",\"id\":\"p1919\",\"attributes\":{\"target\":\"frame\",\"symbol\":\"bottom\"}},\"handles\":{\"type\":\"object\",\"name\":\"BoxInteractionHandles\",\"id\":\"p1921\",\"attributes\":{\"all\":{\"type\":\"object\",\"name\":\"AreaVisuals\",\"id\":\"p1920\",\"attributes\":{\"fill_color\":\"white\",\"hover_fill_color\":\"lightgray\"}}}}}},{\"type\":\"object\",\"name\":\"BoxAnnotation\",\"id\":\"p1922\",\"attributes\":{\"line_color\":\"orangered\",\"line_width\":2,\"line_dash\":[4,4],\"fill_color\":\"orangered\",\"fill_alpha\":0.1,\"left\":11.5,\"right\":14.5,\"top\":{\"type\":\"object\",\"name\":\"Node\",\"id\":\"p1925\",\"attributes\":{\"target\":\"frame\",\"symbol\":\"top\"}},\"bottom\":{\"type\":\"object\",\"name\":\"Node\",\"id\":\"p1926\",\"attributes\":{\"target\":\"frame\",\"symbol\":\"bottom\"}},\"handles\":{\"type\":\"object\",\"name\":\"BoxInteractionHandles\",\"id\":\"p1928\",\"attributes\":{\"all\":{\"type\":\"object\",\"name\":\"AreaVisuals\",\"id\":\"p1927\",\"attributes\":{\"fill_color\":\"white\",\"hover_fill_color\":\"lightgray\"}}}}}},{\"type\":\"object\",\"name\":\"BoxAnnotation\",\"id\":\"p1929\",\"attributes\":{\"line_color\":\"gold\",\"line_width\":2,\"line_dash\":[4,4],\"fill_color\":\"gold\",\"fill_alpha\":0.13,\"left\":7.5,\"right\":11.5,\"top\":{\"type\":\"object\",\"name\":\"Node\",\"id\":\"p1932\",\"attributes\":{\"target\":\"frame\",\"symbol\":\"top\"}},\"bottom\":{\"type\":\"object\",\"name\":\"Node\",\"id\":\"p1933\",\"attributes\":{\"target\":\"frame\",\"symbol\":\"bottom\"}},\"handles\":{\"type\":\"object\",\"name\":\"BoxInteractionHandles\",\"id\":\"p1935\",\"attributes\":{\"all\":{\"type\":\"object\",\"name\":\"AreaVisuals\",\"id\":\"p1934\",\"attributes\":{\"fill_color\":\"white\",\"hover_fill_color\":\"lightgray\"}}}}}}]}}]}};\n",
       "  const render_items = [{\"docid\":\"35df9168-2c88-47c2-b304-27eb430e4c74\",\"roots\":{\"p1859\":\"e72de28f-8daf-42b0-a70f-c8cd4d5c0212\"},\"root_ids\":[\"p1859\"]}];\n",
       "  void root.Bokeh.embed.embed_items_notebook(docs_json, render_items);\n",
       "  }\n",
       "  if (root.Bokeh !== undefined) {\n",
       "    embed_document(root);\n",
       "  } else {\n",
       "    let attempts = 0;\n",
       "    const timer = setInterval(function(root) {\n",
       "      if (root.Bokeh !== undefined) {\n",
       "        clearInterval(timer);\n",
       "        embed_document(root);\n",
       "      } else {\n",
       "        attempts++;\n",
       "        if (attempts > 100) {\n",
       "          clearInterval(timer);\n",
       "          console.log(\"Bokeh: ERROR: Unable to run BokehJS code because BokehJS library is missing\");\n",
       "        }\n",
       "      }\n",
       "    }, 10, root)\n",
       "  }\n",
       "})(window);"
      ],
      "application/vnd.bokehjs_exec.v0+json": ""
     },
     "metadata": {
      "application/vnd.bokehjs_exec.v0+json": {
       "id": "p1859"
      }
     },
     "output_type": "display_data"
    }
   ],
   "source": [
    "p = figure(height=300, width=900, x_range=lis_x)\n",
    "\n",
    "source = ColumnDataSource(data={\n",
    "    'date' : groupby_time1['open_date'],\n",
    "    'count' : groupby_time1['Case Reference']\n",
    "    })\n",
    "\n",
    "p.line(x='date', y='count', source=source, width = 7, color=\"fuchsia\", alpha=1)\n",
    "p.circle(x='date', y='count', source=source, size=15, line_color=\"white\", fill_color=\"fuchsia\", line_width=2, alpha=1)\n",
    "\n",
    "p.xaxis.axis_label_text_font_size = \"20pt\"\n",
    "p.xaxis.axis_label_text_font = \"Arial\"\n",
    "p.xaxis.major_label_orientation = \"vertical\"\n",
    "p.xaxis.axis_label_text_font_style = \"bold\"\n",
    "p.xaxis.axis_line_width = 1\n",
    "p.xaxis.major_label_text_font_size = \"20pt\"\n",
    "p.xaxis.major_label_text_font = \"Arial\"\n",
    "\n",
    "p.yaxis.axis_label_text_font_size = \"20pt\"\n",
    "p.yaxis.axis_label_text_font = \"Arial\"\n",
    "p.yaxis.axis_line_width = 1\n",
    "p.yaxis.major_label_text_font_size = \"20pt\"\n",
    "p.yaxis.major_label_text_font = \"Arial\"\n",
    "\n",
    "p.axis.minor_tick_out = 6\n",
    "p.axis.major_tick_out = 10\n",
    "\n",
    "blackout = BoxAnnotation(left=14.5, right=34.5, fill_alpha=0.1, fill_color='limegreen',line_color='limegreen', line_width=2, line_dash=[4,4])\n",
    "p.add_layout(blackout)\n",
    "blackout = BoxAnnotation(left=11.5, right=14.5, fill_alpha=0.1, fill_color='orangered',line_color='orangered', line_width=2, line_dash=[4,4])\n",
    "p.add_layout(blackout)\n",
    "blackout1 = BoxAnnotation(left=7.5, right=11.5, fill_alpha=0.13, fill_color='gold',line_color='gold', line_width=2, line_dash=[4,4])\n",
    "p.add_layout(blackout1)\n",
    "\n",
    "show(p)"
   ]
  },
  {
   "cell_type": "markdown",
   "id": "ee067224-ba42-4108-b23e-6a2c7a456d02",
   "metadata": {},
   "source": [
    "### Other requests"
   ]
  },
  {
   "cell_type": "code",
   "execution_count": 28,
   "id": "fb4f7ec1-f6b2-45d5-8c54-8176341c770d",
   "metadata": {},
   "outputs": [],
   "source": [
    "requests = df_12_15[(df_12_15['category'] == \"Other issues\")].copy()\n",
    "groupby_time = requests.groupby([\"Open Date\"]).agg({\"Case Reference\":\"count\"}).reset_index()\n",
    "\n",
    "groupby_time['Open Date'] = groupby_time['Open Date'].astype(str)\n",
    "groupby_time['open_date'] = groupby_time['Open Date'].apply(lambda x: str(x).split(\"-\", 1)[1].replace(\"-\",\"/\"))\n",
    "\n",
    "groupby_time1 = pd.merge(groupby_time, date_index, left_on=\"open_date\", right_on=\"open_date\", how = \"right\")\n",
    "groupby_time1.fillna(0, inplace=True)\n",
    "\n",
    "lis_x = ['12/12','12/13','12/14','12/15','12/16','12/17','12/18','12/19','12/20','12/21','12/22','12/23','12/24','12/25','12/26','12/27','12/28','12/29','12/30','12/31','01/01','01/02','01/03','01/04','01/05','01/06','01/07','01/08','01/09','01/10','01/11','01/12','01/13','01/14','01/15']"
   ]
  },
  {
   "cell_type": "code",
   "execution_count": 29,
   "id": "1afd5c96-a8e6-42bd-acf4-64d3123ee252",
   "metadata": {},
   "outputs": [
    {
     "name": "stderr",
     "output_type": "stream",
     "text": [
      "BokehDeprecationWarning: 'circle() method with size value' was deprecated in Bokeh 3.4.0 and will be removed, use 'scatter(size=...) instead' instead.\n"
     ]
    },
    {
     "data": {
      "text/html": [
       "\n",
       "  <div id=\"ed602707-1076-4b90-92da-ea1a158987ca\" data-root-id=\"p1937\" style=\"display: contents;\"></div>\n"
      ]
     },
     "metadata": {},
     "output_type": "display_data"
    },
    {
     "data": {
      "application/javascript": [
       "(function(root) {\n",
       "  function embed_document(root) {\n",
       "  const docs_json = {\"ed675c83-86f0-43b2-aeab-2860d18abe41\":{\"version\":\"3.5.2\",\"title\":\"Bokeh Application\",\"roots\":[{\"type\":\"object\",\"name\":\"Figure\",\"id\":\"p1937\",\"attributes\":{\"width\":900,\"height\":300,\"x_range\":{\"type\":\"object\",\"name\":\"FactorRange\",\"id\":\"p1946\",\"attributes\":{\"factors\":[\"12/12\",\"12/13\",\"12/14\",\"12/15\",\"12/16\",\"12/17\",\"12/18\",\"12/19\",\"12/20\",\"12/21\",\"12/22\",\"12/23\",\"12/24\",\"12/25\",\"12/26\",\"12/27\",\"12/28\",\"12/29\",\"12/30\",\"12/31\",\"01/01\",\"01/02\",\"01/03\",\"01/04\",\"01/05\",\"01/06\",\"01/07\",\"01/08\",\"01/09\",\"01/10\",\"01/11\",\"01/12\",\"01/13\",\"01/14\",\"01/15\"]}},\"y_range\":{\"type\":\"object\",\"name\":\"DataRange1d\",\"id\":\"p1939\"},\"x_scale\":{\"type\":\"object\",\"name\":\"CategoricalScale\",\"id\":\"p1947\"},\"y_scale\":{\"type\":\"object\",\"name\":\"LinearScale\",\"id\":\"p1948\"},\"title\":{\"type\":\"object\",\"name\":\"Title\",\"id\":\"p1944\"},\"renderers\":[{\"type\":\"object\",\"name\":\"GlyphRenderer\",\"id\":\"p1981\",\"attributes\":{\"data_source\":{\"type\":\"object\",\"name\":\"ColumnDataSource\",\"id\":\"p1972\",\"attributes\":{\"selected\":{\"type\":\"object\",\"name\":\"Selection\",\"id\":\"p1973\",\"attributes\":{\"indices\":[],\"line_indices\":[]}},\"selection_policy\":{\"type\":\"object\",\"name\":\"UnionRenderers\",\"id\":\"p1974\"},\"data\":{\"type\":\"map\",\"entries\":[[\"date\",{\"type\":\"ndarray\",\"array\":[\"12/12\",\"12/13\",\"12/14\",\"12/15\",\"12/16\",\"12/17\",\"12/18\",\"12/19\",\"12/20\",\"12/21\",\"12/22\",\"12/23\",\"12/24\",\"12/25\",\"12/26\",\"12/27\",\"12/28\",\"12/29\",\"12/30\",\"12/31\",\"01/01\",\"01/02\",\"01/03\",\"01/04\",\"01/05\",\"01/06\",\"01/07\",\"01/08\",\"01/09\",\"01/10\",\"01/11\",\"01/12\",\"01/13\",\"01/14\",\"01/15\"],\"shape\":[35],\"dtype\":\"object\",\"order\":\"little\"}],[\"count\",{\"type\":\"ndarray\",\"array\":{\"type\":\"bytes\",\"data\":\"BgAAAAkAAAAEAAAABQAAAAkAAAACAAAAAgAAAAgAAAAIAAAABAAAAAwAAAAIAAAABAAAAAQAAAAJAAAAGgAAADAAAAArAAAAFgAAAAQAAAAIAAAACwAAAAwAAAARAAAACwAAABIAAAACAAAABgAAABEAAAAKAAAAEAAAAA4AAAAHAAAABAAAAAEAAAA=\"},\"shape\":[35],\"dtype\":\"int32\",\"order\":\"little\"}]]}}},\"view\":{\"type\":\"object\",\"name\":\"CDSView\",\"id\":\"p1982\",\"attributes\":{\"filter\":{\"type\":\"object\",\"name\":\"AllIndices\",\"id\":\"p1983\"}}},\"glyph\":{\"type\":\"object\",\"name\":\"Line\",\"id\":\"p1978\",\"attributes\":{\"x\":{\"type\":\"field\",\"field\":\"date\"},\"y\":{\"type\":\"field\",\"field\":\"count\"},\"line_color\":\"darkorchid\",\"line_width\":7}},\"nonselection_glyph\":{\"type\":\"object\",\"name\":\"Line\",\"id\":\"p1979\",\"attributes\":{\"x\":{\"type\":\"field\",\"field\":\"date\"},\"y\":{\"type\":\"field\",\"field\":\"count\"},\"line_color\":\"darkorchid\",\"line_alpha\":0.1,\"line_width\":7}},\"muted_glyph\":{\"type\":\"object\",\"name\":\"Line\",\"id\":\"p1980\",\"attributes\":{\"x\":{\"type\":\"field\",\"field\":\"date\"},\"y\":{\"type\":\"field\",\"field\":\"count\"},\"line_color\":\"darkorchid\",\"line_alpha\":0.2,\"line_width\":7}}}},{\"type\":\"object\",\"name\":\"GlyphRenderer\",\"id\":\"p1990\",\"attributes\":{\"data_source\":{\"id\":\"p1972\"},\"view\":{\"type\":\"object\",\"name\":\"CDSView\",\"id\":\"p1991\",\"attributes\":{\"filter\":{\"type\":\"object\",\"name\":\"AllIndices\",\"id\":\"p1992\"}}},\"glyph\":{\"type\":\"object\",\"name\":\"Scatter\",\"id\":\"p1987\",\"attributes\":{\"x\":{\"type\":\"field\",\"field\":\"date\"},\"y\":{\"type\":\"field\",\"field\":\"count\"},\"size\":{\"type\":\"value\",\"value\":15},\"line_color\":{\"type\":\"value\",\"value\":\"white\"},\"line_width\":{\"type\":\"value\",\"value\":2},\"fill_color\":{\"type\":\"value\",\"value\":\"darkorchid\"}}},\"nonselection_glyph\":{\"type\":\"object\",\"name\":\"Scatter\",\"id\":\"p1988\",\"attributes\":{\"x\":{\"type\":\"field\",\"field\":\"date\"},\"y\":{\"type\":\"field\",\"field\":\"count\"},\"size\":{\"type\":\"value\",\"value\":15},\"line_color\":{\"type\":\"value\",\"value\":\"white\"},\"line_alpha\":{\"type\":\"value\",\"value\":0.1},\"line_width\":{\"type\":\"value\",\"value\":2},\"fill_color\":{\"type\":\"value\",\"value\":\"darkorchid\"},\"fill_alpha\":{\"type\":\"value\",\"value\":0.1},\"hatch_alpha\":{\"type\":\"value\",\"value\":0.1}}},\"muted_glyph\":{\"type\":\"object\",\"name\":\"Scatter\",\"id\":\"p1989\",\"attributes\":{\"x\":{\"type\":\"field\",\"field\":\"date\"},\"y\":{\"type\":\"field\",\"field\":\"count\"},\"size\":{\"type\":\"value\",\"value\":15},\"line_color\":{\"type\":\"value\",\"value\":\"white\"},\"line_alpha\":{\"type\":\"value\",\"value\":0.2},\"line_width\":{\"type\":\"value\",\"value\":2},\"fill_color\":{\"type\":\"value\",\"value\":\"darkorchid\"},\"fill_alpha\":{\"type\":\"value\",\"value\":0.2},\"hatch_alpha\":{\"type\":\"value\",\"value\":0.2}}}}}],\"toolbar\":{\"type\":\"object\",\"name\":\"Toolbar\",\"id\":\"p1945\",\"attributes\":{\"tools\":[{\"type\":\"object\",\"name\":\"PanTool\",\"id\":\"p1959\"},{\"type\":\"object\",\"name\":\"WheelZoomTool\",\"id\":\"p1960\",\"attributes\":{\"renderers\":\"auto\"}},{\"type\":\"object\",\"name\":\"BoxZoomTool\",\"id\":\"p1961\",\"attributes\":{\"overlay\":{\"type\":\"object\",\"name\":\"BoxAnnotation\",\"id\":\"p1962\",\"attributes\":{\"syncable\":false,\"line_color\":\"black\",\"line_alpha\":1.0,\"line_width\":2,\"line_dash\":[4,4],\"fill_color\":\"lightgrey\",\"fill_alpha\":0.5,\"level\":\"overlay\",\"visible\":false,\"left\":{\"type\":\"number\",\"value\":\"nan\"},\"right\":{\"type\":\"number\",\"value\":\"nan\"},\"top\":{\"type\":\"number\",\"value\":\"nan\"},\"bottom\":{\"type\":\"number\",\"value\":\"nan\"},\"left_units\":\"canvas\",\"right_units\":\"canvas\",\"top_units\":\"canvas\",\"bottom_units\":\"canvas\",\"handles\":{\"type\":\"object\",\"name\":\"BoxInteractionHandles\",\"id\":\"p1968\",\"attributes\":{\"all\":{\"type\":\"object\",\"name\":\"AreaVisuals\",\"id\":\"p1967\",\"attributes\":{\"fill_color\":\"white\",\"hover_fill_color\":\"lightgray\"}}}}}}}},{\"type\":\"object\",\"name\":\"SaveTool\",\"id\":\"p1969\"},{\"type\":\"object\",\"name\":\"ResetTool\",\"id\":\"p1970\"},{\"type\":\"object\",\"name\":\"HelpTool\",\"id\":\"p1971\"}]}},\"left\":[{\"type\":\"object\",\"name\":\"LinearAxis\",\"id\":\"p1954\",\"attributes\":{\"ticker\":{\"type\":\"object\",\"name\":\"BasicTicker\",\"id\":\"p1955\",\"attributes\":{\"mantissas\":[1,2,5]}},\"formatter\":{\"type\":\"object\",\"name\":\"BasicTickFormatter\",\"id\":\"p1956\"},\"axis_label_text_font\":\"Arial\",\"axis_label_text_font_size\":\"20pt\",\"major_label_policy\":{\"type\":\"object\",\"name\":\"AllLabels\",\"id\":\"p1957\"},\"major_label_text_font\":\"Arial\",\"major_label_text_font_size\":\"20pt\",\"major_tick_out\":10,\"minor_tick_out\":6}}],\"below\":[{\"type\":\"object\",\"name\":\"CategoricalAxis\",\"id\":\"p1949\",\"attributes\":{\"ticker\":{\"type\":\"object\",\"name\":\"CategoricalTicker\",\"id\":\"p1950\"},\"formatter\":{\"type\":\"object\",\"name\":\"CategoricalTickFormatter\",\"id\":\"p1951\"},\"axis_label_text_font\":\"Arial\",\"axis_label_text_font_size\":\"20pt\",\"axis_label_text_font_style\":\"bold\",\"major_label_orientation\":\"vertical\",\"major_label_policy\":{\"type\":\"object\",\"name\":\"AllLabels\",\"id\":\"p1952\"},\"major_label_text_font\":\"Arial\",\"major_label_text_font_size\":\"20pt\",\"major_tick_out\":10,\"minor_tick_out\":6}}],\"center\":[{\"type\":\"object\",\"name\":\"Grid\",\"id\":\"p1953\",\"attributes\":{\"axis\":{\"id\":\"p1949\"}}},{\"type\":\"object\",\"name\":\"Grid\",\"id\":\"p1958\",\"attributes\":{\"dimension\":1,\"axis\":{\"id\":\"p1954\"}}},{\"type\":\"object\",\"name\":\"BoxAnnotation\",\"id\":\"p1993\",\"attributes\":{\"line_color\":\"limegreen\",\"line_width\":2,\"line_dash\":[4,4],\"fill_color\":\"limegreen\",\"fill_alpha\":0.1,\"left\":14.5,\"right\":34.5,\"top\":{\"type\":\"object\",\"name\":\"Node\",\"id\":\"p1996\",\"attributes\":{\"target\":\"frame\",\"symbol\":\"top\"}},\"bottom\":{\"type\":\"object\",\"name\":\"Node\",\"id\":\"p1997\",\"attributes\":{\"target\":\"frame\",\"symbol\":\"bottom\"}},\"handles\":{\"type\":\"object\",\"name\":\"BoxInteractionHandles\",\"id\":\"p1999\",\"attributes\":{\"all\":{\"type\":\"object\",\"name\":\"AreaVisuals\",\"id\":\"p1998\",\"attributes\":{\"fill_color\":\"white\",\"hover_fill_color\":\"lightgray\"}}}}}},{\"type\":\"object\",\"name\":\"BoxAnnotation\",\"id\":\"p2000\",\"attributes\":{\"line_color\":\"orangered\",\"line_width\":2,\"line_dash\":[4,4],\"fill_color\":\"orangered\",\"fill_alpha\":0.1,\"left\":11.5,\"right\":14.5,\"top\":{\"type\":\"object\",\"name\":\"Node\",\"id\":\"p2003\",\"attributes\":{\"target\":\"frame\",\"symbol\":\"top\"}},\"bottom\":{\"type\":\"object\",\"name\":\"Node\",\"id\":\"p2004\",\"attributes\":{\"target\":\"frame\",\"symbol\":\"bottom\"}},\"handles\":{\"type\":\"object\",\"name\":\"BoxInteractionHandles\",\"id\":\"p2006\",\"attributes\":{\"all\":{\"type\":\"object\",\"name\":\"AreaVisuals\",\"id\":\"p2005\",\"attributes\":{\"fill_color\":\"white\",\"hover_fill_color\":\"lightgray\"}}}}}},{\"type\":\"object\",\"name\":\"BoxAnnotation\",\"id\":\"p2007\",\"attributes\":{\"line_color\":\"gold\",\"line_width\":2,\"line_dash\":[4,4],\"fill_color\":\"gold\",\"fill_alpha\":0.13,\"left\":7.5,\"right\":11.5,\"top\":{\"type\":\"object\",\"name\":\"Node\",\"id\":\"p2010\",\"attributes\":{\"target\":\"frame\",\"symbol\":\"top\"}},\"bottom\":{\"type\":\"object\",\"name\":\"Node\",\"id\":\"p2011\",\"attributes\":{\"target\":\"frame\",\"symbol\":\"bottom\"}},\"handles\":{\"type\":\"object\",\"name\":\"BoxInteractionHandles\",\"id\":\"p2013\",\"attributes\":{\"all\":{\"type\":\"object\",\"name\":\"AreaVisuals\",\"id\":\"p2012\",\"attributes\":{\"fill_color\":\"white\",\"hover_fill_color\":\"lightgray\"}}}}}}]}}]}};\n",
       "  const render_items = [{\"docid\":\"ed675c83-86f0-43b2-aeab-2860d18abe41\",\"roots\":{\"p1937\":\"ed602707-1076-4b90-92da-ea1a158987ca\"},\"root_ids\":[\"p1937\"]}];\n",
       "  void root.Bokeh.embed.embed_items_notebook(docs_json, render_items);\n",
       "  }\n",
       "  if (root.Bokeh !== undefined) {\n",
       "    embed_document(root);\n",
       "  } else {\n",
       "    let attempts = 0;\n",
       "    const timer = setInterval(function(root) {\n",
       "      if (root.Bokeh !== undefined) {\n",
       "        clearInterval(timer);\n",
       "        embed_document(root);\n",
       "      } else {\n",
       "        attempts++;\n",
       "        if (attempts > 100) {\n",
       "          clearInterval(timer);\n",
       "          console.log(\"Bokeh: ERROR: Unable to run BokehJS code because BokehJS library is missing\");\n",
       "        }\n",
       "      }\n",
       "    }, 10, root)\n",
       "  }\n",
       "})(window);"
      ],
      "application/vnd.bokehjs_exec.v0+json": ""
     },
     "metadata": {
      "application/vnd.bokehjs_exec.v0+json": {
       "id": "p1937"
      }
     },
     "output_type": "display_data"
    }
   ],
   "source": [
    "p = figure(height=300, width=900, x_range=lis_x)\n",
    "\n",
    "source = ColumnDataSource(data={\n",
    "    'date' : groupby_time1['open_date'],\n",
    "    'count' : groupby_time1['Case Reference']\n",
    "    })\n",
    "\n",
    "p.line(x='date', y='count', source=source, width = 7, color=\"darkorchid\", alpha=1)\n",
    "p.circle(x='date', y='count', source=source, size=15, line_color=\"white\", fill_color=\"darkorchid\", line_width=2, alpha=1)\n",
    "\n",
    "p.xaxis.axis_label_text_font_size = \"20pt\"\n",
    "p.xaxis.axis_label_text_font = \"Arial\"\n",
    "p.xaxis.major_label_orientation = \"vertical\"\n",
    "p.xaxis.axis_label_text_font_style = \"bold\"\n",
    "p.xaxis.axis_line_width = 1\n",
    "p.xaxis.major_label_text_font_size = \"20pt\"\n",
    "p.xaxis.major_label_text_font = \"Arial\"\n",
    "\n",
    "p.yaxis.axis_label_text_font_size = \"20pt\"\n",
    "p.yaxis.axis_label_text_font = \"Arial\"\n",
    "p.yaxis.axis_line_width = 1\n",
    "p.yaxis.major_label_text_font_size = \"20pt\"\n",
    "p.yaxis.major_label_text_font = \"Arial\"\n",
    "\n",
    "p.axis.minor_tick_out = 6\n",
    "p.axis.major_tick_out = 10\n",
    "\n",
    "blackout = BoxAnnotation(left=14.5, right=34.5, fill_alpha=0.1, fill_color='limegreen',line_color='limegreen', line_width=2, line_dash=[4,4])\n",
    "p.add_layout(blackout)\n",
    "blackout = BoxAnnotation(left=11.5, right=14.5, fill_alpha=0.1, fill_color='orangered',line_color='orangered', line_width=2, line_dash=[4,4])\n",
    "p.add_layout(blackout)\n",
    "blackout1 = BoxAnnotation(left=7.5, right=11.5, fill_alpha=0.13, fill_color='gold',line_color='gold', line_width=2, line_dash=[4,4])\n",
    "p.add_layout(blackout1)\n",
    "\n",
    "show(p)"
   ]
  }
 ],
 "metadata": {
  "kernelspec": {
   "display_name": "Python 3 (ipykernel)",
   "language": "python",
   "name": "python3"
  },
  "language_info": {
   "codemirror_mode": {
    "name": "ipython",
    "version": 3
   },
   "file_extension": ".py",
   "mimetype": "text/x-python",
   "name": "python",
   "nbconvert_exporter": "python",
   "pygments_lexer": "ipython3",
   "version": "3.12.3"
  }
 },
 "nbformat": 4,
 "nbformat_minor": 5
}
