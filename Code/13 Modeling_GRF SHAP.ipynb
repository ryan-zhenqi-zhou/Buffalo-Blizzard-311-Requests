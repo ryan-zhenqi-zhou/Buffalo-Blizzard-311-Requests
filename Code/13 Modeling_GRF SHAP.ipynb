{
 "cells": [
  {
   "cell_type": "code",
   "execution_count": null,
   "id": "d633f8d1-a303-4545-b10f-cbe2eb138c37",
   "metadata": {},
   "outputs": [],
   "source": [
    "# Packages\n",
    "import pandas as pd\n",
    "from sklearn.model_selection import train_test_split, KFold\n",
    "from sklearn.metrics import mean_squared_error, r2_score\n",
    "import libpysal\n",
    "import esda\n",
    "import sys\n",
    "import numpy as np\n",
    "import shap\n",
    "import PyGRF"
   ]
  },
  {
   "cell_type": "code",
   "execution_count": null,
   "id": "4c0311b9-341f-40e8-9c77-7043a5e7f6c9",
   "metadata": {},
   "outputs": [],
   "source": [
    "data_311 = pd.read_csv(\"../02 Data/modeling_grf.csv\")\n",
    "print(\"len(data_311): \", len(data_311))"
   ]
  },
  {
   "cell_type": "code",
   "execution_count": null,
   "id": "55b830a8-4209-443a-aa74-4153b3e53cee",
   "metadata": {},
   "outputs": [],
   "source": [
    "# function for standarizing variables\n",
    "def standarize_data(data, stats):\n",
    "    return (data - stats['mean']) / stats['std']\n",
    "\n",
    "def pygrf_311_predict(X):\n",
    "  coords_2 = X[['lon','lat']]\n",
    "  X_2 = X[X_columns]\n",
    "  return pygrf_311.predict(X_2, coords_2, local_weight=0.14163829762242533)[0]"
   ]
  },
  {
   "cell_type": "code",
   "execution_count": null,
   "id": "f1fb6346-0a03-495b-95e1-2129ff41ef9e",
   "metadata": {},
   "outputs": [],
   "source": [
    "# get columns for only dependent variables\n",
    "columns_to_exclude = ['Geography', 'lon', 'lat', '311_index_per_property']\n",
    "X_columns = [column for column in data_311.columns if column not in columns_to_exclude]\n",
    "\n",
    "K_fold = KFold(n_splits=10, shuffle=True, random_state=42)\n",
    "\n",
    "i = 0\n",
    "for train_index, test_index in K_fold.split(data_311):\n",
    "    print(\"fold:\", i)\n",
    "    print(\"train:\", train_index)\n",
    "    print(\"TEST:\", test_index)\n",
    "\n",
    "    # get the training and test data in each fold\n",
    "    X_train_all, X_test_all = data_311.iloc[train_index], data_311.iloc[test_index]\n",
    "    X_train_all.to_csv(\"../02 Data/SHAP result/{}_X_train_all.csv\".format(i))\n",
    "    X_test_all.to_csv(\"../02 Data/SHAP result/{}_X_test_all.csv\".format(i))\n",
    "    y_train, y_test = X_train_all['311_index_per_property'], X_test_all['311_index_per_property']\n",
    "    X_train = X_train_all[X_columns]\n",
    "    X_test = X_test_all[X_columns]\n",
    "    xy_coord = X_train_all[['lon', 'lat']]\n",
    "    coords_test = X_test_all[['lon', 'lat']]\n",
    "\n",
    "    # standarize dependent variables\n",
    "    training_stat = X_train.describe().transpose()\n",
    "    X_scaled_train_1 = standarize_data(X_train, training_stat)\n",
    "    X_scaled_test_1 = standarize_data(X_test, training_stat)\n",
    "    X_scaled_train_2 = pd.merge(X_scaled_train_1, xy_coord, left_index=True, right_index=True, how=\"left\")\n",
    "    X_columns_nolonlat = [column for column in X_scaled_train_2.columns if column not in ['lon', 'lat']]\n",
    "    X_scaled_train = X_scaled_train_2[X_columns_nolonlat]\n",
    "    X_scaled_test_2 = pd.merge(X_scaled_test_1, coords_test, left_index=True, right_index=True, how=\"left\")\n",
    "    X_scaled_test = X_scaled_test_2[X_columns_nolonlat]\n",
    "    # X_columns_nodis = [column for column in X_scaled_train.columns if column not in ['distance']]\n",
    "\n",
    "    # modeling\n",
    "    pygrf_311 = PyGRF.PyGRFBuilder(n_estimators=130, max_features=22, max_depth = 10, band_width=15, train_weighted=True, predict_weighted=True, bootstrap=True,\n",
    "                          resampled=True, random_state=42)\n",
    "    pygrf_311.fit(X_scaled_train, y_train, xy_coord[['lon','lat']])\n",
    "    predict_combined, predict_global, predict_local = pygrf_311.predict(X_scaled_test, coords_test[['lon','lat']], local_weight=0.14163829762242533)\n",
    "    r2 = r2_score(y_test, predict_combined)\n",
    "    print(\"R2: \", r2)\n",
    "\n",
    "    # SHAP\n",
    "    explainer = shap.Explainer(model = pygrf_311_predict, masker = X_scaled_train_2, algorithm = \"tree\", seed = 45)\n",
    "    shap_values = explainer(X_scaled_train_2)\n",
    "    shap_values_values = pd.DataFrame(shap_values.values, columns=X_scaled_train_2.columns)\n",
    "    shap_values_values.to_csv(\"../02 Data/SHAP result/{}_shap_values_values.csv\".format(i), index=False)\n",
    "    shap_values_base_values = pd.DataFrame(shap_values.base_values)\n",
    "    shap_values_base_values.to_csv(\"../02 Data/SHAP result/{}_shap_values_base_values.csv\".format(i), index=False)\n",
    "    shap_values_data = pd.DataFrame(shap_values.data, columns=X_scaled_train_2.columns)\n",
    "    shap_values_data.to_csv(\"../02 Data/SHAP result/{}_shap_values_data.csv\".format(i), index=False)\n",
    "\n",
    "    i = i + 1"
   ]
  }
 ],
 "metadata": {
  "kernelspec": {
   "display_name": "Python 3 (ipykernel)",
   "language": "python",
   "name": "python3"
  },
  "language_info": {
   "codemirror_mode": {
    "name": "ipython",
    "version": 3
   },
   "file_extension": ".py",
   "mimetype": "text/x-python",
   "name": "python",
   "nbconvert_exporter": "python",
   "pygments_lexer": "ipython3",
   "version": "3.12.3"
  }
 },
 "nbformat": 4,
 "nbformat_minor": 5
}
