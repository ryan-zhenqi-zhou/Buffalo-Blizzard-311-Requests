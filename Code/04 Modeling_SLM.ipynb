{
 "cells": [
  {
   "cell_type": "code",
   "execution_count": 3,
   "id": "f91f63ef",
   "metadata": {},
   "outputs": [],
   "source": [
    "import pandas as pd\n",
    "import numpy as np\n",
    "import geopandas as gpd\n",
    "from pysal.model import mgwr\n",
    "# from sklearn.preprocessing import StandardScaler\n",
    "from sklearn.model_selection import KFold\n",
    "from sklearn.metrics import r2_score\n",
    "from sklearn.metrics import mean_squared_error\n",
    "import matplotlib.pyplot as plt\n",
    "import seaborn as sns\n",
    "\n",
    "import statsmodels.api as sm\n",
    "import matplotlib\n",
    "\n",
    "import libpysal\n",
    "import spreg\n",
    "import esda\n",
    "\n",
    "import os"
   ]
  },
  {
   "cell_type": "code",
   "execution_count": 4,
   "id": "b1cba27c",
   "metadata": {},
   "outputs": [],
   "source": [
    "df = pd.read_csv(\"../data/modeling.csv\")\n",
    "gdf = gpd.read_file(\"../data/shp/merge_all.shp\")"
   ]
  },
  {
   "cell_type": "code",
   "execution_count": 5,
   "id": "e34234ec",
   "metadata": {},
   "outputs": [
    {
     "data": {
      "text/plain": [
       "286"
      ]
     },
     "execution_count": 5,
     "metadata": {},
     "output_type": "execute_result"
    }
   ],
   "source": [
    "df['Geography'] = df['Geography'].astype(str)\n",
    "merge = pd.merge(gdf, df, left_on=\"geoid20\", right_on=\"Geography\", how=\"right\")\n",
    "\n",
    "len(merge)"
   ]
  },
  {
   "cell_type": "code",
   "execution_count": 6,
   "id": "4c7c0866",
   "metadata": {},
   "outputs": [
    {
     "name": "stdout",
     "output_type": "stream",
     "text": [
      "moran I: 0.2107144748390494\n"
     ]
    },
    {
     "name": "stderr",
     "output_type": "stream",
     "text": [
      "C:\\Users\\ryanz\\AppData\\Local\\Temp\\ipykernel_19332\\547899020.py:38: FutureWarning: `use_index` defaults to False but will default to True in future. Set True/False directly to control this behavior and silence this warning\n",
      "  w = libpysal.weights.Queen.from_dataframe(merge)\n"
     ]
    }
   ],
   "source": [
    "x_1 = merge[[\n",
    "        'Geography',\n",
    "         'his_num_311_per_property',\n",
    "         'neighbor_his_num_per_property',\n",
    "         'snow_depth',\n",
    "         'percent_below_poverty',\n",
    "         'percent_civilian_unemployed',\n",
    "         'per_capita_income',\n",
    "         'percent_no_highschool',\n",
    "         'percent_65older',\n",
    "         'percent_17younger',\n",
    "         'percent_household_disability',\n",
    "         'percent_single_parent_household',\n",
    "         'percent_minority',\n",
    "         'percent_notwell_english',\n",
    "         'percent_singleunits',\n",
    "         'percent_multiunit',\n",
    "         'percent_mobile_homes',\n",
    "         'percent_owneroccupiedunit',\n",
    "         'percent_crowding',\n",
    "         'percent_group_quarters',\n",
    "         'median_year_properties_built',\n",
    "         'median_value_properties_built',\n",
    "         'percent_no_vehicle',\n",
    "         '311_index_per_property'\n",
    "        ]]\n",
    "\n",
    "x_1 = x_1.set_index(\"Geography\")\n",
    "y = x_1.pop(\"311_index_per_property\")\n",
    "\n",
    "# Standardization function\n",
    "def standarize_data(data, stats):\n",
    "    return (data - stats['mean'])/ stats['std']\n",
    "\n",
    "x_1_stats = x_1.describe().transpose()\n",
    "x_2 = standarize_data(x_1,x_1_stats)\n",
    "\n",
    "w = libpysal.weights.Queen.from_dataframe(merge)\n",
    "moran = esda.Moran(merge[\"311_index_per_property\"], w)\n",
    "print(\"moran I: \" + str(moran.I))\n",
    "\n",
    "y_name = \"311_index_per_property\"\n",
    "y = np.array(merge[\"311_index_per_property\"]).T\n",
    "\n",
    "x_names = [\n",
    "         'his_num_311_per_property',\n",
    "         'neighbor_his_num_per_property',\n",
    "         'snow_depth',\n",
    "         'percent_below_poverty',\n",
    "         'percent_civilian_unemployed',\n",
    "         'per_capita_income',\n",
    "         'percent_no_highschool',\n",
    "         'percent_65older',\n",
    "         'percent_17younger',\n",
    "         'percent_household_disability',\n",
    "         'percent_single_parent_household',\n",
    "         'percent_minority',\n",
    "         'percent_notwell_english',\n",
    "         'percent_singleunits',\n",
    "         'percent_multiunit',\n",
    "         'percent_mobile_homes',\n",
    "         'percent_owneroccupiedunit',\n",
    "         'percent_crowding',\n",
    "         'percent_group_quarters',\n",
    "         'median_year_properties_built',\n",
    "         'median_value_properties_built',\n",
    "         'percent_no_vehicle'\n",
    "]\n",
    "\n",
    "x = np.array([x_2[var] for var in x_names]).T\n",
    "\n",
    "# lag model\n",
    "lag_model = spreg.ML_Lag(\n",
    "    y,\n",
    "    x,\n",
    "    w=w,\n",
    "    name_y=y_name,\n",
    "    name_x=x_names\n",
    ")"
   ]
  },
  {
   "cell_type": "code",
   "execution_count": 7,
   "id": "52852078",
   "metadata": {},
   "outputs": [
    {
     "data": {
      "text/plain": [
       "0.5503878771787745"
      ]
     },
     "execution_count": 7,
     "metadata": {},
     "output_type": "execute_result"
    }
   ],
   "source": [
    "lag_model.pr2"
   ]
  },
  {
   "cell_type": "code",
   "execution_count": 8,
   "id": "24c92984",
   "metadata": {},
   "outputs": [
    {
     "name": "stdout",
     "output_type": "stream",
     "text": [
      "RMSE of GWR:  3.5681180959567116\n"
     ]
    },
    {
     "name": "stderr",
     "output_type": "stream",
     "text": [
      "C:\\Users\\ryanz\\anaconda3\\envs\\blizzard\\Lib\\site-packages\\sklearn\\metrics\\_regression.py:483: FutureWarning: 'squared' is deprecated in version 1.4 and will be removed in 1.6. To calculate the root mean squared error, use the function'root_mean_squared_error'.\n",
      "  warnings.warn(\n"
     ]
    }
   ],
   "source": [
    "y_pred = lag_model.predy\n",
    "rmse = mean_squared_error(y , y_pred, squared=False)\n",
    "print(\"RMSE of GWR: \", rmse)"
   ]
  },
  {
   "cell_type": "code",
   "execution_count": 9,
   "id": "bef948b9",
   "metadata": {},
   "outputs": [
    {
     "name": "stdout",
     "output_type": "stream",
     "text": [
      "REGRESSION RESULTS\n",
      "------------------\n",
      "\n",
      "SUMMARY OF OUTPUT: MAXIMUM LIKELIHOOD SPATIAL LAG (METHOD = FULL)\n",
      "-----------------------------------------------------------------\n",
      "Data set            :     unknown\n",
      "Weights matrix      :     unknown\n",
      "Dependent Variable  :311_index_per_property                Number of Observations:         286\n",
      "Mean dependent var  :     10.9277                Number of Variables   :          24\n",
      "S.D. dependent var  :      5.3303                Degrees of Freedom    :         262\n",
      "Pseudo R-squared    :      0.5504\n",
      "Spatial Pseudo R-squared:  0.5346\n",
      "Log likelihood      :   -771.3945\n",
      "Sigma-square ML     :     12.7315                Akaike info criterion :    1590.789\n",
      "S.E of regression   :      3.5681                Schwarz criterion     :    1678.533\n",
      "\n",
      "------------------------------------------------------------------------------------\n",
      "            Variable     Coefficient       Std.Error     z-Statistic     Probability\n",
      "------------------------------------------------------------------------------------\n",
      "            CONSTANT         8.07607         0.92242         8.75533         0.00000\n",
      "his_num_311_per_property         3.39981         0.25164        13.51086         0.00000\n",
      "neighbor_his_num_per_property        -0.31334         0.29218        -1.07241         0.28354\n",
      "          snow_depth         0.69668         0.27617         2.52262         0.01165\n",
      "percent_below_poverty        -0.28422         0.34829        -0.81603         0.41448\n",
      "percent_civilian_unemployed        -0.01896         0.24034        -0.07890         0.93712\n",
      "   per_capita_income        -0.15706         0.39020        -0.40251         0.68731\n",
      "percent_no_highschool        -0.17968         0.28139        -0.63856         0.52311\n",
      "     percent_65older        -0.08792         0.29375        -0.29932         0.76470\n",
      "   percent_17younger        -0.50897         0.30616        -1.66243         0.09643\n",
      "percent_household_disability         0.53608         0.26632         2.01290         0.04413\n",
      "percent_single_parent_household         0.06220         0.23989         0.25927         0.79543\n",
      "    percent_minority         1.43311         0.35833         3.99935         0.00006\n",
      "percent_notwell_english        -0.16363         0.27050        -0.60491         0.54524\n",
      " percent_singleunits         0.74822         0.33569         2.22887         0.02582\n",
      "   percent_multiunit        -0.28739         0.32745        -0.87767         0.38012\n",
      "percent_mobile_homes         0.02888         0.22204         0.13006         0.89652\n",
      "percent_owneroccupiedunit        -0.84098         0.36488        -2.30483         0.02118\n",
      "    percent_crowding         0.15715         0.23966         0.65572         0.51201\n",
      "percent_group_quarters         0.17521         0.23519         0.74500         0.45627\n",
      "median_year_properties_built         0.74967         0.25672         2.92023         0.00350\n",
      "median_value_properties_built         0.29010         0.40080         0.72381         0.46919\n",
      "  percent_no_vehicle         0.02007         0.33419         0.06006         0.95211\n",
      "W_311_index_per_property         0.26004         0.08209         3.16788         0.00154\n",
      "------------------------------------------------------------------------------------\n",
      "================================ END OF REPORT =====================================\n"
     ]
    }
   ],
   "source": [
    "print(lag_model.summary)"
   ]
  }
 ],
 "metadata": {
  "kernelspec": {
   "display_name": "Python 3 (ipykernel)",
   "language": "python",
   "name": "python3"
  },
  "language_info": {
   "codemirror_mode": {
    "name": "ipython",
    "version": 3
   },
   "file_extension": ".py",
   "mimetype": "text/x-python",
   "name": "python",
   "nbconvert_exporter": "python",
   "pygments_lexer": "ipython3",
   "version": "3.12.3"
  }
 },
 "nbformat": 4,
 "nbformat_minor": 5
}
